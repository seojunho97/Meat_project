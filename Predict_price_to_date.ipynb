{
 "cells": [
  {
   "cell_type": "code",
   "execution_count": 1,
   "id": "f857faed",
   "metadata": {},
   "outputs": [],
   "source": [
    "import pandas as pd\n",
    "import numpy as np\n",
    "import matplotlib.pyplot as plt\n",
    "from sklearn.model_selection import train_test_split\n",
    "from sklearn.linear_model import LinearRegression"
   ]
  },
  {
   "cell_type": "code",
   "execution_count": 40,
   "id": "ffe463a9",
   "metadata": {},
   "outputs": [
    {
     "data": {
      "text/html": [
       "<div>\n",
       "<style scoped>\n",
       "    .dataframe tbody tr th:only-of-type {\n",
       "        vertical-align: middle;\n",
       "    }\n",
       "\n",
       "    .dataframe tbody tr th {\n",
       "        vertical-align: top;\n",
       "    }\n",
       "\n",
       "    .dataframe thead th {\n",
       "        text-align: right;\n",
       "    }\n",
       "</style>\n",
       "<table border=\"1\" class=\"dataframe\">\n",
       "  <thead>\n",
       "    <tr style=\"text-align: right;\">\n",
       "      <th></th>\n",
       "      <th>year_month</th>\n",
       "      <th>price</th>\n",
       "      <th>importation</th>\n",
       "      <th>slaughter</th>\n",
       "    </tr>\n",
       "  </thead>\n",
       "  <tbody>\n",
       "    <tr>\n",
       "      <th>0</th>\n",
       "      <td>200001</td>\n",
       "      <td>17558</td>\n",
       "      <td>15869000</td>\n",
       "      <td>121079</td>\n",
       "    </tr>\n",
       "    <tr>\n",
       "      <th>1</th>\n",
       "      <td>200002</td>\n",
       "      <td>18150</td>\n",
       "      <td>16536000</td>\n",
       "      <td>62486</td>\n",
       "    </tr>\n",
       "    <tr>\n",
       "      <th>2</th>\n",
       "      <td>200003</td>\n",
       "      <td>18032</td>\n",
       "      <td>21996000</td>\n",
       "      <td>74258</td>\n",
       "    </tr>\n",
       "    <tr>\n",
       "      <th>3</th>\n",
       "      <td>200004</td>\n",
       "      <td>16916</td>\n",
       "      <td>18384000</td>\n",
       "      <td>68224</td>\n",
       "    </tr>\n",
       "    <tr>\n",
       "      <th>4</th>\n",
       "      <td>200005</td>\n",
       "      <td>16780</td>\n",
       "      <td>19097000</td>\n",
       "      <td>90450</td>\n",
       "    </tr>\n",
       "  </tbody>\n",
       "</table>\n",
       "</div>"
      ],
      "text/plain": [
       "   year_month  price  importation  slaughter\n",
       "0      200001  17558     15869000     121079\n",
       "1      200002  18150     16536000      62486\n",
       "2      200003  18032     21996000      74258\n",
       "3      200004  16916     18384000      68224\n",
       "4      200005  16780     19097000      90450"
      ]
     },
     "execution_count": 40,
     "metadata": {},
     "output_type": "execute_result"
    }
   ],
   "source": [
    "# 데이터 불러오기\n",
    "df_price = pd.read_excel('result.xlsx')\n",
    "df_price.head()"
   ]
  },
  {
   "cell_type": "code",
   "execution_count": 77,
   "id": "72e43087",
   "metadata": {},
   "outputs": [],
   "source": [
    "# data,target 설정\n",
    "data = df_price['year_month']\n",
    "target = df_price['price']"
   ]
  },
  {
   "cell_type": "code",
   "execution_count": 78,
   "id": "785cc982",
   "metadata": {},
   "outputs": [
    {
     "name": "stdout",
     "output_type": "stream",
     "text": [
      "(252,)\n",
      "(252,)\n"
     ]
    }
   ],
   "source": [
    "print(data.shape)\n",
    "print(target.shape)"
   ]
  },
  {
   "cell_type": "code",
   "execution_count": 79,
   "id": "19a41ca8",
   "metadata": {},
   "outputs": [],
   "source": [
    "# 계산하기 위해 2차원 배열로 변환\n",
    "data = np.array(data).reshape(-1,1)"
   ]
  },
  {
   "cell_type": "code",
   "execution_count": 80,
   "id": "f0e59a4d",
   "metadata": {},
   "outputs": [
    {
     "data": {
      "text/plain": [
       "array([[200001],\n",
       "       [200002],\n",
       "       [200003],\n",
       "       [200004],\n",
       "       [200005],\n",
       "       [200006],\n",
       "       [200007],\n",
       "       [200008],\n",
       "       [200009],\n",
       "       [200010],\n",
       "       [200011],\n",
       "       [200012],\n",
       "       [200101],\n",
       "       [200102],\n",
       "       [200103],\n",
       "       [200104],\n",
       "       [200105],\n",
       "       [200106],\n",
       "       [200107],\n",
       "       [200108],\n",
       "       [200109],\n",
       "       [200110],\n",
       "       [200111],\n",
       "       [200112],\n",
       "       [200201],\n",
       "       [200202],\n",
       "       [200203],\n",
       "       [200204],\n",
       "       [200205],\n",
       "       [200206],\n",
       "       [200207],\n",
       "       [200208],\n",
       "       [200209],\n",
       "       [200210],\n",
       "       [200211],\n",
       "       [200212],\n",
       "       [200301],\n",
       "       [200302],\n",
       "       [200303],\n",
       "       [200304],\n",
       "       [200305],\n",
       "       [200306],\n",
       "       [200307],\n",
       "       [200308],\n",
       "       [200309],\n",
       "       [200310],\n",
       "       [200311],\n",
       "       [200312],\n",
       "       [200401],\n",
       "       [200402],\n",
       "       [200403],\n",
       "       [200404],\n",
       "       [200405],\n",
       "       [200406],\n",
       "       [200407],\n",
       "       [200408],\n",
       "       [200409],\n",
       "       [200410],\n",
       "       [200411],\n",
       "       [200412],\n",
       "       [200501],\n",
       "       [200502],\n",
       "       [200503],\n",
       "       [200504],\n",
       "       [200505],\n",
       "       [200506],\n",
       "       [200507],\n",
       "       [200508],\n",
       "       [200509],\n",
       "       [200510],\n",
       "       [200511],\n",
       "       [200512],\n",
       "       [200601],\n",
       "       [200602],\n",
       "       [200603],\n",
       "       [200604],\n",
       "       [200605],\n",
       "       [200606],\n",
       "       [200607],\n",
       "       [200608],\n",
       "       [200609],\n",
       "       [200610],\n",
       "       [200611],\n",
       "       [200612],\n",
       "       [200701],\n",
       "       [200702],\n",
       "       [200703],\n",
       "       [200704],\n",
       "       [200705],\n",
       "       [200706],\n",
       "       [200707],\n",
       "       [200708],\n",
       "       [200709],\n",
       "       [200710],\n",
       "       [200711],\n",
       "       [200712],\n",
       "       [200801],\n",
       "       [200802],\n",
       "       [200803],\n",
       "       [200804],\n",
       "       [200805],\n",
       "       [200806],\n",
       "       [200807],\n",
       "       [200808],\n",
       "       [200809],\n",
       "       [200810],\n",
       "       [200811],\n",
       "       [200812],\n",
       "       [200901],\n",
       "       [200902],\n",
       "       [200903],\n",
       "       [200904],\n",
       "       [200905],\n",
       "       [200906],\n",
       "       [200907],\n",
       "       [200908],\n",
       "       [200909],\n",
       "       [200910],\n",
       "       [200911],\n",
       "       [200912],\n",
       "       [201001],\n",
       "       [201002],\n",
       "       [201003],\n",
       "       [201004],\n",
       "       [201005],\n",
       "       [201006],\n",
       "       [201007],\n",
       "       [201008],\n",
       "       [201009],\n",
       "       [201010],\n",
       "       [201011],\n",
       "       [201012],\n",
       "       [201101],\n",
       "       [201102],\n",
       "       [201103],\n",
       "       [201104],\n",
       "       [201105],\n",
       "       [201106],\n",
       "       [201107],\n",
       "       [201108],\n",
       "       [201109],\n",
       "       [201110],\n",
       "       [201111],\n",
       "       [201112],\n",
       "       [201201],\n",
       "       [201202],\n",
       "       [201203],\n",
       "       [201204],\n",
       "       [201205],\n",
       "       [201206],\n",
       "       [201207],\n",
       "       [201208],\n",
       "       [201209],\n",
       "       [201210],\n",
       "       [201211],\n",
       "       [201212],\n",
       "       [201301],\n",
       "       [201302],\n",
       "       [201303],\n",
       "       [201304],\n",
       "       [201305],\n",
       "       [201306],\n",
       "       [201307],\n",
       "       [201308],\n",
       "       [201309],\n",
       "       [201310],\n",
       "       [201311],\n",
       "       [201312],\n",
       "       [201401],\n",
       "       [201402],\n",
       "       [201403],\n",
       "       [201404],\n",
       "       [201405],\n",
       "       [201406],\n",
       "       [201407],\n",
       "       [201408],\n",
       "       [201409],\n",
       "       [201410],\n",
       "       [201411],\n",
       "       [201412],\n",
       "       [201501],\n",
       "       [201502],\n",
       "       [201503],\n",
       "       [201504],\n",
       "       [201505],\n",
       "       [201506],\n",
       "       [201507],\n",
       "       [201508],\n",
       "       [201509],\n",
       "       [201510],\n",
       "       [201511],\n",
       "       [201512],\n",
       "       [201601],\n",
       "       [201602],\n",
       "       [201603],\n",
       "       [201604],\n",
       "       [201605],\n",
       "       [201606],\n",
       "       [201607],\n",
       "       [201608],\n",
       "       [201609],\n",
       "       [201610],\n",
       "       [201611],\n",
       "       [201612],\n",
       "       [201701],\n",
       "       [201702],\n",
       "       [201703],\n",
       "       [201704],\n",
       "       [201705],\n",
       "       [201706],\n",
       "       [201707],\n",
       "       [201708],\n",
       "       [201709],\n",
       "       [201710],\n",
       "       [201711],\n",
       "       [201712],\n",
       "       [201801],\n",
       "       [201802],\n",
       "       [201803],\n",
       "       [201804],\n",
       "       [201805],\n",
       "       [201806],\n",
       "       [201807],\n",
       "       [201808],\n",
       "       [201809],\n",
       "       [201810],\n",
       "       [201811],\n",
       "       [201812],\n",
       "       [201901],\n",
       "       [201902],\n",
       "       [201903],\n",
       "       [201904],\n",
       "       [201905],\n",
       "       [201906],\n",
       "       [201907],\n",
       "       [201908],\n",
       "       [201909],\n",
       "       [201910],\n",
       "       [201911],\n",
       "       [201912],\n",
       "       [202001],\n",
       "       [202002],\n",
       "       [202003],\n",
       "       [202004],\n",
       "       [202005],\n",
       "       [202006],\n",
       "       [202007],\n",
       "       [202008],\n",
       "       [202009],\n",
       "       [202010],\n",
       "       [202011],\n",
       "       [202012]], dtype=int64)"
      ]
     },
     "execution_count": 80,
     "metadata": {},
     "output_type": "execute_result"
    }
   ],
   "source": [
    "data"
   ]
  },
  {
   "cell_type": "code",
   "execution_count": 81,
   "id": "e7ee404a",
   "metadata": {},
   "outputs": [
    {
     "name": "stdout",
     "output_type": "stream",
     "text": [
      "(252, 1)\n"
     ]
    }
   ],
   "source": [
    "print(data.shape)"
   ]
  },
  {
   "cell_type": "markdown",
   "id": "eac11ba1",
   "metadata": {},
   "source": [
    "### data split"
   ]
  },
  {
   "cell_type": "code",
   "execution_count": 82,
   "id": "e748a3d0",
   "metadata": {},
   "outputs": [],
   "source": [
    "train_data, test_data, train_target, test_target = train_test_split(\n",
    "data, target, test_size=0.3\n",
    ")"
   ]
  },
  {
   "cell_type": "code",
   "execution_count": 83,
   "id": "1d1dc665",
   "metadata": {},
   "outputs": [
    {
     "data": {
      "text/plain": [
       "(176, 176, 76, 76)"
      ]
     },
     "execution_count": 83,
     "metadata": {},
     "output_type": "execute_result"
    }
   ],
   "source": [
    "len(train_data), len(train_target), len(test_data), len(test_target)"
   ]
  },
  {
   "cell_type": "markdown",
   "id": "b792a3de",
   "metadata": {},
   "source": [
    "# Linear Regression"
   ]
  },
  {
   "cell_type": "code",
   "execution_count": null,
   "id": "82712b22",
   "metadata": {},
   "outputs": [],
   "source": [
    "model = LinearRegression()"
   ]
  },
  {
   "cell_type": "code",
   "execution_count": 179,
   "id": "cb065e67",
   "metadata": {},
   "outputs": [
    {
     "data": {
      "text/plain": [
       "LinearRegression()"
      ]
     },
     "execution_count": 179,
     "metadata": {},
     "output_type": "execute_result"
    }
   ],
   "source": [
    "# model 학습\n",
    "model.fit(train_data, train_target)"
   ]
  },
  {
   "cell_type": "code",
   "execution_count": 86,
   "id": "fbcff900",
   "metadata": {},
   "outputs": [
    {
     "data": {
      "text/plain": [
       "-1393486.135609171"
      ]
     },
     "execution_count": 86,
     "metadata": {},
     "output_type": "execute_result"
    }
   ],
   "source": [
    "# bias 값\n",
    "model.intercept_"
   ]
  },
  {
   "cell_type": "code",
   "execution_count": 87,
   "id": "5ac5e9b1",
   "metadata": {},
   "outputs": [
    {
     "data": {
      "text/plain": [
       "array([7.09017538])"
      ]
     },
     "execution_count": 87,
     "metadata": {},
     "output_type": "execute_result"
    }
   ],
   "source": [
    "# weight 값\n",
    "model.coef_"
   ]
  },
  {
   "cell_type": "code",
   "execution_count": 88,
   "id": "79d821ae",
   "metadata": {},
   "outputs": [
    {
     "data": {
      "text/plain": [
       "array([30986.81928108, 30299.07226939, 27455.91194272, 28122.38842827,\n",
       "       36637.68905753, 28810.13543996, 35205.47363113, 30256.53121712,\n",
       "       31710.01716966, 38091.17501007, 28179.1098313 , 32426.12488286,\n",
       "       35226.74415726, 33851.25013389, 35240.92450802, 30937.18805343,\n",
       "       28845.58631685, 36658.95958367, 37389.24764763, 31674.56629277,\n",
       "       26030.78669169, 38757.65149563, 28164.92948054, 28852.67649223,\n",
       "       38800.19254789, 25988.24563943, 37332.5262446 , 29547.5136793 ,\n",
       "       30284.89191864, 27463.0021181 , 29597.14490695, 30277.80174326,\n",
       "       33837.06978313, 38084.08483469, 29533.33332854, 25272.13792622,\n",
       "       36630.59888215, 29568.78420543, 37353.79677073, 25286.31827698,\n",
       "       26683.08282649, 32404.85435673, 35233.83433264, 37396.337823  ,\n",
       "       38814.37289865, 27441.73159196, 29590.05473157, 37346.70659536,\n",
       "       24605.66144067, 33822.88943237, 24598.57126529, 38062.81430856,\n",
       "       31667.47611739, 31695.8368189 , 27392.10036432, 35964.1223966 ,\n",
       "       25995.3358148 , 33078.42101766, 33106.78171917, 30993.90945646,\n",
       "       32411.94453211, 34531.9069702 , 26037.87686707, 32390.67400597,\n",
       "       35949.94204584, 35935.76169509, 33085.51119304, 30228.17051561,\n",
       "       24612.75161605, 32362.31330446, 34560.26767171, 38076.99465931,\n",
       "       38098.26518545, 33773.25820473, 34546.08732095, 25321.76915387])"
      ]
     },
     "execution_count": 88,
     "metadata": {},
     "output_type": "execute_result"
    }
   ],
   "source": [
    "# 모델 예측\n",
    "model.predict(test_data)"
   ]
  },
  {
   "cell_type": "markdown",
   "id": "8759b676",
   "metadata": {},
   "source": [
    "### 모델 평가"
   ]
  },
  {
   "cell_type": "code",
   "execution_count": 89,
   "id": "abc6e939",
   "metadata": {},
   "outputs": [],
   "source": [
    "from sklearn.metrics import mean_squared_error"
   ]
  },
  {
   "cell_type": "code",
   "execution_count": 90,
   "id": "d9ca4c81",
   "metadata": {},
   "outputs": [],
   "source": [
    "train_pred = model.predict(train_data)\n",
    "test_pred = model.predict(test_data)\n",
    "\n",
    "train_mse = mean_squared_error(train_pred, train_target)\n",
    "test_mse = mean_squared_error(test_pred, test_target)"
   ]
  },
  {
   "cell_type": "code",
   "execution_count": 91,
   "id": "47c32e19",
   "metadata": {},
   "outputs": [
    {
     "name": "stdout",
     "output_type": "stream",
     "text": [
      "76441927.71407837\n",
      "69012333.24178104\n"
     ]
    }
   ],
   "source": [
    "print(train_mse)\n",
    "print(test_mse)"
   ]
  },
  {
   "cell_type": "code",
   "execution_count": 92,
   "id": "f0a6793e",
   "metadata": {},
   "outputs": [
    {
     "name": "stdout",
     "output_type": "stream",
     "text": [
      "8743.107440382873\n",
      "8307.366203664134\n"
     ]
    }
   ],
   "source": [
    "# 가독성을 위해 rms 적용\n",
    "print(train_mse**(1/2))\n",
    "print(test_mse**(1/2))"
   ]
  },
  {
   "cell_type": "code",
   "execution_count": 93,
   "id": "c83c683b",
   "metadata": {
    "scrolled": true
   },
   "outputs": [
    {
     "name": "stdout",
     "output_type": "stream",
     "text": [
      "[29582.96455619 24556.03021302 30306.16244477 24619.84179143\n",
      " 33142.23259606 28866.85684299 36687.32028518 25335.94950463\n",
      " 38055.72413318 26044.96704245]\n",
      "93     47812\n",
      "0      17558\n",
      "107    33880\n",
      "9      16834\n",
      "155    21000\n",
      "80     38528\n",
      "215    47230\n",
      "22     22016\n",
      "232    42950\n",
      "34     30316\n",
      "Name: price, dtype: int64\n"
     ]
    }
   ],
   "source": [
    "print(train_pred[:10])\n",
    "print(train_target[:10])"
   ]
  },
  {
   "cell_type": "markdown",
   "id": "d05cd502",
   "metadata": {},
   "source": [
    "# Logistic Regression"
   ]
  },
  {
   "cell_type": "code",
   "execution_count": 94,
   "id": "81f71016",
   "metadata": {},
   "outputs": [],
   "source": [
    "from sklearn.linear_model import LogisticRegression"
   ]
  },
  {
   "cell_type": "code",
   "execution_count": 113,
   "id": "6452d1c7",
   "metadata": {},
   "outputs": [],
   "source": [
    "data = df_price['year_month']\n",
    "target = df_price['price']"
   ]
  },
  {
   "cell_type": "code",
   "execution_count": 114,
   "id": "32358a18",
   "metadata": {},
   "outputs": [],
   "source": [
    "data = np.array(data).reshape(-1,1)"
   ]
  },
  {
   "cell_type": "code",
   "execution_count": 115,
   "id": "a27b72f1",
   "metadata": {},
   "outputs": [
    {
     "name": "stdout",
     "output_type": "stream",
     "text": [
      "176\n",
      "76\n"
     ]
    }
   ],
   "source": [
    "train_data, test_data, train_target, test_target = train_test_split(\n",
    "    data, target, train_size=0.7, random_state=2022\n",
    ")\n",
    "print(len(train_data))\n",
    "print(len(test_data))"
   ]
  },
  {
   "cell_type": "code",
   "execution_count": 116,
   "id": "25c3c5ec",
   "metadata": {},
   "outputs": [],
   "source": [
    "from sklearn.preprocessing import StandardScaler\n",
    "scaler = StandardScaler()"
   ]
  },
  {
   "cell_type": "code",
   "execution_count": 117,
   "id": "0d4418cb",
   "metadata": {},
   "outputs": [],
   "source": [
    "scaler.fit(train_data)\n",
    "scaled_train_data = scaler.transform(train_data)\n",
    "scaled_test_data = scaler.transform(test_data)"
   ]
  },
  {
   "cell_type": "code",
   "execution_count": 118,
   "id": "cf8d02c2",
   "metadata": {},
   "outputs": [
    {
     "data": {
      "text/plain": [
       "LogisticRegression()"
      ]
     },
     "execution_count": 118,
     "metadata": {},
     "output_type": "execute_result"
    }
   ],
   "source": [
    "logit_regression = LogisticRegression()\n",
    "logit_regression.fit(scaled_train_data, train_target)"
   ]
  },
  {
   "cell_type": "code",
   "execution_count": 119,
   "id": "7bd9a629",
   "metadata": {},
   "outputs": [],
   "source": [
    "train_pred = logit_regression.predict(scaled_train_data)\n",
    "test_pred = logit_regression.predict(scaled_test_data)"
   ]
  },
  {
   "cell_type": "code",
   "execution_count": 120,
   "id": "27316bca",
   "metadata": {},
   "outputs": [
    {
     "data": {
      "text/plain": [
       "array([31200, 21000, 22570, 31200, 22570, 22570, 31200, 31200, 21000,\n",
       "       31200], dtype=int64)"
      ]
     },
     "execution_count": 120,
     "metadata": {},
     "output_type": "execute_result"
    }
   ],
   "source": [
    "train_pred[:10]"
   ]
  },
  {
   "cell_type": "code",
   "execution_count": 121,
   "id": "ab8b72af",
   "metadata": {},
   "outputs": [
    {
     "data": {
      "text/plain": [
       "68     37782\n",
       "105    33956\n",
       "155    21000\n",
       "78     37142\n",
       "193    28000\n",
       "209    45750\n",
       "25     30120\n",
       "4      16780\n",
       "120    30360\n",
       "31     28836\n",
       "Name: price, dtype: int64"
      ]
     },
     "execution_count": 121,
     "metadata": {},
     "output_type": "execute_result"
    }
   ],
   "source": [
    "train_target[:10]"
   ]
  },
  {
   "cell_type": "markdown",
   "id": "5467c449",
   "metadata": {},
   "source": [
    "### 정확도 측정"
   ]
  },
  {
   "cell_type": "code",
   "execution_count": 122,
   "id": "2539305b",
   "metadata": {},
   "outputs": [],
   "source": [
    "from sklearn.metrics import accuracy_score"
   ]
  },
  {
   "cell_type": "code",
   "execution_count": 123,
   "id": "ed19cfe6",
   "metadata": {},
   "outputs": [
    {
     "name": "stdout",
     "output_type": "stream",
     "text": [
      "train_acc is 0.08\n",
      "test_acc is 0.08\n"
     ]
    }
   ],
   "source": [
    "train_acc = accuracy_score(train_target, train_pred)\n",
    "test_acc = accuracy_score(test_target, test_pred)\n",
    "print(f'train_acc is {train_acc:.2f}')\n",
    "print(f'test_acc is {test_acc:.2f}')"
   ]
  },
  {
   "cell_type": "markdown",
   "id": "ecdd6c85",
   "metadata": {},
   "source": [
    "# Hyperparameter"
   ]
  },
  {
   "cell_type": "code",
   "execution_count": 124,
   "id": "12e2321f",
   "metadata": {},
   "outputs": [],
   "source": [
    "from sklearn.model_selection import GridSearchCV"
   ]
  },
  {
   "cell_type": "code",
   "execution_count": 125,
   "id": "5a6af78a",
   "metadata": {},
   "outputs": [],
   "source": [
    "# 탐색범위 선정\n",
    "params = [\n",
    "          {\"kernel\":[\"linear\"], \"C\":[10,30,100,300,1000,3000,10000,30000]},\n",
    "          {\n",
    "            \"kernel\":[\"rbf\"],\n",
    "            \"C\":[10, 30, 100, 300, 1000],\n",
    "            \"gamma\":[0.03, 0.1, 0.3, 1.0, 3.0]\n",
    "          }\n",
    "]"
   ]
  },
  {
   "cell_type": "code",
   "execution_count": 126,
   "id": "821c80f8",
   "metadata": {},
   "outputs": [
    {
     "data": {
      "text/plain": [
       "[{'kernel': ['linear'], 'C': [10, 30, 100, 300, 1000, 3000, 10000, 30000]},\n",
       " {'kernel': ['rbf'],\n",
       "  'C': [10, 30, 100, 300, 1000],\n",
       "  'gamma': [0.03, 0.1, 0.3, 1.0, 3.0]}]"
      ]
     },
     "execution_count": 126,
     "metadata": {},
     "output_type": "execute_result"
    }
   ],
   "source": [
    "params"
   ]
  },
  {
   "cell_type": "code",
   "execution_count": 127,
   "id": "14371801",
   "metadata": {},
   "outputs": [
    {
     "name": "stderr",
     "output_type": "stream",
     "text": [
      "C:\\ProgramData\\Anaconda3\\lib\\site-packages\\sklearn\\model_selection\\_split.py:676: UserWarning: The least populated class in y has only 1 members, which is less than n_splits=3.\n",
      "  warnings.warn(\n"
     ]
    },
    {
     "data": {
      "text/plain": [
       "GridSearchCV(cv=3, estimator=SVC(), n_jobs=-1,\n",
       "             param_grid=[{'C': [10, 30, 100, 300, 1000, 3000, 10000, 30000],\n",
       "                          'kernel': ['linear']},\n",
       "                         {'C': [10, 30, 100, 300, 1000],\n",
       "                          'gamma': [0.03, 0.1, 0.3, 1.0, 3.0],\n",
       "                          'kernel': ['rbf']}])"
      ]
     },
     "execution_count": 127,
     "metadata": {},
     "output_type": "execute_result"
    }
   ],
   "source": [
    "# 탐색 수행\n",
    "from sklearn.svm import SVC\n",
    "svm = SVC()\n",
    "grid_cv = GridSearchCV(svm, params, cv=3, n_jobs=-1)\n",
    "grid_cv.fit(scaled_train_data, train_target)"
   ]
  },
  {
   "cell_type": "code",
   "execution_count": 128,
   "id": "06b6ec85",
   "metadata": {},
   "outputs": [
    {
     "data": {
      "text/plain": [
       "{'C': 10000, 'kernel': 'linear'}"
      ]
     },
     "execution_count": 128,
     "metadata": {},
     "output_type": "execute_result"
    }
   ],
   "source": [
    "# 결과\n",
    "# Optimized parameter\n",
    "grid_cv.best_params_"
   ]
  },
  {
   "cell_type": "code",
   "execution_count": 129,
   "id": "c51c83de",
   "metadata": {},
   "outputs": [],
   "source": [
    "# Optimized model\n",
    "train_pred = grid_cv.best_estimator_.predict(scaled_train_data)\n",
    "test_pred = grid_cv.best_estimator_.predict(scaled_test_data)"
   ]
  },
  {
   "cell_type": "code",
   "execution_count": 131,
   "id": "72a9cf3b",
   "metadata": {},
   "outputs": [
    {
     "name": "stdout",
     "output_type": "stream",
     "text": [
      "best_train_acc is 0.81\n",
      "best_test_acc is 0.22\n"
     ]
    }
   ],
   "source": [
    "best_train_acc = accuracy_score(train_target, train_pred)\n",
    "best_test_acc = accuracy_score(test_target, test_pred)\n",
    "print(f'best_train_acc is {best_train_acc:.2f}')\n",
    "print(f'best_test_acc is {best_test_acc:.2f}')"
   ]
  },
  {
   "cell_type": "markdown",
   "id": "f1431142",
   "metadata": {},
   "source": [
    "# Boosting_Regression"
   ]
  },
  {
   "cell_type": "code",
   "execution_count": 132,
   "id": "b4ccbcdb",
   "metadata": {
    "collapsed": true
   },
   "outputs": [
    {
     "name": "stdout",
     "output_type": "stream",
     "text": [
      "Collecting catboost\n",
      "  Downloading catboost-1.0.6-cp39-none-win_amd64.whl (73.9 MB)\n",
      "Requirement already satisfied: matplotlib in c:\\programdata\\anaconda3\\lib\\site-packages (from catboost) (3.5.1)\n",
      "Requirement already satisfied: scipy in c:\\programdata\\anaconda3\\lib\\site-packages (from catboost) (1.7.3)\n",
      "Collecting graphviz\n",
      "  Downloading graphviz-0.20-py3-none-any.whl (46 kB)\n",
      "Requirement already satisfied: pandas>=0.24.0 in c:\\programdata\\anaconda3\\lib\\site-packages (from catboost) (1.4.2)\n",
      "Requirement already satisfied: numpy>=1.16.0 in c:\\programdata\\anaconda3\\lib\\site-packages (from catboost) (1.21.5)\n",
      "Requirement already satisfied: six in c:\\programdata\\anaconda3\\lib\\site-packages (from catboost) (1.16.0)\n",
      "Requirement already satisfied: plotly in c:\\programdata\\anaconda3\\lib\\site-packages (from catboost) (5.6.0)\n",
      "Requirement already satisfied: python-dateutil>=2.8.1 in c:\\programdata\\anaconda3\\lib\\site-packages (from pandas>=0.24.0->catboost) (2.8.2)\n",
      "Requirement already satisfied: pytz>=2020.1 in c:\\programdata\\anaconda3\\lib\\site-packages (from pandas>=0.24.0->catboost) (2021.3)\n",
      "Requirement already satisfied: kiwisolver>=1.0.1 in c:\\programdata\\anaconda3\\lib\\site-packages (from matplotlib->catboost) (1.3.2)\n",
      "Requirement already satisfied: packaging>=20.0 in c:\\programdata\\anaconda3\\lib\\site-packages (from matplotlib->catboost) (21.3)\n",
      "Requirement already satisfied: pyparsing>=2.2.1 in c:\\programdata\\anaconda3\\lib\\site-packages (from matplotlib->catboost) (3.0.4)\n",
      "Requirement already satisfied: pillow>=6.2.0 in c:\\programdata\\anaconda3\\lib\\site-packages (from matplotlib->catboost) (9.0.1)\n",
      "Requirement already satisfied: cycler>=0.10 in c:\\programdata\\anaconda3\\lib\\site-packages (from matplotlib->catboost) (0.11.0)\n",
      "Requirement already satisfied: fonttools>=4.22.0 in c:\\programdata\\anaconda3\\lib\\site-packages (from matplotlib->catboost) (4.25.0)\n",
      "Requirement already satisfied: tenacity>=6.2.0 in c:\\programdata\\anaconda3\\lib\\site-packages (from plotly->catboost) (8.0.1)\n",
      "Installing collected packages: graphviz, catboost\n",
      "Successfully installed catboost-1.0.6 graphviz-0.20\n"
     ]
    }
   ],
   "source": [
    "!pip install catboost"
   ]
  },
  {
   "cell_type": "code",
   "execution_count": 133,
   "id": "33b21006",
   "metadata": {},
   "outputs": [],
   "source": [
    "data, target = df_price[\"year_month\"], df_price[\"price\"]"
   ]
  },
  {
   "cell_type": "markdown",
   "id": "1472c5ed",
   "metadata": {},
   "source": [
    "### 1.Data Split"
   ]
  },
  {
   "cell_type": "code",
   "execution_count": 147,
   "id": "b789cb6f",
   "metadata": {},
   "outputs": [],
   "source": [
    "data = np.array(data).reshape(-1,1)"
   ]
  },
  {
   "cell_type": "code",
   "execution_count": 150,
   "id": "343ca62f",
   "metadata": {},
   "outputs": [],
   "source": [
    "train_data, test_data, train_target, test_target = train_test_split(\n",
    "    data, target, train_size=0.7, random_state=2021\n",
    ")"
   ]
  },
  {
   "cell_type": "markdown",
   "id": "3359f78d",
   "metadata": {},
   "source": [
    "## 2. XGBoost"
   ]
  },
  {
   "cell_type": "code",
   "execution_count": 136,
   "id": "3d1f2f5b",
   "metadata": {
    "collapsed": true
   },
   "outputs": [
    {
     "name": "stdout",
     "output_type": "stream",
     "text": [
      "Collecting xgboost\n",
      "  Downloading xgboost-1.6.1-py3-none-win_amd64.whl (125.4 MB)\n",
      "Requirement already satisfied: numpy in c:\\programdata\\anaconda3\\lib\\site-packages (from xgboost) (1.21.5)\n",
      "Requirement already satisfied: scipy in c:\\programdata\\anaconda3\\lib\\site-packages (from xgboost) (1.7.3)\n",
      "Installing collected packages: xgboost\n",
      "Successfully installed xgboost-1.6.1\n"
     ]
    }
   ],
   "source": [
    "!pip install xgboost"
   ]
  },
  {
   "cell_type": "code",
   "execution_count": 151,
   "id": "9c534545",
   "metadata": {},
   "outputs": [],
   "source": [
    "import xgboost as xgb\n",
    "\n",
    "\n",
    "xgb_reg = xgb.XGBRegressor()"
   ]
  },
  {
   "cell_type": "markdown",
   "id": "c5eab27b",
   "metadata": {},
   "source": [
    "### 2.1 학습"
   ]
  },
  {
   "cell_type": "code",
   "execution_count": 152,
   "id": "f83d83d0",
   "metadata": {},
   "outputs": [
    {
     "data": {
      "text/plain": [
       "XGBRegressor(base_score=0.5, booster='gbtree', callbacks=None,\n",
       "             colsample_bylevel=1, colsample_bynode=1, colsample_bytree=1,\n",
       "             early_stopping_rounds=None, enable_categorical=False,\n",
       "             eval_metric=None, gamma=0, gpu_id=-1, grow_policy='depthwise',\n",
       "             importance_type=None, interaction_constraints='',\n",
       "             learning_rate=0.300000012, max_bin=256, max_cat_to_onehot=4,\n",
       "             max_delta_step=0, max_depth=6, max_leaves=0, min_child_weight=1,\n",
       "             missing=nan, monotone_constraints='()', n_estimators=100, n_jobs=0,\n",
       "             num_parallel_tree=1, predictor='auto', random_state=0, reg_alpha=0,\n",
       "             reg_lambda=1, ...)"
      ]
     },
     "execution_count": 152,
     "metadata": {},
     "output_type": "execute_result"
    }
   ],
   "source": [
    "xgb_reg.fit(train_data, train_target)"
   ]
  },
  {
   "cell_type": "markdown",
   "id": "cd28d525",
   "metadata": {},
   "source": [
    "### 2.2 예측"
   ]
  },
  {
   "cell_type": "code",
   "execution_count": 153,
   "id": "bf8f0364",
   "metadata": {},
   "outputs": [],
   "source": [
    "xgb_train_pred = xgb_reg.predict(train_data)\n",
    "xgb_test_pred = xgb_reg.predict(test_data)"
   ]
  },
  {
   "cell_type": "code",
   "execution_count": 154,
   "id": "bd9c27ac",
   "metadata": {},
   "outputs": [
    {
     "data": {
      "text/plain": [
       "Text(0, 0.5, 'target')"
      ]
     },
     "execution_count": 154,
     "metadata": {},
     "output_type": "execute_result"
    },
    {
     "data": {
      "image/png": "[encoded data removed]",
      "text/plain": [
       "<Figure size 1008x504 with 2 Axes>"
      ]
     },
     "metadata": {
      "needs_background": "light"
     },
     "output_type": "display_data"
    }
   ],
   "source": [
    "plt.figure(figsize=(14, 7))\n",
    "\n",
    "plt.subplot(121)\n",
    "plt.scatter(xgb_train_pred, train_target)\n",
    "plt.title(\"train data\")\n",
    "plt.xlabel(\"predict\")\n",
    "plt.ylabel(\"target\")\n",
    "\n",
    "plt.subplot(122)\n",
    "plt.scatter(xgb_test_pred, test_target)\n",
    "plt.title(\"test data\")\n",
    "plt.xlabel(\"predict\")\n",
    "plt.ylabel(\"target\")"
   ]
  },
  {
   "cell_type": "markdown",
   "id": "559a219c",
   "metadata": {},
   "source": [
    "### 2.3 평가"
   ]
  },
  {
   "cell_type": "code",
   "execution_count": 155,
   "id": "9513d6d4",
   "metadata": {},
   "outputs": [],
   "source": [
    "from sklearn.metrics import mean_squared_error\n",
    "\n",
    "xgb_train_mse = mean_squared_error(train_target, xgb_train_pred)\n",
    "xgb_test_mse = mean_squared_error(test_target, xgb_test_pred)"
   ]
  },
  {
   "cell_type": "code",
   "execution_count": 172,
   "id": "4e946f2a",
   "metadata": {},
   "outputs": [
    {
     "name": "stdout",
     "output_type": "stream",
     "text": [
      "XGBoost Train MSE is 32.0508\n",
      "XGBoost Test MSE is 6163.3600\n"
     ]
    }
   ],
   "source": [
    "print(f\"XGBoost Train MSE is {xgb_train_mse**(1/2):.4f}\")\n",
    "print(f\"XGBoost Test MSE is {xgb_test_mse**(1/2):.4f}\")"
   ]
  },
  {
   "cell_type": "markdown",
   "id": "6e22f53e",
   "metadata": {},
   "source": [
    "## 3. Light GBM"
   ]
  },
  {
   "cell_type": "code",
   "execution_count": 157,
   "id": "3e6f0c8b",
   "metadata": {
    "collapsed": true
   },
   "outputs": [
    {
     "name": "stdout",
     "output_type": "stream",
     "text": [
      "Requirement already satisfied: lightgbm in c:\\programdata\\anaconda3\\lib\\site-packages (3.3.2)\n",
      "Requirement already satisfied: numpy in c:\\programdata\\anaconda3\\lib\\site-packages (from lightgbm) (1.21.5)\n",
      "Requirement already satisfied: scikit-learn!=0.22.0 in c:\\programdata\\anaconda3\\lib\\site-packages (from lightgbm) (1.0.2)\n",
      "Requirement already satisfied: wheel in c:\\programdata\\anaconda3\\lib\\site-packages (from lightgbm) (0.37.1)\n",
      "Requirement already satisfied: scipy in c:\\programdata\\anaconda3\\lib\\site-packages (from lightgbm) (1.7.3)\n",
      "Requirement already satisfied: threadpoolctl>=2.0.0 in c:\\programdata\\anaconda3\\lib\\site-packages (from scikit-learn!=0.22.0->lightgbm) (2.2.0)\n",
      "Requirement already satisfied: joblib>=0.11 in c:\\programdata\\anaconda3\\lib\\site-packages (from scikit-learn!=0.22.0->lightgbm) (1.1.0)\n"
     ]
    }
   ],
   "source": [
    "!pip install lightgbm"
   ]
  },
  {
   "cell_type": "code",
   "execution_count": 159,
   "id": "7f29ad1c",
   "metadata": {},
   "outputs": [],
   "source": [
    "import lightgbm as lgb\n",
    "\n",
    "lgb_reg = lgb.LGBMRegressor()"
   ]
  },
  {
   "cell_type": "markdown",
   "id": "992a45b1",
   "metadata": {},
   "source": [
    "### 3.1 학습"
   ]
  },
  {
   "cell_type": "code",
   "execution_count": 160,
   "id": "e8f957cc",
   "metadata": {},
   "outputs": [
    {
     "data": {
      "text/plain": [
       "LGBMRegressor()"
      ]
     },
     "execution_count": 160,
     "metadata": {},
     "output_type": "execute_result"
    }
   ],
   "source": [
    "lgb_reg.fit(train_data, train_target)"
   ]
  },
  {
   "cell_type": "markdown",
   "id": "6262bcff",
   "metadata": {},
   "source": [
    "### 3.2 예측"
   ]
  },
  {
   "cell_type": "code",
   "execution_count": 161,
   "id": "9c174dc8",
   "metadata": {},
   "outputs": [],
   "source": [
    "lgb_train_pred = lgb_reg.predict(train_data)\n",
    "lgb_test_pred = lgb_reg.predict(test_data)"
   ]
  },
  {
   "cell_type": "code",
   "execution_count": 162,
   "id": "5b316d0d",
   "metadata": {},
   "outputs": [
    {
     "data": {
      "text/plain": [
       "Text(0, 0.5, 'target')"
      ]
     },
     "execution_count": 162,
     "metadata": {},
     "output_type": "execute_result"
    },
    {
     "data": {
      "image/png": "[encoded data removed]",
      "text/plain": [
       "<Figure size 1008x504 with 2 Axes>"
      ]
     },
     "metadata": {
      "needs_background": "light"
     },
     "output_type": "display_data"
    }
   ],
   "source": [
    "plt.figure(figsize=(14, 7))\n",
    "\n",
    "plt.subplot(121)\n",
    "plt.scatter(lgb_train_pred, train_target)\n",
    "plt.title(\"train data\")\n",
    "plt.xlabel(\"predict\")\n",
    "plt.ylabel(\"target\")\n",
    "\n",
    "plt.subplot(122)\n",
    "plt.scatter(lgb_test_pred, test_target)\n",
    "plt.title(\"test data\")\n",
    "plt.xlabel(\"predict\")\n",
    "plt.ylabel(\"target\")"
   ]
  },
  {
   "cell_type": "markdown",
   "id": "81bbf6b0",
   "metadata": {},
   "source": [
    "### 3.3 평가"
   ]
  },
  {
   "cell_type": "code",
   "execution_count": 163,
   "id": "cb1d3446",
   "metadata": {},
   "outputs": [],
   "source": [
    "lgb_train_mse = mean_squared_error(train_target, lgb_train_pred)\n",
    "lgb_test_mse = mean_squared_error(test_target, lgb_test_pred)"
   ]
  },
  {
   "cell_type": "code",
   "execution_count": 173,
   "id": "7f041e43",
   "metadata": {},
   "outputs": [
    {
     "name": "stdout",
     "output_type": "stream",
     "text": [
      "Light Boost Train MSE is 3923.3318\n",
      "Light Boost Test MSE is 3945.4330\n"
     ]
    }
   ],
   "source": [
    "print(f\"Light Boost Train MSE is {lgb_train_mse**(1/2):.4f}\")\n",
    "print(f\"Light Boost Test MSE is {lgb_test_mse**(1/2):.4f}\")"
   ]
  },
  {
   "cell_type": "markdown",
   "id": "1e67fb0b",
   "metadata": {},
   "source": [
    "## 4. CatBoost"
   ]
  },
  {
   "cell_type": "code",
   "execution_count": 165,
   "id": "091074f0",
   "metadata": {},
   "outputs": [],
   "source": [
    "import catboost as cb\n",
    "\n",
    "\n",
    "cb_reg = cb.CatBoostRegressor()"
   ]
  },
  {
   "cell_type": "markdown",
   "id": "32f646c4",
   "metadata": {},
   "source": [
    "### 4.1 학습"
   ]
  },
  {
   "cell_type": "code",
   "execution_count": 166,
   "id": "44c4ca29",
   "metadata": {},
   "outputs": [
    {
     "data": {
      "text/plain": [
       "<catboost.core.CatBoostRegressor at 0x2482f5d36d0>"
      ]
     },
     "execution_count": 166,
     "metadata": {},
     "output_type": "execute_result"
    }
   ],
   "source": [
    "cb_reg.fit(train_data, train_target, verbose=False)"
   ]
  },
  {
   "cell_type": "markdown",
   "id": "01b39bae",
   "metadata": {},
   "source": [
    "### 4.2 예측"
   ]
  },
  {
   "cell_type": "code",
   "execution_count": 167,
   "id": "8bf64099",
   "metadata": {},
   "outputs": [],
   "source": [
    "cb_train_pred = cb_reg.predict(train_data)\n",
    "cb_test_pred = cb_reg.predict(test_data)"
   ]
  },
  {
   "cell_type": "code",
   "execution_count": 168,
   "id": "5a75adf5",
   "metadata": {},
   "outputs": [
    {
     "data": {
      "text/plain": [
       "Text(0, 0.5, 'target')"
      ]
     },
     "execution_count": 168,
     "metadata": {},
     "output_type": "execute_result"
    },
    {
     "data": {
      "image/png": "[encoded data removed]",
      "text/plain": [
       "<Figure size 1008x504 with 2 Axes>"
      ]
     },
     "metadata": {
      "needs_background": "light"
     },
     "output_type": "display_data"
    }
   ],
   "source": [
    "plt.figure(figsize=(14, 7))\n",
    "\n",
    "plt.subplot(121)\n",
    "plt.scatter(cb_train_pred, train_target)\n",
    "plt.title(\"train data\")\n",
    "plt.xlabel(\"predict\")\n",
    "plt.ylabel(\"target\")\n",
    "\n",
    "plt.subplot(122)\n",
    "plt.scatter(cb_test_pred, test_target)\n",
    "plt.title(\"test data\")\n",
    "plt.xlabel(\"predict\")\n",
    "plt.ylabel(\"target\")"
   ]
  },
  {
   "cell_type": "markdown",
   "id": "21783dd4",
   "metadata": {},
   "source": [
    "### 4.3 평가"
   ]
  },
  {
   "cell_type": "code",
   "execution_count": 169,
   "id": "6fb849d3",
   "metadata": {},
   "outputs": [],
   "source": [
    "cb_train_mse = mean_squared_error(train_target, cb_train_pred)\n",
    "cb_test_mse = mean_squared_error(test_target, cb_test_pred)"
   ]
  },
  {
   "cell_type": "code",
   "execution_count": 174,
   "id": "a410b23b",
   "metadata": {},
   "outputs": [
    {
     "name": "stdout",
     "output_type": "stream",
     "text": [
      "Cat Boost Train MSE is 543.6061\n",
      "Cat Boost Test MSE is 7383.7574\n"
     ]
    }
   ],
   "source": [
    "print(f\"Cat Boost Train MSE is {cb_train_mse**(1/2):.4f}\")\n",
    "print(f\"Cat Boost Test MSE is {cb_test_mse**(1/2):.4f}\")"
   ]
  },
  {
   "cell_type": "markdown",
   "id": "fb4c6764",
   "metadata": {},
   "source": [
    "## 5. 마무리"
   ]
  },
  {
   "cell_type": "code",
   "execution_count": 177,
   "id": "5c2c0402",
   "metadata": {},
   "outputs": [
    {
     "name": "stdout",
     "output_type": "stream",
     "text": [
      "XGBoost Test MSE is 6163.3600\n",
      "Light Boost Test MSE is 3945.4330\n",
      "Cat Boost Test MSE is 7383.7574\n"
     ]
    }
   ],
   "source": [
    "print(f\"XGBoost Test MSE is {xgb_test_mse**(1/2):.4f}\")\n",
    "print(f\"Light Boost Test MSE is {lgb_test_mse**(1/2):.4f}\")\n",
    "print(f\"Cat Boost Test MSE is {cb_test_mse**(1/2):.4f}\")"
   ]
  }
 ],
 "metadata": {
  "kernelspec": {
   "display_name": "Python 3 (ipykernel)",
   "language": "python",
   "name": "python3"
  },
  "language_info": {
   "codemirror_mode": {
    "name": "ipython",
    "version": 3
   },
   "file_extension": ".py",
   "mimetype": "text/x-python",
   "name": "python",
   "nbconvert_exporter": "python",
   "pygments_lexer": "ipython3",
   "version": "3.9.12"
  }
 },
 "nbformat": 4,
 "nbformat_minor": 5
}
