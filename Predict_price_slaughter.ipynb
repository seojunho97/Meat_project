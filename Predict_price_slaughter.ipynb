{
 "cells": [
  {
   "cell_type": "code",
   "execution_count": 21,
   "id": "f441a1b6",
   "metadata": {},
   "outputs": [],
   "source": [
    "import pandas as pd\n",
    "import numpy as np\n",
    "import matplotlib.pyplot as plt\n",
    "from sklearn.model_selection import train_test_split\n",
    "from sklearn.linear_model import LinearRegression"
   ]
  },
  {
   "cell_type": "code",
   "execution_count": 22,
   "id": "5cfaec38",
   "metadata": {},
   "outputs": [
    {
     "data": {
      "text/html": [
       "<div>\n",
       "<style scoped>\n",
       "    .dataframe tbody tr th:only-of-type {\n",
       "        vertical-align: middle;\n",
       "    }\n",
       "\n",
       "    .dataframe tbody tr th {\n",
       "        vertical-align: top;\n",
       "    }\n",
       "\n",
       "    .dataframe thead th {\n",
       "        text-align: right;\n",
       "    }\n",
       "</style>\n",
       "<table border=\"1\" class=\"dataframe\">\n",
       "  <thead>\n",
       "    <tr style=\"text-align: right;\">\n",
       "      <th></th>\n",
       "      <th>year_month</th>\n",
       "      <th>importation</th>\n",
       "      <th>price</th>\n",
       "      <th>slaughter</th>\n",
       "    </tr>\n",
       "  </thead>\n",
       "  <tbody>\n",
       "    <tr>\n",
       "      <th>0</th>\n",
       "      <td>200001</td>\n",
       "      <td>15869000</td>\n",
       "      <td>17558</td>\n",
       "      <td>121079</td>\n",
       "    </tr>\n",
       "    <tr>\n",
       "      <th>1</th>\n",
       "      <td>200002</td>\n",
       "      <td>16536000</td>\n",
       "      <td>18150</td>\n",
       "      <td>62486</td>\n",
       "    </tr>\n",
       "    <tr>\n",
       "      <th>2</th>\n",
       "      <td>200003</td>\n",
       "      <td>21996000</td>\n",
       "      <td>18032</td>\n",
       "      <td>74258</td>\n",
       "    </tr>\n",
       "    <tr>\n",
       "      <th>3</th>\n",
       "      <td>200004</td>\n",
       "      <td>18384000</td>\n",
       "      <td>16916</td>\n",
       "      <td>68224</td>\n",
       "    </tr>\n",
       "    <tr>\n",
       "      <th>4</th>\n",
       "      <td>200005</td>\n",
       "      <td>19097000</td>\n",
       "      <td>16780</td>\n",
       "      <td>90450</td>\n",
       "    </tr>\n",
       "  </tbody>\n",
       "</table>\n",
       "</div>"
      ],
      "text/plain": [
       "   year_month  importation  price  slaughter\n",
       "0      200001     15869000  17558     121079\n",
       "1      200002     16536000  18150      62486\n",
       "2      200003     21996000  18032      74258\n",
       "3      200004     18384000  16916      68224\n",
       "4      200005     19097000  16780      90450"
      ]
     },
     "execution_count": 22,
     "metadata": {},
     "output_type": "execute_result"
    }
   ],
   "source": [
    "# 데이터 불러오기\n",
    "df_price = pd.read_excel('result.xlsx')\n",
    "df_price.head()"
   ]
  },
  {
   "cell_type": "code",
   "execution_count": 23,
   "id": "a10a0eb9",
   "metadata": {},
   "outputs": [],
   "source": [
    "# data,target 설정\n",
    "data = df_price['slaughter']\n",
    "target = df_price['price']"
   ]
  },
  {
   "cell_type": "code",
   "execution_count": 24,
   "id": "8e869562",
   "metadata": {},
   "outputs": [
    {
     "name": "stdout",
     "output_type": "stream",
     "text": [
      "(252,)\n",
      "(252,)\n"
     ]
    }
   ],
   "source": [
    "print(data.shape)\n",
    "print(target.shape)"
   ]
  },
  {
   "cell_type": "code",
   "execution_count": 25,
   "id": "e0f01371",
   "metadata": {},
   "outputs": [],
   "source": [
    "# 계산하기 위해 2차원 데이터로 변환\n",
    "data = np.array(data).reshape(-1,1)"
   ]
  },
  {
   "cell_type": "code",
   "execution_count": 26,
   "id": "c84e1536",
   "metadata": {},
   "outputs": [
    {
     "data": {
      "text/plain": [
       "array([[121079],\n",
       "       [ 62486],\n",
       "       [ 74258],\n",
       "       [ 68224],\n",
       "       [ 90450],\n",
       "       [ 84236],\n",
       "       [ 68368],\n",
       "       [ 93408],\n",
       "       [101784],\n",
       "       [ 74388],\n",
       "       [ 75650],\n",
       "       [ 83000],\n",
       "       [114880],\n",
       "       [ 35261],\n",
       "       [ 46065],\n",
       "       [ 50157],\n",
       "       [ 56630],\n",
       "       [ 54251],\n",
       "       [ 58756],\n",
       "       [ 63785],\n",
       "       [104247],\n",
       "       [ 43011],\n",
       "       [ 51729],\n",
       "       [ 50473],\n",
       "       [ 61945],\n",
       "       [ 56998],\n",
       "       [ 39807],\n",
       "       [ 47563],\n",
       "       [ 52528],\n",
       "       [ 48553],\n",
       "       [ 45442],\n",
       "       [ 53205],\n",
       "       [ 73843],\n",
       "       [ 47501],\n",
       "       [ 50943],\n",
       "       [ 54696],\n",
       "       [ 85870],\n",
       "       [ 31869],\n",
       "       [ 43461],\n",
       "       [ 46105],\n",
       "       [ 44025],\n",
       "       [ 40719],\n",
       "       [ 44183],\n",
       "       [ 52904],\n",
       "       [ 56362],\n",
       "       [ 42785],\n",
       "       [ 42772],\n",
       "       [ 53198],\n",
       "       [ 51816],\n",
       "       [ 21959],\n",
       "       [ 34822],\n",
       "       [ 45710],\n",
       "       [ 47576],\n",
       "       [ 49165],\n",
       "       [ 47834],\n",
       "       [ 48848],\n",
       "       [ 78724],\n",
       "       [ 42975],\n",
       "       [ 50952],\n",
       "       [ 56341],\n",
       "       [ 73882],\n",
       "       [ 51486],\n",
       "       [ 43749],\n",
       "       [ 43147],\n",
       "       [ 44449],\n",
       "       [ 41423],\n",
       "       [ 39324],\n",
       "       [ 52665],\n",
       "       [ 69512],\n",
       "       [ 43712],\n",
       "       [ 50944],\n",
       "       [ 58138],\n",
       "       [ 83900],\n",
       "       [ 36085],\n",
       "       [ 47194],\n",
       "       [ 44958],\n",
       "       [ 48254],\n",
       "       [ 46116],\n",
       "       [ 44417],\n",
       "       [ 47669],\n",
       "       [ 83690],\n",
       "       [ 43681],\n",
       "       [ 50930],\n",
       "       [ 53563],\n",
       "       [ 62784],\n",
       "       [ 71452],\n",
       "       [ 45216],\n",
       "       [ 48970],\n",
       "       [ 52049],\n",
       "       [ 45514],\n",
       "       [ 48348],\n",
       "       [ 52976],\n",
       "       [ 84010],\n",
       "       [ 55619],\n",
       "       [ 56152],\n",
       "       [ 60766],\n",
       "       [ 97844],\n",
       "       [ 45008],\n",
       "       [ 51952],\n",
       "       [ 59125],\n",
       "       [ 51567],\n",
       "       [ 48195],\n",
       "       [ 53702],\n",
       "       [ 70361],\n",
       "       [ 84306],\n",
       "       [ 65218],\n",
       "       [ 63896],\n",
       "       [ 78262],\n",
       "       [103728],\n",
       "       [ 52660],\n",
       "       [ 63097],\n",
       "       [ 67139],\n",
       "       [ 57855],\n",
       "       [ 61010],\n",
       "       [ 59391],\n",
       "       [ 63357],\n",
       "       [110152],\n",
       "       [ 46289],\n",
       "       [ 60467],\n",
       "       [ 69869],\n",
       "       [ 77408],\n",
       "       [ 65449],\n",
       "       [ 55754],\n",
       "       [ 53651],\n",
       "       [ 50999],\n",
       "       [ 51435],\n",
       "       [ 52473],\n",
       "       [ 68003],\n",
       "       [ 86980],\n",
       "       [ 57363],\n",
       "       [ 65704],\n",
       "       [ 67309],\n",
       "       [ 85445],\n",
       "       [ 33126],\n",
       "       [ 55526],\n",
       "       [ 59842],\n",
       "       [ 67297],\n",
       "       [ 70310],\n",
       "       [ 65801],\n",
       "       [103429],\n",
       "       [ 78028],\n",
       "       [ 66676],\n",
       "       [ 76402],\n",
       "       [ 90913],\n",
       "       [113046],\n",
       "       [ 63563],\n",
       "       [ 69367],\n",
       "       [ 68877],\n",
       "       [ 70166],\n",
       "       [ 67187],\n",
       "       [ 73605],\n",
       "       [ 79959],\n",
       "       [127650],\n",
       "       [ 72382],\n",
       "       [ 81077],\n",
       "       [ 82888],\n",
       "       [132781],\n",
       "       [ 69169],\n",
       "       [ 69597],\n",
       "       [ 83032],\n",
       "       [ 82603],\n",
       "       [ 69917],\n",
       "       [ 84661],\n",
       "       [ 99883],\n",
       "       [108538],\n",
       "       [ 89385],\n",
       "       [ 82619],\n",
       "       [ 99712],\n",
       "       [130416],\n",
       "       [ 61547],\n",
       "       [ 79044],\n",
       "       [ 89074],\n",
       "       [ 75513],\n",
       "       [ 71040],\n",
       "       [ 85173],\n",
       "       [123597],\n",
       "       [ 73762],\n",
       "       [ 84622],\n",
       "       [ 73301],\n",
       "       [ 94765],\n",
       "       [110502],\n",
       "       [ 87446],\n",
       "       [ 80545],\n",
       "       [ 86420],\n",
       "       [ 71971],\n",
       "       [ 78955],\n",
       "       [ 78521],\n",
       "       [ 84486],\n",
       "       [106840],\n",
       "       [ 69781],\n",
       "       [ 67929],\n",
       "       [ 82190],\n",
       "       [118778],\n",
       "       [ 49363],\n",
       "       [ 66390],\n",
       "       [ 66386],\n",
       "       [ 64175],\n",
       "       [ 60775],\n",
       "       [ 57155],\n",
       "       [ 91283],\n",
       "       [ 71278],\n",
       "       [ 67580],\n",
       "       [ 66633],\n",
       "       [ 81691],\n",
       "       [103203],\n",
       "       [ 50956],\n",
       "       [ 65672],\n",
       "       [ 71427],\n",
       "       [ 64590],\n",
       "       [ 62887],\n",
       "       [ 61707],\n",
       "       [ 77723],\n",
       "       [116593],\n",
       "       [ 54896],\n",
       "       [ 70354],\n",
       "       [ 73474],\n",
       "       [107206],\n",
       "       [ 66792],\n",
       "       [ 57861],\n",
       "       [ 69920],\n",
       "       [ 68071],\n",
       "       [ 59341],\n",
       "       [ 64155],\n",
       "       [ 74636],\n",
       "       [ 88956],\n",
       "       [ 68856],\n",
       "       [ 64913],\n",
       "       [ 76138],\n",
       "       [118979],\n",
       "       [ 40766],\n",
       "       [ 59877],\n",
       "       [ 71232],\n",
       "       [ 63787],\n",
       "       [ 59058],\n",
       "       [ 70294],\n",
       "       [100635],\n",
       "       [ 68559],\n",
       "       [ 74322],\n",
       "       [ 67398],\n",
       "       [ 91697],\n",
       "       [ 96931],\n",
       "       [ 55741],\n",
       "       [ 66304],\n",
       "       [ 69334],\n",
       "       [ 67654],\n",
       "       [ 74183],\n",
       "       [ 68380],\n",
       "       [ 75421],\n",
       "       [104952],\n",
       "       [ 63891],\n",
       "       [ 68179],\n",
       "       [ 76227]], dtype=int64)"
      ]
     },
     "execution_count": 26,
     "metadata": {},
     "output_type": "execute_result"
    }
   ],
   "source": [
    "data"
   ]
  },
  {
   "cell_type": "code",
   "execution_count": 27,
   "id": "8ba6cf43",
   "metadata": {},
   "outputs": [
    {
     "name": "stdout",
     "output_type": "stream",
     "text": [
      "(252, 1)\n"
     ]
    }
   ],
   "source": [
    "print(data.shape)"
   ]
  },
  {
   "cell_type": "markdown",
   "id": "c4d4e8e8",
   "metadata": {},
   "source": [
    "### data split"
   ]
  },
  {
   "cell_type": "code",
   "execution_count": 28,
   "id": "3b99aaba",
   "metadata": {},
   "outputs": [],
   "source": [
    "train_data, test_data, train_target, test_target = train_test_split(\n",
    "data, target, test_size=0.3\n",
    ")"
   ]
  },
  {
   "cell_type": "code",
   "execution_count": 29,
   "id": "b056a171",
   "metadata": {},
   "outputs": [
    {
     "data": {
      "text/plain": [
       "(176, 176, 76, 76)"
      ]
     },
     "execution_count": 29,
     "metadata": {},
     "output_type": "execute_result"
    }
   ],
   "source": [
    "len(train_data), len(train_target), len(test_data), len(test_target)"
   ]
  },
  {
   "cell_type": "markdown",
   "id": "78b9a6c4",
   "metadata": {},
   "source": [
    "# Linear Regression"
   ]
  },
  {
   "cell_type": "code",
   "execution_count": 30,
   "id": "9699afab",
   "metadata": {},
   "outputs": [],
   "source": [
    "model = LinearRegression()"
   ]
  },
  {
   "cell_type": "code",
   "execution_count": 31,
   "id": "e523bad1",
   "metadata": {},
   "outputs": [
    {
     "data": {
      "text/plain": [
       "LinearRegression()"
      ]
     },
     "execution_count": 31,
     "metadata": {},
     "output_type": "execute_result"
    }
   ],
   "source": [
    "# model 학습\n",
    "model.fit(train_data, train_target)"
   ]
  },
  {
   "cell_type": "code",
   "execution_count": 32,
   "id": "b8e0f73d",
   "metadata": {},
   "outputs": [
    {
     "data": {
      "text/plain": [
       "39591.12220919498"
      ]
     },
     "execution_count": 32,
     "metadata": {},
     "output_type": "execute_result"
    }
   ],
   "source": [
    "# bias 값\n",
    "model.intercept_"
   ]
  },
  {
   "cell_type": "code",
   "execution_count": 33,
   "id": "5ac90a48",
   "metadata": {},
   "outputs": [
    {
     "data": {
      "text/plain": [
       "array([-0.11554865])"
      ]
     },
     "execution_count": 33,
     "metadata": {},
     "output_type": "execute_result"
    }
   ],
   "source": [
    "# weight 값\n",
    "model.coef_"
   ]
  },
  {
   "cell_type": "code",
   "execution_count": 34,
   "id": "56931264",
   "metadata": {
    "scrolled": true
   },
   "outputs": [
    {
     "data": {
      "text/plain": [
       "array([26118.95889502, 26822.76569943, 34063.96826367, 34991.47724726,\n",
       "       32090.51293409, 27049.7032407 , 34332.04112301, 31999.11395489,\n",
       "       27464.06068621, 33005.08046929, 32002.81151157, 30783.19555022,\n",
       "       34102.44596288, 35908.70240132, 27830.11879759, 32270.30662768,\n",
       "       28285.38046388, 31010.71083472, 32873.35501254, 30046.45738163,\n",
       "       32055.27059697, 25866.48510293, 32569.69317015, 33164.42205249,\n",
       "       34396.28617034, 31733.46761712, 31987.9057362 , 33080.99592988,\n",
       "       33910.17301549, 28390.87637792, 30995.68951071, 31334.94033615,\n",
       "       29139.74715437, 33698.25679824, 31689.90577748, 32906.05527944,\n",
       "       31813.65837763, 34647.37337867, 32460.96189402, 33469.81712457,\n",
       "       35421.54930866, 29920.85600314, 31511.96086223, 30094.17897254,\n",
       "       25843.25982503, 26528.80994333, 33980.88878701, 29043.49513203,\n",
       "       33521.5829181 , 32801.94594915, 31891.76926251, 35763.45775296,\n",
       "       31355.0458006 , 33175.16807659, 30013.52601744, 34648.87551108,\n",
       "       31517.85384319, 32433.46131621, 34880.66609549, 33506.33049679,\n",
       "       29086.24813115, 34605.54476873, 32300.34927571, 33247.96372374,\n",
       "       31803.37454811, 33047.60237111, 31669.2225698 , 31725.61030918,\n",
       "       34625.41913588, 33795.5487584 , 34262.48083796, 30222.78461583,\n",
       "       32208.02590734, 29813.16466482, 33704.72752243, 37053.78948582])"
      ]
     },
     "execution_count": 34,
     "metadata": {},
     "output_type": "execute_result"
    }
   ],
   "source": [
    "# 모델 예측\n",
    "model.predict(test_data)"
   ]
  },
  {
   "cell_type": "markdown",
   "id": "fe5781a4",
   "metadata": {},
   "source": [
    "### 모델 평가"
   ]
  },
  {
   "cell_type": "code",
   "execution_count": 35,
   "id": "c5f0b2d8",
   "metadata": {},
   "outputs": [],
   "source": [
    "from sklearn.metrics import mean_squared_error"
   ]
  },
  {
   "cell_type": "code",
   "execution_count": 36,
   "id": "55155c9e",
   "metadata": {},
   "outputs": [],
   "source": [
    "train_pred = model.predict(train_data)\n",
    "test_pred = model.predict(test_data)\n",
    "\n",
    "train_mse = mean_squared_error(train_pred, train_target)\n",
    "test_mse = mean_squared_error(test_pred, test_target)"
   ]
  },
  {
   "cell_type": "code",
   "execution_count": 37,
   "id": "ac4c05d9",
   "metadata": {},
   "outputs": [
    {
     "name": "stdout",
     "output_type": "stream",
     "text": [
      "86750541.5502406\n",
      "100040158.4164625\n"
     ]
    }
   ],
   "source": [
    "print(train_mse)\n",
    "print(test_mse)"
   ]
  },
  {
   "cell_type": "code",
   "execution_count": 38,
   "id": "5e217a5d",
   "metadata": {},
   "outputs": [
    {
     "name": "stdout",
     "output_type": "stream",
     "text": [
      "9313.997076993346\n",
      "10002.007719276291\n"
     ]
    }
   ],
   "source": [
    "# 가독성을 위해 rms 적용\n",
    "print(train_mse**(1/2))\n",
    "print(test_mse**(1/2))"
   ]
  },
  {
   "cell_type": "code",
   "execution_count": 39,
   "id": "8c57e6f0",
   "metadata": {},
   "outputs": [
    {
     "name": "stdout",
     "output_type": "stream",
     "text": [
      "[33946.80193636 31461.81274975 25600.60766787 31121.2908892\n",
      " 31886.80067072 33078.56940831 35567.4872489  31461.00390922\n",
      " 29312.3768319  30284.25649565]\n",
      "55     29200\n",
      "214    47340\n",
      "0      17558\n",
      "178    22570\n",
      "141    24500\n",
      "44     31200\n",
      "50     30800\n",
      "103    37600\n",
      "224    43790\n",
      "182    22480\n",
      "Name: price, dtype: int64\n"
     ]
    }
   ],
   "source": [
    "print(train_pred[:10])\n",
    "print(train_target[:10])"
   ]
  },
  {
   "cell_type": "markdown",
   "id": "d904eb9d",
   "metadata": {},
   "source": [
    "# Logistic Regression"
   ]
  },
  {
   "cell_type": "code",
   "execution_count": 40,
   "id": "40ca9566",
   "metadata": {},
   "outputs": [],
   "source": [
    "from sklearn.linear_model import LogisticRegression"
   ]
  },
  {
   "cell_type": "code",
   "execution_count": 41,
   "id": "7df2bffb",
   "metadata": {},
   "outputs": [],
   "source": [
    "data = df_price['slaughter']\n",
    "target = df_price['price']"
   ]
  },
  {
   "cell_type": "code",
   "execution_count": 42,
   "id": "898f96a5",
   "metadata": {},
   "outputs": [],
   "source": [
    "data = np.array(data).reshape(-1,1)"
   ]
  },
  {
   "cell_type": "code",
   "execution_count": 43,
   "id": "498971c4",
   "metadata": {},
   "outputs": [
    {
     "name": "stdout",
     "output_type": "stream",
     "text": [
      "176\n",
      "76\n"
     ]
    }
   ],
   "source": [
    "train_data, test_data, train_target, test_target = train_test_split(\n",
    "    data, target, train_size=0.7, random_state=2022\n",
    ")\n",
    "print(len(train_data))\n",
    "print(len(test_data))"
   ]
  },
  {
   "cell_type": "code",
   "execution_count": 44,
   "id": "61da82e6",
   "metadata": {},
   "outputs": [],
   "source": [
    "from sklearn.preprocessing import StandardScaler\n",
    "scaler = StandardScaler()"
   ]
  },
  {
   "cell_type": "code",
   "execution_count": 45,
   "id": "a9b2028e",
   "metadata": {},
   "outputs": [],
   "source": [
    "scaler.fit(train_data)\n",
    "scaled_train_data = scaler.transform(train_data)\n",
    "scaled_test_data = scaler.transform(test_data)"
   ]
  },
  {
   "cell_type": "code",
   "execution_count": 46,
   "id": "317ffbb3",
   "metadata": {},
   "outputs": [
    {
     "data": {
      "text/plain": [
       "LogisticRegression()"
      ]
     },
     "execution_count": 46,
     "metadata": {},
     "output_type": "execute_result"
    }
   ],
   "source": [
    "logit_regression = LogisticRegression()\n",
    "logit_regression.fit(scaled_train_data, train_target)"
   ]
  },
  {
   "cell_type": "code",
   "execution_count": 47,
   "id": "0d673ef3",
   "metadata": {},
   "outputs": [],
   "source": [
    "train_pred = logit_regression.predict(scaled_train_data)\n",
    "test_pred = logit_regression.predict(scaled_test_data)"
   ]
  },
  {
   "cell_type": "code",
   "execution_count": 48,
   "id": "aecdf484",
   "metadata": {},
   "outputs": [
    {
     "data": {
      "text/plain": [
       "array([21000, 21000, 22570, 31200, 31200, 21000, 21000, 22570, 22570,\n",
       "       31200], dtype=int64)"
      ]
     },
     "execution_count": 48,
     "metadata": {},
     "output_type": "execute_result"
    }
   ],
   "source": [
    "train_pred[:10]"
   ]
  },
  {
   "cell_type": "code",
   "execution_count": 49,
   "id": "00e5c4bf",
   "metadata": {},
   "outputs": [
    {
     "data": {
      "text/plain": [
       "68     37782\n",
       "105    33956\n",
       "155    21000\n",
       "78     37142\n",
       "193    28000\n",
       "209    45750\n",
       "25     30120\n",
       "4      16780\n",
       "120    30360\n",
       "31     28836\n",
       "Name: price, dtype: int64"
      ]
     },
     "execution_count": 49,
     "metadata": {},
     "output_type": "execute_result"
    }
   ],
   "source": [
    "train_target[:10]"
   ]
  },
  {
   "cell_type": "markdown",
   "id": "8aa5224b",
   "metadata": {},
   "source": [
    "### 정확도 측정"
   ]
  },
  {
   "cell_type": "code",
   "execution_count": 50,
   "id": "06d25147",
   "metadata": {},
   "outputs": [],
   "source": [
    "from sklearn.metrics import accuracy_score"
   ]
  },
  {
   "cell_type": "code",
   "execution_count": 51,
   "id": "5780c116",
   "metadata": {},
   "outputs": [
    {
     "name": "stdout",
     "output_type": "stream",
     "text": [
      "train_acc is 0.09\n",
      "test_acc is 0.09\n"
     ]
    }
   ],
   "source": [
    "train_acc = accuracy_score(train_target, train_pred)\n",
    "test_acc = accuracy_score(test_target, test_pred)\n",
    "print(f'train_acc is {train_acc:.2f}')\n",
    "print(f'test_acc is {test_acc:.2f}')"
   ]
  },
  {
   "cell_type": "markdown",
   "id": "22f14207",
   "metadata": {},
   "source": [
    "# Hyperparameter"
   ]
  },
  {
   "cell_type": "code",
   "execution_count": 52,
   "id": "22786156",
   "metadata": {},
   "outputs": [],
   "source": [
    "from sklearn.model_selection import GridSearchCV"
   ]
  },
  {
   "cell_type": "code",
   "execution_count": 57,
   "id": "5672ca47",
   "metadata": {},
   "outputs": [],
   "source": [
    "# 탐색 범위 선정\n",
    "params = [\n",
    "          {\"kernel\":[\"linear\"], \"C\":[10,30,100,300,1000,3000,10000,30000]},\n",
    "          {\n",
    "            \"kernel\":[\"rbf\"],\n",
    "            \"C\":[10, 30, 100, 300, 1000],\n",
    "            \"gamma\":[0.03, 0.1, 0.3, 1.0, 3.0]\n",
    "          }\n",
    "]"
   ]
  },
  {
   "cell_type": "code",
   "execution_count": 58,
   "id": "f06b844b",
   "metadata": {},
   "outputs": [
    {
     "data": {
      "text/plain": [
       "[{'kernel': ['linear'], 'C': [10, 30, 100, 300, 1000, 3000, 10000, 30000]},\n",
       " {'kernel': ['rbf'],\n",
       "  'C': [10, 30, 100, 300, 1000],\n",
       "  'gamma': [0.03, 0.1, 0.3, 1.0, 3.0]}]"
      ]
     },
     "execution_count": 58,
     "metadata": {},
     "output_type": "execute_result"
    }
   ],
   "source": [
    "params"
   ]
  },
  {
   "cell_type": "code",
   "execution_count": 59,
   "id": "7b90e23b",
   "metadata": {},
   "outputs": [
    {
     "name": "stderr",
     "output_type": "stream",
     "text": [
      "C:\\Users\\ITPS\\anaconda3\\lib\\site-packages\\sklearn\\model_selection\\_split.py:666: UserWarning: The least populated class in y has only 1 members, which is less than n_splits=3.\n",
      "  warnings.warn((\"The least populated class in y has only %d\"\n"
     ]
    },
    {
     "data": {
      "text/plain": [
       "GridSearchCV(cv=3, estimator=SVC(), n_jobs=-1,\n",
       "             param_grid=[{'C': [10, 30, 100, 300, 1000, 3000, 10000, 30000],\n",
       "                          'kernel': ['linear']},\n",
       "                         {'C': [10, 30, 100, 300, 1000],\n",
       "                          'gamma': [0.03, 0.1, 0.3, 1.0, 3.0],\n",
       "                          'kernel': ['rbf']}])"
      ]
     },
     "execution_count": 59,
     "metadata": {},
     "output_type": "execute_result"
    }
   ],
   "source": [
    "# 탐색 수행\n",
    "from sklearn.svm import SVC\n",
    "svm = SVC()\n",
    "grid_cv = GridSearchCV(svm, params, cv=3, n_jobs=-1)\n",
    "grid_cv.fit(scaled_train_data, train_target)"
   ]
  },
  {
   "cell_type": "code",
   "execution_count": 63,
   "id": "1800c0c5",
   "metadata": {},
   "outputs": [
    {
     "data": {
      "text/plain": [
       "{'C': 10, 'gamma': 0.1, 'kernel': 'rbf'}"
      ]
     },
     "execution_count": 63,
     "metadata": {},
     "output_type": "execute_result"
    }
   ],
   "source": [
    "# 결과\n",
    "# Optimized parameter\n",
    "grid_cv.best_params_"
   ]
  },
  {
   "cell_type": "code",
   "execution_count": 61,
   "id": "3a802047",
   "metadata": {},
   "outputs": [],
   "source": [
    "# Optimized model\n",
    "train_pred = grid_cv.best_estimator_.predict(scaled_train_data)\n",
    "test_pred = grid_cv.best_estimator_.predict(scaled_test_data)"
   ]
  },
  {
   "cell_type": "code",
   "execution_count": 62,
   "id": "670d48d5",
   "metadata": {},
   "outputs": [
    {
     "name": "stdout",
     "output_type": "stream",
     "text": [
      "best_train_acc is 0.10\n",
      "best_test_acc is 0.07\n"
     ]
    }
   ],
   "source": [
    "best_train_acc = accuracy_score(train_target, train_pred)\n",
    "best_test_acc = accuracy_score(test_target, test_pred)\n",
    "print(f'best_train_acc is {best_train_acc:.2f}')\n",
    "print(f'best_test_acc is {best_test_acc:.2f}')"
   ]
  },
  {
   "cell_type": "markdown",
   "id": "70b3fc48",
   "metadata": {},
   "source": [
    "# Boosting_Regression"
   ]
  },
  {
   "cell_type": "code",
   "execution_count": 38,
   "id": "a231a730",
   "metadata": {},
   "outputs": [
    {
     "name": "stdout",
     "output_type": "stream",
     "text": [
      "Requirement already satisfied: catboost in c:\\users\\itps\\anaconda3\\lib\\site-packages (1.0.6)\n",
      "Requirement already satisfied: numpy>=1.16.0 in c:\\users\\itps\\anaconda3\\lib\\site-packages (from catboost) (1.20.3)\n",
      "Requirement already satisfied: pandas>=0.24.0 in c:\\users\\itps\\anaconda3\\lib\\site-packages (from catboost) (1.3.4)\n",
      "Requirement already satisfied: six in c:\\users\\itps\\anaconda3\\lib\\site-packages (from catboost) (1.16.0)\n",
      "Requirement already satisfied: graphviz in c:\\users\\itps\\anaconda3\\lib\\site-packages (from catboost) (0.20)\n",
      "Requirement already satisfied: scipy in c:\\users\\itps\\anaconda3\\lib\\site-packages (from catboost) (1.7.1)\n",
      "Requirement already satisfied: matplotlib in c:\\users\\itps\\anaconda3\\lib\\site-packages (from catboost) (3.4.3)\n",
      "Requirement already satisfied: plotly in c:\\users\\itps\\anaconda3\\lib\\site-packages (from catboost) (5.8.2)\n",
      "Requirement already satisfied: python-dateutil>=2.7.3 in c:\\users\\itps\\anaconda3\\lib\\site-packages (from pandas>=0.24.0->catboost) (2.8.2)\n",
      "Requirement already satisfied: pytz>=2017.3 in c:\\users\\itps\\anaconda3\\lib\\site-packages (from pandas>=0.24.0->catboost) (2021.3)\n",
      "Requirement already satisfied: cycler>=0.10 in c:\\users\\itps\\anaconda3\\lib\\site-packages (from matplotlib->catboost) (0.10.0)\n",
      "Requirement already satisfied: kiwisolver>=1.0.1 in c:\\users\\itps\\anaconda3\\lib\\site-packages (from matplotlib->catboost) (1.3.1)\n",
      "Requirement already satisfied: pillow>=6.2.0 in c:\\users\\itps\\anaconda3\\lib\\site-packages (from matplotlib->catboost) (8.4.0)\n",
      "Requirement already satisfied: pyparsing>=2.2.1 in c:\\users\\itps\\anaconda3\\lib\\site-packages (from matplotlib->catboost) (3.0.4)\n",
      "Requirement already satisfied: tenacity>=6.2.0 in c:\\users\\itps\\anaconda3\\lib\\site-packages (from plotly->catboost) (8.0.1)\n"
     ]
    }
   ],
   "source": [
    "!pip install catboost\n",
    "np.random.seed(2022)"
   ]
  },
  {
   "cell_type": "code",
   "execution_count": 47,
   "id": "1105c3d3",
   "metadata": {},
   "outputs": [],
   "source": [
    "data, target = df_price[\"slaughter\"], df_price[\"price\"]"
   ]
  },
  {
   "cell_type": "markdown",
   "id": "a87f844f",
   "metadata": {},
   "source": [
    "### 1.3 Data Split"
   ]
  },
  {
   "cell_type": "code",
   "execution_count": 67,
   "id": "026cfdd5",
   "metadata": {},
   "outputs": [],
   "source": [
    "data = np.array(data).reshape(-1,1)"
   ]
  },
  {
   "cell_type": "code",
   "execution_count": 68,
   "id": "cfb64c8c",
   "metadata": {},
   "outputs": [],
   "source": [
    "from sklearn.model_selection import train_test_split\n",
    "\n",
    "train_data, test_data, train_target, test_target = train_test_split(\n",
    "    data, target, train_size=0.7, random_state=2022\n",
    ")"
   ]
  },
  {
   "cell_type": "markdown",
   "id": "50866ed9",
   "metadata": {},
   "source": [
    "## 2. XGBoost"
   ]
  },
  {
   "cell_type": "code",
   "execution_count": 69,
   "id": "f28da5a6",
   "metadata": {},
   "outputs": [
    {
     "name": "stdout",
     "output_type": "stream",
     "text": [
      "Requirement already satisfied: xgboost in c:\\users\\itps\\anaconda3\\lib\\site-packages (1.6.1)\n",
      "Requirement already satisfied: scipy in c:\\users\\itps\\anaconda3\\lib\\site-packages (from xgboost) (1.7.1)\n",
      "Requirement already satisfied: numpy in c:\\users\\itps\\anaconda3\\lib\\site-packages (from xgboost) (1.20.3)\n"
     ]
    }
   ],
   "source": [
    "!pip install xgboost"
   ]
  },
  {
   "cell_type": "code",
   "execution_count": 70,
   "id": "a2489703",
   "metadata": {},
   "outputs": [],
   "source": [
    "import xgboost as xgb\n",
    "\n",
    "\n",
    "xgb_reg = xgb.XGBRegressor()"
   ]
  },
  {
   "cell_type": "markdown",
   "id": "ce457b0f",
   "metadata": {},
   "source": [
    "### 2.1 학습"
   ]
  },
  {
   "cell_type": "code",
   "execution_count": 71,
   "id": "7d97d469",
   "metadata": {},
   "outputs": [
    {
     "data": {
      "text/plain": [
       "XGBRegressor(base_score=0.5, booster='gbtree', callbacks=None,\n",
       "             colsample_bylevel=1, colsample_bynode=1, colsample_bytree=1,\n",
       "             early_stopping_rounds=None, enable_categorical=False,\n",
       "             eval_metric=None, gamma=0, gpu_id=-1, grow_policy='depthwise',\n",
       "             importance_type=None, interaction_constraints='',\n",
       "             learning_rate=0.300000012, max_bin=256, max_cat_to_onehot=4,\n",
       "             max_delta_step=0, max_depth=6, max_leaves=0, min_child_weight=1,\n",
       "             missing=nan, monotone_constraints='()', n_estimators=100, n_jobs=0,\n",
       "             num_parallel_tree=1, predictor='auto', random_state=0, reg_alpha=0,\n",
       "             reg_lambda=1, ...)"
      ]
     },
     "execution_count": 71,
     "metadata": {},
     "output_type": "execute_result"
    }
   ],
   "source": [
    "xgb_reg.fit(train_data, train_target)"
   ]
  },
  {
   "cell_type": "markdown",
   "id": "a1fce7f3",
   "metadata": {},
   "source": [
    "### 2.2 예측"
   ]
  },
  {
   "cell_type": "code",
   "execution_count": 72,
   "id": "1da98116",
   "metadata": {},
   "outputs": [],
   "source": [
    "xgb_train_pred = xgb_reg.predict(train_data)\n",
    "xgb_test_pred = xgb_reg.predict(test_data)"
   ]
  },
  {
   "cell_type": "code",
   "execution_count": 73,
   "id": "a3a77e65",
   "metadata": {},
   "outputs": [
    {
     "data": {
      "text/plain": [
       "Text(0, 0.5, 'target')"
      ]
     },
     "execution_count": 73,
     "metadata": {},
     "output_type": "execute_result"
    },
    {
     "data": {
      "image/png": "[encoded data removed]",
      "text/plain": [
       "<Figure size 1008x504 with 2 Axes>"
      ]
     },
     "metadata": {
      "needs_background": "light"
     },
     "output_type": "display_data"
    }
   ],
   "source": [
    "plt.figure(figsize=(14, 7))\n",
    "\n",
    "plt.subplot(121)\n",
    "plt.scatter(xgb_train_pred, train_target)\n",
    "plt.title(\"train data\")\n",
    "plt.xlabel(\"predict\")\n",
    "plt.ylabel(\"target\")\n",
    "\n",
    "plt.subplot(122)\n",
    "plt.scatter(xgb_test_pred, test_target)\n",
    "plt.title(\"test data\")\n",
    "plt.xlabel(\"predict\")\n",
    "plt.ylabel(\"target\")"
   ]
  },
  {
   "cell_type": "markdown",
   "id": "cff6130d",
   "metadata": {},
   "source": [
    "### 2.3 평가"
   ]
  },
  {
   "cell_type": "code",
   "execution_count": 74,
   "id": "1bc81efa",
   "metadata": {},
   "outputs": [],
   "source": [
    "from sklearn.metrics import mean_squared_error\n",
    "\n",
    "xgb_train_mse = mean_squared_error(train_target, xgb_train_pred)\n",
    "xgb_test_mse = mean_squared_error(test_target, xgb_test_pred)"
   ]
  },
  {
   "cell_type": "code",
   "execution_count": 94,
   "id": "9b7dccad",
   "metadata": {},
   "outputs": [
    {
     "name": "stdout",
     "output_type": "stream",
     "text": [
      "XGBoost Train MSE is 885.9833\n",
      "XGBoost Test MSE is 14753.1888\n"
     ]
    }
   ],
   "source": [
    "print(f\"XGBoost Train MSE is {(xgb_train_mse)**(1/2):.4f}\")\n",
    "print(f\"XGBoost Test MSE is {(xgb_test_mse)**(1/2):.4f}\")"
   ]
  },
  {
   "cell_type": "markdown",
   "id": "2d27182f",
   "metadata": {},
   "source": [
    "## 3. Light GBM"
   ]
  },
  {
   "cell_type": "code",
   "execution_count": 76,
   "id": "465485bb",
   "metadata": {},
   "outputs": [
    {
     "name": "stdout",
     "output_type": "stream",
     "text": [
      "Requirement already satisfied: lightgbm in c:\\users\\itps\\anaconda3\\lib\\site-packages (3.3.2)\n",
      "Requirement already satisfied: scipy in c:\\users\\itps\\anaconda3\\lib\\site-packages (from lightgbm) (1.7.1)\n",
      "Requirement already satisfied: scikit-learn!=0.22.0 in c:\\users\\itps\\anaconda3\\lib\\site-packages (from lightgbm) (0.24.2)\n",
      "Requirement already satisfied: wheel in c:\\users\\itps\\anaconda3\\lib\\site-packages (from lightgbm) (0.37.0)\n",
      "Requirement already satisfied: numpy in c:\\users\\itps\\anaconda3\\lib\\site-packages (from lightgbm) (1.20.3)\n",
      "Requirement already satisfied: threadpoolctl>=2.0.0 in c:\\users\\itps\\anaconda3\\lib\\site-packages (from scikit-learn!=0.22.0->lightgbm) (2.2.0)\n",
      "Requirement already satisfied: joblib>=0.11 in c:\\users\\itps\\anaconda3\\lib\\site-packages (from scikit-learn!=0.22.0->lightgbm) (1.1.0)\n"
     ]
    }
   ],
   "source": [
    "!pip install lightgbm"
   ]
  },
  {
   "cell_type": "code",
   "execution_count": 77,
   "id": "47de01e6",
   "metadata": {},
   "outputs": [],
   "source": [
    "import lightgbm as lgb\n",
    "\n",
    "lgb_reg = lgb.LGBMRegressor()"
   ]
  },
  {
   "cell_type": "markdown",
   "id": "8650e879",
   "metadata": {},
   "source": [
    "### 3.1 학습"
   ]
  },
  {
   "cell_type": "code",
   "execution_count": 78,
   "id": "fadbd280",
   "metadata": {},
   "outputs": [
    {
     "data": {
      "text/plain": [
       "LGBMRegressor()"
      ]
     },
     "execution_count": 78,
     "metadata": {},
     "output_type": "execute_result"
    }
   ],
   "source": [
    "lgb_reg.fit(train_data, train_target)"
   ]
  },
  {
   "cell_type": "markdown",
   "id": "c900a6c7",
   "metadata": {},
   "source": [
    "### 3.2 예측"
   ]
  },
  {
   "cell_type": "code",
   "execution_count": 79,
   "id": "48abd786",
   "metadata": {},
   "outputs": [],
   "source": [
    "lgb_train_pred = lgb_reg.predict(train_data)\n",
    "lgb_test_pred = lgb_reg.predict(test_data)"
   ]
  },
  {
   "cell_type": "code",
   "execution_count": 80,
   "id": "d0cef94f",
   "metadata": {},
   "outputs": [
    {
     "data": {
      "text/plain": [
       "Text(0, 0.5, 'target')"
      ]
     },
     "execution_count": 80,
     "metadata": {},
     "output_type": "execute_result"
    },
    {
     "data": {
      "image/png": "[encoded data removed]",
      "text/plain": [
       "<Figure size 1008x504 with 2 Axes>"
      ]
     },
     "metadata": {
      "needs_background": "light"
     },
     "output_type": "display_data"
    }
   ],
   "source": [
    "plt.figure(figsize=(14, 7))\n",
    "\n",
    "plt.subplot(121)\n",
    "plt.scatter(lgb_train_pred, train_target)\n",
    "plt.title(\"train data\")\n",
    "plt.xlabel(\"predict\")\n",
    "plt.ylabel(\"target\")\n",
    "\n",
    "plt.subplot(122)\n",
    "plt.scatter(lgb_test_pred, test_target)\n",
    "plt.title(\"test data\")\n",
    "plt.xlabel(\"predict\")\n",
    "plt.ylabel(\"target\")"
   ]
  },
  {
   "cell_type": "markdown",
   "id": "5640eb61",
   "metadata": {},
   "source": [
    "### 3.3 평가"
   ]
  },
  {
   "cell_type": "code",
   "execution_count": 81,
   "id": "d78f76f0",
   "metadata": {},
   "outputs": [],
   "source": [
    "lgb_train_mse = mean_squared_error(train_target, lgb_train_pred)\n",
    "lgb_test_mse = mean_squared_error(test_target, lgb_test_pred)"
   ]
  },
  {
   "cell_type": "code",
   "execution_count": 96,
   "id": "f5dd727b",
   "metadata": {},
   "outputs": [
    {
     "name": "stdout",
     "output_type": "stream",
     "text": [
      "Light Boost Train MSE is 7890.9649\n",
      "Light Boost Test MSE is 11338.2210\n"
     ]
    }
   ],
   "source": [
    "print(f\"Light Boost Train MSE is {(lgb_train_mse)**(1/2):.4f}\")\n",
    "print(f\"Light Boost Test MSE is {(lgb_test_mse)**(1/2):.4f}\")"
   ]
  },
  {
   "cell_type": "markdown",
   "id": "c2191eb6",
   "metadata": {},
   "source": [
    "## 4. CatBoost"
   ]
  },
  {
   "cell_type": "code",
   "execution_count": 83,
   "id": "13b87c9a",
   "metadata": {},
   "outputs": [],
   "source": [
    "import catboost as cb\n",
    "\n",
    "\n",
    "cb_reg = cb.CatBoostRegressor()"
   ]
  },
  {
   "cell_type": "markdown",
   "id": "53680f96",
   "metadata": {},
   "source": [
    "### 4.1 학습"
   ]
  },
  {
   "cell_type": "code",
   "execution_count": 84,
   "id": "1e826a32",
   "metadata": {},
   "outputs": [
    {
     "data": {
      "text/plain": [
       "<catboost.core.CatBoostRegressor at 0x2625c4c5820>"
      ]
     },
     "execution_count": 84,
     "metadata": {},
     "output_type": "execute_result"
    }
   ],
   "source": [
    "cb_reg.fit(train_data, train_target, verbose=False)"
   ]
  },
  {
   "cell_type": "markdown",
   "id": "371dd8b5",
   "metadata": {},
   "source": [
    "### 4.2 예측"
   ]
  },
  {
   "cell_type": "code",
   "execution_count": 85,
   "id": "1d541993",
   "metadata": {},
   "outputs": [],
   "source": [
    "cb_train_pred = cb_reg.predict(train_data)\n",
    "cb_test_pred = cb_reg.predict(test_data)"
   ]
  },
  {
   "cell_type": "code",
   "execution_count": 86,
   "id": "90541dd1",
   "metadata": {},
   "outputs": [
    {
     "data": {
      "text/plain": [
       "Text(0, 0.5, 'target')"
      ]
     },
     "execution_count": 86,
     "metadata": {},
     "output_type": "execute_result"
    },
    {
     "data": {
      "image/png": "[encoded data removed]",
      "text/plain": [
       "<Figure size 1008x504 with 2 Axes>"
      ]
     },
     "metadata": {
      "needs_background": "light"
     },
     "output_type": "display_data"
    }
   ],
   "source": [
    "plt.figure(figsize=(14, 7))\n",
    "\n",
    "plt.subplot(121)\n",
    "plt.scatter(cb_train_pred, train_target)\n",
    "plt.title(\"train data\")\n",
    "plt.xlabel(\"predict\")\n",
    "plt.ylabel(\"target\")\n",
    "\n",
    "plt.subplot(122)\n",
    "plt.scatter(cb_test_pred, test_target)\n",
    "plt.title(\"test data\")\n",
    "plt.xlabel(\"predict\")\n",
    "plt.ylabel(\"target\")"
   ]
  },
  {
   "cell_type": "markdown",
   "id": "f14322c0",
   "metadata": {},
   "source": [
    "### 4.3 평가"
   ]
  },
  {
   "cell_type": "code",
   "execution_count": 87,
   "id": "4f0fc592",
   "metadata": {},
   "outputs": [],
   "source": [
    "cb_train_mse = mean_squared_error(train_target, cb_train_pred)\n",
    "cb_test_mse = mean_squared_error(test_target, cb_test_pred)"
   ]
  },
  {
   "cell_type": "code",
   "execution_count": 97,
   "id": "74cf8c4b",
   "metadata": {},
   "outputs": [
    {
     "name": "stdout",
     "output_type": "stream",
     "text": [
      "Cat Boost Train MSE is 5291.0137\n",
      "Cat Boost Test MSE is 12420.1979\n"
     ]
    }
   ],
   "source": [
    "print(f\"Cat Boost Train MSE is {(cb_train_mse)**(1/2):.4f}\")\n",
    "print(f\"Cat Boost Test MSE is {(cb_test_mse)**(1/2):.4f}\")"
   ]
  },
  {
   "cell_type": "markdown",
   "id": "98071f01",
   "metadata": {},
   "source": [
    "## 5. 마무리\n"
   ]
  },
  {
   "cell_type": "code",
   "execution_count": 99,
   "id": "9424a427",
   "metadata": {},
   "outputs": [
    {
     "name": "stdout",
     "output_type": "stream",
     "text": [
      "XGBoost Test MSE is 14753.1888\n",
      "Light Boost Test MSE is 11338.2210\n",
      "Cat Boost Test MSE is 12420.1979\n"
     ]
    }
   ],
   "source": [
    "print(f\"XGBoost Test MSE is {(xgb_test_mse)**(1/2):.4f}\")\n",
    "print(f\"Light Boost Test MSE is {(lgb_test_mse)**(1/2):.4f}\")\n",
    "print(f\"Cat Boost Test MSE is {(cb_test_mse)**(1/2):.4f}\")"
   ]
  },
  {
   "cell_type": "markdown",
   "id": "72a5875b",
   "metadata": {},
   "source": []
  },
  {
   "cell_type": "code",
   "execution_count": null,
   "id": "8c9de31f",
   "metadata": {},
   "outputs": [],
   "source": []
  }
 ],
 "metadata": {
  "kernelspec": {
   "display_name": "Python 3 (ipykernel)",
   "language": "python",
   "name": "python3"
  },
  "language_info": {
   "codemirror_mode": {
    "name": "ipython",
    "version": 3
   },
   "file_extension": ".py",
   "mimetype": "text/x-python",
   "name": "python",
   "nbconvert_exporter": "python",
   "pygments_lexer": "ipython3",
   "version": "3.9.7"
  }
 },
 "nbformat": 4,
 "nbformat_minor": 5
}
