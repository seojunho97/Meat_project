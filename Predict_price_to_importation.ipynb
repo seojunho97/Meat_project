{
 "cells": [
  {
   "cell_type": "code",
   "execution_count": 1,
   "id": "01359655",
   "metadata": {},
   "outputs": [],
   "source": [
    "import pandas as pd\n",
    "import numpy as np\n",
    "import matplotlib.pyplot as plt\n",
    "from sklearn.model_selection import train_test_split\n",
    "from sklearn.linear_model import LinearRegression"
   ]
  },
  {
   "cell_type": "code",
   "execution_count": 2,
   "id": "ece864d3",
   "metadata": {},
   "outputs": [
    {
     "data": {
      "text/html": [
       "<div>\n",
       "<style scoped>\n",
       "    .dataframe tbody tr th:only-of-type {\n",
       "        vertical-align: middle;\n",
       "    }\n",
       "\n",
       "    .dataframe tbody tr th {\n",
       "        vertical-align: top;\n",
       "    }\n",
       "\n",
       "    .dataframe thead th {\n",
       "        text-align: right;\n",
       "    }\n",
       "</style>\n",
       "<table border=\"1\" class=\"dataframe\">\n",
       "  <thead>\n",
       "    <tr style=\"text-align: right;\">\n",
       "      <th></th>\n",
       "      <th>year_month</th>\n",
       "      <th>price</th>\n",
       "      <th>importation</th>\n",
       "      <th>slaughter</th>\n",
       "    </tr>\n",
       "  </thead>\n",
       "  <tbody>\n",
       "    <tr>\n",
       "      <th>0</th>\n",
       "      <td>200001</td>\n",
       "      <td>17558</td>\n",
       "      <td>15869000</td>\n",
       "      <td>121079</td>\n",
       "    </tr>\n",
       "    <tr>\n",
       "      <th>1</th>\n",
       "      <td>200002</td>\n",
       "      <td>18150</td>\n",
       "      <td>16536000</td>\n",
       "      <td>62486</td>\n",
       "    </tr>\n",
       "    <tr>\n",
       "      <th>2</th>\n",
       "      <td>200003</td>\n",
       "      <td>18032</td>\n",
       "      <td>21996000</td>\n",
       "      <td>74258</td>\n",
       "    </tr>\n",
       "    <tr>\n",
       "      <th>3</th>\n",
       "      <td>200004</td>\n",
       "      <td>16916</td>\n",
       "      <td>18384000</td>\n",
       "      <td>68224</td>\n",
       "    </tr>\n",
       "    <tr>\n",
       "      <th>4</th>\n",
       "      <td>200005</td>\n",
       "      <td>16780</td>\n",
       "      <td>19097000</td>\n",
       "      <td>90450</td>\n",
       "    </tr>\n",
       "  </tbody>\n",
       "</table>\n",
       "</div>"
      ],
      "text/plain": [
       "   year_month  price  importation  slaughter\n",
       "0      200001  17558     15869000     121079\n",
       "1      200002  18150     16536000      62486\n",
       "2      200003  18032     21996000      74258\n",
       "3      200004  16916     18384000      68224\n",
       "4      200005  16780     19097000      90450"
      ]
     },
     "execution_count": 2,
     "metadata": {},
     "output_type": "execute_result"
    }
   ],
   "source": [
    "# 데이터 불러오기\n",
    "df_price = pd.read_excel('result.xlsx')\n",
    "df_price.head()"
   ]
  },
  {
   "cell_type": "code",
   "execution_count": 39,
   "id": "cd2559ae",
   "metadata": {},
   "outputs": [],
   "source": [
    "# data,target 설정\n",
    "data = df_price['importation']\n",
    "target = df_price['price']"
   ]
  },
  {
   "cell_type": "code",
   "execution_count": 40,
   "id": "d6706d22",
   "metadata": {},
   "outputs": [
    {
     "name": "stdout",
     "output_type": "stream",
     "text": [
      "(252,)\n",
      "(252,)\n"
     ]
    }
   ],
   "source": [
    "print(data.shape)\n",
    "print(target.shape)"
   ]
  },
  {
   "cell_type": "code",
   "execution_count": 41,
   "id": "d604f23f",
   "metadata": {},
   "outputs": [],
   "source": [
    "# 계산하기 위해 2차원 배열로 변환\n",
    "data = np.array(data).reshape(-1,1)"
   ]
  },
  {
   "cell_type": "code",
   "execution_count": 42,
   "id": "42b1cc62",
   "metadata": {},
   "outputs": [
    {
     "data": {
      "text/plain": [
       "array([[15869000],\n",
       "       [16536000],\n",
       "       [21996000],\n",
       "       [18384000],\n",
       "       [19097000],\n",
       "       [18825000],\n",
       "       [20061000],\n",
       "       [27701000],\n",
       "       [23520000],\n",
       "       [20513000],\n",
       "       [18518000],\n",
       "       [16821000],\n",
       "       [16966000],\n",
       "       [11448000],\n",
       "       [12330000],\n",
       "       [ 8451000],\n",
       "       [ 7510000],\n",
       "       [ 7926000],\n",
       "       [12091000],\n",
       "       [12537000],\n",
       "       [13222000],\n",
       "       [19410000],\n",
       "       [21960000],\n",
       "       [22422000],\n",
       "       [28597000],\n",
       "       [19915000],\n",
       "       [25063000],\n",
       "       [23818000],\n",
       "       [24505000],\n",
       "       [21399000],\n",
       "       [24277000],\n",
       "       [27857000],\n",
       "       [24614000],\n",
       "       [25978000],\n",
       "       [19835000],\n",
       "       [26388000],\n",
       "       [28565000],\n",
       "       [20379000],\n",
       "       [26729000],\n",
       "       [24723000],\n",
       "       [22907000],\n",
       "       [24144000],\n",
       "       [30842000],\n",
       "       [22097000],\n",
       "       [31162000],\n",
       "       [22087000],\n",
       "       [21110000],\n",
       "       [18861000],\n",
       "       [ 8157000],\n",
       "       [ 7353000],\n",
       "       [12457000],\n",
       "       [13305000],\n",
       "       [17439000],\n",
       "       [17176000],\n",
       "       [12283000],\n",
       "       [ 8116000],\n",
       "       [ 7937000],\n",
       "       [ 7535000],\n",
       "       [ 8483000],\n",
       "       [12628000],\n",
       "       [15717000],\n",
       "       [10079000],\n",
       "       [14753000],\n",
       "       [12892000],\n",
       "       [ 9959000],\n",
       "       [ 9135000],\n",
       "       [ 9123000],\n",
       "       [13336000],\n",
       "       [12051000],\n",
       "       [12595000],\n",
       "       [11041000],\n",
       "       [11910000],\n",
       "       [ 9160000],\n",
       "       [11260000],\n",
       "       [15102000],\n",
       "       [11083000],\n",
       "       [14466000],\n",
       "       [16664000],\n",
       "       [16511000],\n",
       "       [18736000],\n",
       "       [16450000],\n",
       "       [15545000],\n",
       "       [16393000],\n",
       "       [18035000],\n",
       "       [22991000],\n",
       "       [17564000],\n",
       "       [20933000],\n",
       "       [14944000],\n",
       "       [11665000],\n",
       "       [11185000],\n",
       "       [17015000],\n",
       "       [18170000],\n",
       "       [17036000],\n",
       "       [17111000],\n",
       "       [14784000],\n",
       "       [19387000],\n",
       "       [19587000],\n",
       "       [13252000],\n",
       "       [15626000],\n",
       "       [19617000],\n",
       "       [16548000],\n",
       "       [11217000],\n",
       "       [18470000],\n",
       "       [13211000],\n",
       "       [21814000],\n",
       "       [28134000],\n",
       "       [23394000],\n",
       "       [23277000],\n",
       "       [14088000],\n",
       "       [15987000],\n",
       "       [20563000],\n",
       "       [15528000],\n",
       "       [11905000],\n",
       "       [15981000],\n",
       "       [17913000],\n",
       "       [14984000],\n",
       "       [17264000],\n",
       "       [13890000],\n",
       "       [16803000],\n",
       "       [22951000],\n",
       "       [17256000],\n",
       "       [14657000],\n",
       "       [20013000],\n",
       "       [18922000],\n",
       "       [18929000],\n",
       "       [25124000],\n",
       "       [27171000],\n",
       "       [26790000],\n",
       "       [17589000],\n",
       "       [16873000],\n",
       "       [19638000],\n",
       "       [22124000],\n",
       "       [20175000],\n",
       "       [18843000],\n",
       "       [36943000],\n",
       "       [30643000],\n",
       "       [22263000],\n",
       "       [24933000],\n",
       "       [21968000],\n",
       "       [25693000],\n",
       "       [23406000],\n",
       "       [19706000],\n",
       "       [21469000],\n",
       "       [23344000],\n",
       "       [21053000],\n",
       "       [19611000],\n",
       "       [21630000],\n",
       "       [17370000],\n",
       "       [20275000],\n",
       "       [21744000],\n",
       "       [22781000],\n",
       "       [22653000],\n",
       "       [18027000],\n",
       "       [23074000],\n",
       "       [21754000],\n",
       "       [22752000],\n",
       "       [28623000],\n",
       "       [18241000],\n",
       "       [20491000],\n",
       "       [20110000],\n",
       "       [18796000],\n",
       "       [17555000],\n",
       "       [20772000],\n",
       "       [20007000],\n",
       "       [19826000],\n",
       "       [25176000],\n",
       "       [21460000],\n",
       "       [25559000],\n",
       "       [25480000],\n",
       "       [20913000],\n",
       "       [24762000],\n",
       "       [23276000],\n",
       "       [21730000],\n",
       "       [23776000],\n",
       "       [25208000],\n",
       "       [21533000],\n",
       "       [21639000],\n",
       "       [23528000],\n",
       "       [20251000],\n",
       "       [28416000],\n",
       "       [22919000],\n",
       "       [15964000],\n",
       "       [23502000],\n",
       "       [23952000],\n",
       "       [24783000],\n",
       "       [28102000],\n",
       "       [30937000],\n",
       "       [26553000],\n",
       "       [23042000],\n",
       "       [22892000],\n",
       "       [25319000],\n",
       "       [29300000],\n",
       "       [25182000],\n",
       "       [22081000],\n",
       "       [30328000],\n",
       "       [26051000],\n",
       "       [29658000],\n",
       "       [30112000],\n",
       "       [29321000],\n",
       "       [33524000],\n",
       "       [32676000],\n",
       "       [30306000],\n",
       "       [33100000],\n",
       "       [39192000],\n",
       "       [33223000],\n",
       "       [24445000],\n",
       "       [28017000],\n",
       "       [24237000],\n",
       "       [23794000],\n",
       "       [29491000],\n",
       "       [28461000],\n",
       "       [33174000],\n",
       "       [30937000],\n",
       "       [28200000],\n",
       "       [29673000],\n",
       "       [30619000],\n",
       "       [31132000],\n",
       "       [26979000],\n",
       "       [32146000],\n",
       "       [31234000],\n",
       "       [34375000],\n",
       "       [35237000],\n",
       "       [38194000],\n",
       "       [42590000],\n",
       "       [34151000],\n",
       "       [43448000],\n",
       "       [33706000],\n",
       "       [32493000],\n",
       "       [36133000],\n",
       "       [27649000],\n",
       "       [31438000],\n",
       "       [40818000],\n",
       "       [39322000],\n",
       "       [34390000],\n",
       "       [40655000],\n",
       "       [40268000],\n",
       "       [32017000],\n",
       "       [39547000],\n",
       "       [31326000],\n",
       "       [33063000],\n",
       "       [34527000],\n",
       "       [28448000],\n",
       "       [33229000],\n",
       "       [39824000],\n",
       "       [34394000],\n",
       "       [33919000],\n",
       "       [35192000],\n",
       "       [35943000],\n",
       "       [39031000],\n",
       "       [33050000],\n",
       "       [32026000],\n",
       "       [39886000]], dtype=int64)"
      ]
     },
     "execution_count": 42,
     "metadata": {},
     "output_type": "execute_result"
    }
   ],
   "source": [
    "data"
   ]
  },
  {
   "cell_type": "code",
   "execution_count": 43,
   "id": "bd296a15",
   "metadata": {},
   "outputs": [
    {
     "name": "stdout",
     "output_type": "stream",
     "text": [
      "(252, 1)\n"
     ]
    }
   ],
   "source": [
    "print(data.shape)"
   ]
  },
  {
   "cell_type": "markdown",
   "id": "405a6cbf",
   "metadata": {},
   "source": [
    "### data split"
   ]
  },
  {
   "cell_type": "code",
   "execution_count": 44,
   "id": "8c3446f0",
   "metadata": {},
   "outputs": [],
   "source": [
    "train_data, test_data, train_target, test_target = train_test_split(\n",
    "data, target, test_size=0.3\n",
    ")"
   ]
  },
  {
   "cell_type": "code",
   "execution_count": 45,
   "id": "9a62cc08",
   "metadata": {},
   "outputs": [
    {
     "data": {
      "text/plain": [
       "(176, 176, 76, 76)"
      ]
     },
     "execution_count": 45,
     "metadata": {},
     "output_type": "execute_result"
    }
   ],
   "source": [
    "len(train_data), len(train_target), len(test_data), len(test_target)"
   ]
  },
  {
   "cell_type": "markdown",
   "id": "f4c04cdc",
   "metadata": {},
   "source": [
    "# Linear Regression"
   ]
  },
  {
   "cell_type": "code",
   "execution_count": 46,
   "id": "3fa542f6",
   "metadata": {},
   "outputs": [],
   "source": [
    "model = LinearRegression()"
   ]
  },
  {
   "cell_type": "code",
   "execution_count": 47,
   "id": "a1f12028",
   "metadata": {},
   "outputs": [
    {
     "data": {
      "text/plain": [
       "LinearRegression()"
      ]
     },
     "execution_count": 47,
     "metadata": {},
     "output_type": "execute_result"
    }
   ],
   "source": [
    "# model 학습\n",
    "model.fit(train_data, train_target)"
   ]
  },
  {
   "cell_type": "code",
   "execution_count": 48,
   "id": "4647f010",
   "metadata": {},
   "outputs": [
    {
     "data": {
      "text/plain": [
       "20989.847815183868"
      ]
     },
     "execution_count": 48,
     "metadata": {},
     "output_type": "execute_result"
    }
   ],
   "source": [
    "# bias 값\n",
    "model.intercept_"
   ]
  },
  {
   "cell_type": "code",
   "execution_count": 49,
   "id": "d2ba7239",
   "metadata": {},
   "outputs": [
    {
     "data": {
      "text/plain": [
       "array([0.00050904])"
      ]
     },
     "execution_count": 49,
     "metadata": {},
     "output_type": "execute_result"
    }
   ],
   "source": [
    "# weight 값\n",
    "model.coef_"
   ]
  },
  {
   "cell_type": "code",
   "execution_count": 50,
   "id": "5404b796",
   "metadata": {},
   "outputs": [
    {
     "data": {
      "text/plain": [
       "array([28617.37168483, 30960.50385061, 31913.94433431, 35170.30246259,\n",
       "       31420.68014386, 36318.19797287, 27052.56866993, 32735.54227382,\n",
       "       38495.89065269, 31363.66715178, 31201.79097782, 31226.73416186,\n",
       "       40940.32268833, 30348.12323027, 36936.17808351, 30416.33520294,\n",
       "       35344.90475085, 33805.55396456, 28677.43894435, 29943.43279538,\n",
       "       33463.98505662, 33114.27143553, 34596.10018517, 35560.23060489,\n",
       "       32642.89616168, 35915.54371627, 30972.72092034, 37353.5946327 ,\n",
       "       32168.46662041, 35904.85378026, 30275.32985644, 28353.68659644,\n",
       "       31086.74690451, 31635.49695333, 36689.80051057, 31310.72651627,\n",
       "       34213.80771145, 29926.12527992, 33102.0543658 , 28515.56277039,\n",
       "       29394.68274656, 25308.07292104, 28450.91410973, 24825.49866661,\n",
       "       36738.15974493, 30391.90106347, 28902.94568983, 29543.32376164,\n",
       "       43106.81638756, 32966.6485096 , 29472.56656611, 32904.54507179,\n",
       "       35530.7060197 , 24732.85255447, 37530.23309925, 29773.92095284,\n",
       "       35454.85837844, 29700.10948987, 32586.39221417, 37904.88990438,\n",
       "       34506.50834046, 29626.29802691, 29777.99330942, 28499.78238866,\n",
       "       34068.73000838, 27778.46622987, 41006.49848271, 36094.72740568,\n",
       "       29733.19738706, 34627.15190407, 37287.92788289, 36738.15974493,\n",
       "       28894.2919321 , 38055.05805318, 32962.57615302, 32063.60343854])"
      ]
     },
     "execution_count": 50,
     "metadata": {},
     "output_type": "execute_result"
    }
   ],
   "source": [
    "# 모델 예측\n",
    "model.predict(test_data)"
   ]
  },
  {
   "cell_type": "markdown",
   "id": "e78ca5bc",
   "metadata": {},
   "source": [
    "### 모델 평가"
   ]
  },
  {
   "cell_type": "code",
   "execution_count": 51,
   "id": "8eeff272",
   "metadata": {},
   "outputs": [],
   "source": [
    "from sklearn.metrics import mean_squared_error"
   ]
  },
  {
   "cell_type": "code",
   "execution_count": 52,
   "id": "636fa821",
   "metadata": {},
   "outputs": [],
   "source": [
    "train_pred = model.predict(train_data)\n",
    "test_pred = model.predict(test_data)\n",
    "\n",
    "train_mse = mean_squared_error(train_pred, train_target)\n",
    "test_mse = mean_squared_error(test_pred, test_target)"
   ]
  },
  {
   "cell_type": "code",
   "execution_count": 53,
   "id": "46b53849",
   "metadata": {},
   "outputs": [
    {
     "name": "stdout",
     "output_type": "stream",
     "text": [
      "74423290.18743752\n",
      "89492762.9022497\n"
     ]
    }
   ],
   "source": [
    "print(train_mse)\n",
    "print(test_mse)"
   ]
  },
  {
   "cell_type": "code",
   "execution_count": 54,
   "id": "a49d5aeb",
   "metadata": {},
   "outputs": [
    {
     "name": "stdout",
     "output_type": "stream",
     "text": [
      "8626.893426224617\n",
      "9460.061463978429\n"
     ]
    }
   ],
   "source": [
    "# 가독성을 위해 rms 적용\n",
    "print(train_mse**(1/2))\n",
    "print(test_mse**(1/2))"
   ]
  },
  {
   "cell_type": "code",
   "execution_count": 55,
   "id": "cb22fd27",
   "metadata": {},
   "outputs": [
    {
     "name": "stdout",
     "output_type": "stream",
     "text": [
      "[41685.05489744 27144.70573749 27762.68584813 32650.53183027\n",
      " 38147.70416531 32322.70712578 30590.9374912  35251.74959414\n",
      " 35064.42119158 33748.0319279 ]\n",
      "234    43580\n",
      "18     17840\n",
      "51     30800\n",
      "40     31200\n",
      "226    42820\n",
      "136    31400\n",
      "47     31200\n",
      "206    45910\n",
      "229    43370\n",
      "26     30206\n",
      "Name: price, dtype: int64\n"
     ]
    }
   ],
   "source": [
    "print(train_pred[:10])\n",
    "print(train_target[:10])"
   ]
  },
  {
   "cell_type": "markdown",
   "id": "e4a5252b",
   "metadata": {},
   "source": [
    "# Logistic Regression"
   ]
  },
  {
   "cell_type": "code",
   "execution_count": 56,
   "id": "94a09482",
   "metadata": {},
   "outputs": [],
   "source": [
    "from sklearn.linear_model import LogisticRegression"
   ]
  },
  {
   "cell_type": "code",
   "execution_count": 58,
   "id": "1eaaf95c",
   "metadata": {},
   "outputs": [],
   "source": [
    "data = df_price['importation']\n",
    "target = df_price['price']"
   ]
  },
  {
   "cell_type": "code",
   "execution_count": 59,
   "id": "99a8a92d",
   "metadata": {},
   "outputs": [],
   "source": [
    "data = np.array(data).reshape(-1,1)"
   ]
  },
  {
   "cell_type": "code",
   "execution_count": 60,
   "id": "98e4e0d3",
   "metadata": {},
   "outputs": [
    {
     "name": "stdout",
     "output_type": "stream",
     "text": [
      "176\n",
      "76\n"
     ]
    }
   ],
   "source": [
    "train_data, test_data, train_target, test_target = train_test_split(\n",
    "    data, target, train_size=0.7, random_state=2022\n",
    ")\n",
    "print(len(train_data))\n",
    "print(len(test_data))"
   ]
  },
  {
   "cell_type": "code",
   "execution_count": 61,
   "id": "ba60ce3f",
   "metadata": {},
   "outputs": [],
   "source": [
    "from sklearn.preprocessing import StandardScaler\n",
    "scaler = StandardScaler()"
   ]
  },
  {
   "cell_type": "code",
   "execution_count": 62,
   "id": "ff66162a",
   "metadata": {},
   "outputs": [],
   "source": [
    "scaler.fit(train_data)\n",
    "scaled_train_data = scaler.transform(train_data)\n",
    "scaled_test_data = scaler.transform(test_data)"
   ]
  },
  {
   "cell_type": "code",
   "execution_count": 63,
   "id": "c6cca9ae",
   "metadata": {},
   "outputs": [
    {
     "data": {
      "text/plain": [
       "LogisticRegression()"
      ]
     },
     "execution_count": 63,
     "metadata": {},
     "output_type": "execute_result"
    }
   ],
   "source": [
    "logit_regression = LogisticRegression()\n",
    "logit_regression.fit(scaled_train_data, train_target)"
   ]
  },
  {
   "cell_type": "code",
   "execution_count": 64,
   "id": "71688e41",
   "metadata": {},
   "outputs": [],
   "source": [
    "train_pred = logit_regression.predict(scaled_train_data)\n",
    "test_pred = logit_regression.predict(scaled_test_data)"
   ]
  },
  {
   "cell_type": "code",
   "execution_count": 65,
   "id": "4e42c550",
   "metadata": {},
   "outputs": [
    {
     "data": {
      "text/plain": [
       "array([21000, 22570, 22570, 21000, 22570, 22570, 22570, 22570, 21000,\n",
       "       22570], dtype=int64)"
      ]
     },
     "execution_count": 65,
     "metadata": {},
     "output_type": "execute_result"
    }
   ],
   "source": [
    "train_pred[:10]"
   ]
  },
  {
   "cell_type": "code",
   "execution_count": 66,
   "id": "4ad53766",
   "metadata": {},
   "outputs": [
    {
     "data": {
      "text/plain": [
       "68     37782\n",
       "105    33956\n",
       "155    21000\n",
       "78     37142\n",
       "193    28000\n",
       "209    45750\n",
       "25     30120\n",
       "4      16780\n",
       "120    30360\n",
       "31     28836\n",
       "Name: price, dtype: int64"
      ]
     },
     "execution_count": 66,
     "metadata": {},
     "output_type": "execute_result"
    }
   ],
   "source": [
    "train_target[:10]"
   ]
  },
  {
   "cell_type": "markdown",
   "id": "a55c5dfc",
   "metadata": {},
   "source": [
    "### 정확도 측정"
   ]
  },
  {
   "cell_type": "code",
   "execution_count": 67,
   "id": "15485f74",
   "metadata": {},
   "outputs": [],
   "source": [
    "from sklearn.metrics import accuracy_score"
   ]
  },
  {
   "cell_type": "code",
   "execution_count": 68,
   "id": "a1895676",
   "metadata": {},
   "outputs": [
    {
     "name": "stdout",
     "output_type": "stream",
     "text": [
      "train_acc is 0.06\n",
      "test_acc is 0.07\n"
     ]
    }
   ],
   "source": [
    "train_acc = accuracy_score(train_target, train_pred)\n",
    "test_acc = accuracy_score(test_target, test_pred)\n",
    "print(f'train_acc is {train_acc:.2f}')\n",
    "print(f'test_acc is {test_acc:.2f}')"
   ]
  },
  {
   "cell_type": "markdown",
   "id": "c26a7d35",
   "metadata": {},
   "source": [
    "# Hyperparameter"
   ]
  },
  {
   "cell_type": "code",
   "execution_count": 69,
   "id": "c383d48f",
   "metadata": {},
   "outputs": [],
   "source": [
    "from sklearn.model_selection import GridSearchCV"
   ]
  },
  {
   "cell_type": "code",
   "execution_count": 102,
   "id": "7f98d296",
   "metadata": {},
   "outputs": [],
   "source": [
    "# 탐색범위 선정\n",
    "params = [\n",
    "          {\"kernel\":[\"linear\"], \"C\":[10,30,100,300,1000,3000,10000,30000]},\n",
    "          {\n",
    "            \"kernel\":[\"rbf\"],\n",
    "            \"C\":[10, 30, 100, 300, 1000],\n",
    "            \"gamma\":[0.03, 0.1, 0.3, 1.0, 3.0]\n",
    "          }\n",
    "]"
   ]
  },
  {
   "cell_type": "code",
   "execution_count": 71,
   "id": "1f91eb14",
   "metadata": {
    "scrolled": true
   },
   "outputs": [
    {
     "data": {
      "text/plain": [
       "[{'kernel': ['linear'], 'C': [10, 30, 100, 300, 1000, 3000, 10000, 30000]},\n",
       " {'kernel': ['rbf'],\n",
       "  'C': [10, 30, 100, 300, 1000],\n",
       "  'gamma': [0.03, 0.1, 0.3, 1.0, 3.0]}]"
      ]
     },
     "execution_count": 71,
     "metadata": {},
     "output_type": "execute_result"
    }
   ],
   "source": [
    "params"
   ]
  },
  {
   "cell_type": "code",
   "execution_count": 72,
   "id": "56dbd545",
   "metadata": {},
   "outputs": [
    {
     "name": "stderr",
     "output_type": "stream",
     "text": [
      "C:\\ProgramData\\Anaconda3\\lib\\site-packages\\sklearn\\model_selection\\_split.py:676: UserWarning: The least populated class in y has only 1 members, which is less than n_splits=3.\n",
      "  warnings.warn(\n"
     ]
    },
    {
     "data": {
      "text/plain": [
       "GridSearchCV(cv=3, estimator=SVC(), n_jobs=-1,\n",
       "             param_grid=[{'C': [10, 30, 100, 300, 1000, 3000, 10000, 30000],\n",
       "                          'kernel': ['linear']},\n",
       "                         {'C': [10, 30, 100, 300, 1000],\n",
       "                          'gamma': [0.03, 0.1, 0.3, 1.0, 3.0],\n",
       "                          'kernel': ['rbf']}])"
      ]
     },
     "execution_count": 72,
     "metadata": {},
     "output_type": "execute_result"
    }
   ],
   "source": [
    "# 탐색 수행\n",
    "from sklearn.svm import SVC\n",
    "svm = SVC()\n",
    "grid_cv = GridSearchCV(svm, params, cv=3, n_jobs=-1)\n",
    "grid_cv.fit(scaled_train_data, train_target)"
   ]
  },
  {
   "cell_type": "code",
   "execution_count": 73,
   "id": "9a1bbefa",
   "metadata": {},
   "outputs": [
    {
     "data": {
      "text/plain": [
       "{'C': 100, 'gamma': 0.3, 'kernel': 'rbf'}"
      ]
     },
     "execution_count": 73,
     "metadata": {},
     "output_type": "execute_result"
    }
   ],
   "source": [
    "# 결과\n",
    "# Optimized parameter\n",
    "grid_cv.best_params_"
   ]
  },
  {
   "cell_type": "code",
   "execution_count": 74,
   "id": "56ea571d",
   "metadata": {},
   "outputs": [],
   "source": [
    "# Optimized model\n",
    "train_pred = grid_cv.best_estimator_.predict(scaled_train_data)\n",
    "test_pred = grid_cv.best_estimator_.predict(scaled_test_data)"
   ]
  },
  {
   "cell_type": "code",
   "execution_count": 75,
   "id": "6f877dd4",
   "metadata": {},
   "outputs": [
    {
     "name": "stdout",
     "output_type": "stream",
     "text": [
      "best_train_acc is 0.24\n",
      "best_test_acc is 0.05\n"
     ]
    }
   ],
   "source": [
    "best_train_acc = accuracy_score(train_target, train_pred)\n",
    "best_test_acc = accuracy_score(test_target, test_pred)\n",
    "print(f'best_train_acc is {best_train_acc:.2f}')\n",
    "print(f'best_test_acc is {best_test_acc:.2f}')"
   ]
  },
  {
   "cell_type": "markdown",
   "id": "3ab352ab",
   "metadata": {},
   "source": [
    "# Boosting_Regression"
   ]
  },
  {
   "cell_type": "code",
   "execution_count": 76,
   "id": "f5b20e09",
   "metadata": {
    "collapsed": true
   },
   "outputs": [
    {
     "name": "stdout",
     "output_type": "stream",
     "text": [
      "Requirement already satisfied: catboost in c:\\programdata\\anaconda3\\lib\\site-packages (1.0.6)\n",
      "Requirement already satisfied: scipy in c:\\programdata\\anaconda3\\lib\\site-packages (from catboost) (1.7.3)\n",
      "Requirement already satisfied: plotly in c:\\programdata\\anaconda3\\lib\\site-packages (from catboost) (5.6.0)\n",
      "Requirement already satisfied: matplotlib in c:\\programdata\\anaconda3\\lib\\site-packages (from catboost) (3.5.1)\n",
      "Requirement already satisfied: six in c:\\programdata\\anaconda3\\lib\\site-packages (from catboost) (1.16.0)\n",
      "Requirement already satisfied: pandas>=0.24.0 in c:\\programdata\\anaconda3\\lib\\site-packages (from catboost) (1.4.2)\n",
      "Requirement already satisfied: graphviz in c:\\programdata\\anaconda3\\lib\\site-packages (from catboost) (0.20)\n",
      "Requirement already satisfied: numpy>=1.16.0 in c:\\programdata\\anaconda3\\lib\\site-packages (from catboost) (1.21.5)\n",
      "Requirement already satisfied: python-dateutil>=2.8.1 in c:\\programdata\\anaconda3\\lib\\site-packages (from pandas>=0.24.0->catboost) (2.8.2)\n",
      "Requirement already satisfied: pytz>=2020.1 in c:\\programdata\\anaconda3\\lib\\site-packages (from pandas>=0.24.0->catboost) (2021.3)\n",
      "Requirement already satisfied: pyparsing>=2.2.1 in c:\\programdata\\anaconda3\\lib\\site-packages (from matplotlib->catboost) (3.0.4)\n",
      "Requirement already satisfied: packaging>=20.0 in c:\\programdata\\anaconda3\\lib\\site-packages (from matplotlib->catboost) (21.3)\n",
      "Requirement already satisfied: pillow>=6.2.0 in c:\\programdata\\anaconda3\\lib\\site-packages (from matplotlib->catboost) (9.0.1)\n",
      "Requirement already satisfied: kiwisolver>=1.0.1 in c:\\programdata\\anaconda3\\lib\\site-packages (from matplotlib->catboost) (1.3.2)\n",
      "Requirement already satisfied: cycler>=0.10 in c:\\programdata\\anaconda3\\lib\\site-packages (from matplotlib->catboost) (0.11.0)\n",
      "Requirement already satisfied: fonttools>=4.22.0 in c:\\programdata\\anaconda3\\lib\\site-packages (from matplotlib->catboost) (4.25.0)\n",
      "Requirement already satisfied: tenacity>=6.2.0 in c:\\programdata\\anaconda3\\lib\\site-packages (from plotly->catboost) (8.0.1)\n"
     ]
    }
   ],
   "source": [
    "!pip install catboost"
   ]
  },
  {
   "cell_type": "markdown",
   "id": "853c9a95",
   "metadata": {},
   "source": [
    "### 1.Data Split"
   ]
  },
  {
   "cell_type": "code",
   "execution_count": 77,
   "id": "87014828",
   "metadata": {},
   "outputs": [],
   "source": [
    "data, target = df_price[\"importation\"], df_price[\"price\"]"
   ]
  },
  {
   "cell_type": "code",
   "execution_count": 78,
   "id": "0ca4210d",
   "metadata": {},
   "outputs": [],
   "source": [
    "data = np.array(data).reshape(-1,1)"
   ]
  },
  {
   "cell_type": "code",
   "execution_count": 80,
   "id": "35e817f2",
   "metadata": {},
   "outputs": [],
   "source": [
    "train_data, test_data, train_target, test_target = train_test_split(\n",
    "    data, target, train_size=0.7, random_state=2021\n",
    ")"
   ]
  },
  {
   "cell_type": "markdown",
   "id": "7e3ecc0e",
   "metadata": {},
   "source": [
    "## 2. XGBoost"
   ]
  },
  {
   "cell_type": "code",
   "execution_count": 81,
   "id": "a8c1e663",
   "metadata": {
    "collapsed": true
   },
   "outputs": [
    {
     "name": "stdout",
     "output_type": "stream",
     "text": [
      "Requirement already satisfied: xgboost in c:\\programdata\\anaconda3\\lib\\site-packages (1.6.1)\n",
      "Requirement already satisfied: numpy in c:\\programdata\\anaconda3\\lib\\site-packages (from xgboost) (1.21.5)\n",
      "Requirement already satisfied: scipy in c:\\programdata\\anaconda3\\lib\\site-packages (from xgboost) (1.7.3)\n"
     ]
    }
   ],
   "source": [
    "!pip install xgboost"
   ]
  },
  {
   "cell_type": "code",
   "execution_count": 82,
   "id": "1cb68eaf",
   "metadata": {},
   "outputs": [],
   "source": [
    "import xgboost as xgb\n",
    "\n",
    "\n",
    "xgb_reg = xgb.XGBRegressor()"
   ]
  },
  {
   "cell_type": "markdown",
   "id": "4d8af2c5",
   "metadata": {},
   "source": [
    "### 2.1 학습"
   ]
  },
  {
   "cell_type": "code",
   "execution_count": 83,
   "id": "206b95a8",
   "metadata": {},
   "outputs": [
    {
     "data": {
      "text/plain": [
       "XGBRegressor(base_score=0.5, booster='gbtree', callbacks=None,\n",
       "             colsample_bylevel=1, colsample_bynode=1, colsample_bytree=1,\n",
       "             early_stopping_rounds=None, enable_categorical=False,\n",
       "             eval_metric=None, gamma=0, gpu_id=-1, grow_policy='depthwise',\n",
       "             importance_type=None, interaction_constraints='',\n",
       "             learning_rate=0.300000012, max_bin=256, max_cat_to_onehot=4,\n",
       "             max_delta_step=0, max_depth=6, max_leaves=0, min_child_weight=1,\n",
       "             missing=nan, monotone_constraints='()', n_estimators=100, n_jobs=0,\n",
       "             num_parallel_tree=1, predictor='auto', random_state=0, reg_alpha=0,\n",
       "             reg_lambda=1, ...)"
      ]
     },
     "execution_count": 83,
     "metadata": {},
     "output_type": "execute_result"
    }
   ],
   "source": [
    "xgb_reg.fit(train_data, train_target)"
   ]
  },
  {
   "cell_type": "markdown",
   "id": "8db4f693",
   "metadata": {},
   "source": [
    "### 2.2 예측"
   ]
  },
  {
   "cell_type": "code",
   "execution_count": 84,
   "id": "21baac0f",
   "metadata": {},
   "outputs": [],
   "source": [
    "xgb_train_pred = xgb_reg.predict(train_data)\n",
    "xgb_test_pred = xgb_reg.predict(test_data)"
   ]
  },
  {
   "cell_type": "code",
   "execution_count": 85,
   "id": "acd135d8",
   "metadata": {},
   "outputs": [
    {
     "data": {
      "text/plain": [
       "Text(0, 0.5, 'target')"
      ]
     },
     "execution_count": 85,
     "metadata": {},
     "output_type": "execute_result"
    },
    {
     "data": {
      "image/png": "[encoded data removed]",
      "text/plain": [
       "<Figure size 1008x504 with 2 Axes>"
      ]
     },
     "metadata": {
      "needs_background": "light"
     },
     "output_type": "display_data"
    }
   ],
   "source": [
    "plt.figure(figsize=(14, 7))\n",
    "\n",
    "plt.subplot(121)\n",
    "plt.scatter(xgb_train_pred, train_target)\n",
    "plt.title(\"train data\")\n",
    "plt.xlabel(\"predict\")\n",
    "plt.ylabel(\"target\")\n",
    "\n",
    "plt.subplot(122)\n",
    "plt.scatter(xgb_test_pred, test_target)\n",
    "plt.title(\"test data\")\n",
    "plt.xlabel(\"predict\")\n",
    "plt.ylabel(\"target\")"
   ]
  },
  {
   "cell_type": "markdown",
   "id": "457d543d",
   "metadata": {},
   "source": [
    "### 2.3 평가"
   ]
  },
  {
   "cell_type": "code",
   "execution_count": 86,
   "id": "bf07c234",
   "metadata": {},
   "outputs": [],
   "source": [
    "from sklearn.metrics import mean_squared_error\n",
    "\n",
    "xgb_train_mse = mean_squared_error(train_target, xgb_train_pred)\n",
    "xgb_test_mse = mean_squared_error(test_target, xgb_test_pred)"
   ]
  },
  {
   "cell_type": "code",
   "execution_count": 87,
   "id": "84cfeb7e",
   "metadata": {},
   "outputs": [
    {
     "name": "stdout",
     "output_type": "stream",
     "text": [
      "XGBoost Train MSE is 1371.5641\n",
      "XGBoost Test MSE is 10227.0174\n"
     ]
    }
   ],
   "source": [
    "print(f\"XGBoost Train MSE is {xgb_train_mse**(1/2):.4f}\")\n",
    "print(f\"XGBoost Test MSE is {xgb_test_mse**(1/2):.4f}\")"
   ]
  },
  {
   "cell_type": "markdown",
   "id": "7c8847aa",
   "metadata": {},
   "source": [
    "## 3. Light GBM"
   ]
  },
  {
   "cell_type": "code",
   "execution_count": 88,
   "id": "cf151837",
   "metadata": {
    "collapsed": true
   },
   "outputs": [
    {
     "name": "stdout",
     "output_type": "stream",
     "text": [
      "Requirement already satisfied: lightgbm in c:\\programdata\\anaconda3\\lib\\site-packages (3.3.2)\n",
      "Requirement already satisfied: wheel in c:\\programdata\\anaconda3\\lib\\site-packages (from lightgbm) (0.37.1)\n",
      "Requirement already satisfied: numpy in c:\\programdata\\anaconda3\\lib\\site-packages (from lightgbm) (1.21.5)\n",
      "Requirement already satisfied: scipy in c:\\programdata\\anaconda3\\lib\\site-packages (from lightgbm) (1.7.3)\n",
      "Requirement already satisfied: scikit-learn!=0.22.0 in c:\\programdata\\anaconda3\\lib\\site-packages (from lightgbm) (1.0.2)\n",
      "Requirement already satisfied: joblib>=0.11 in c:\\programdata\\anaconda3\\lib\\site-packages (from scikit-learn!=0.22.0->lightgbm) (1.1.0)\n",
      "Requirement already satisfied: threadpoolctl>=2.0.0 in c:\\programdata\\anaconda3\\lib\\site-packages (from scikit-learn!=0.22.0->lightgbm) (2.2.0)\n"
     ]
    }
   ],
   "source": [
    "!pip install lightgbm"
   ]
  },
  {
   "cell_type": "code",
   "execution_count": 89,
   "id": "bf22f9f7",
   "metadata": {},
   "outputs": [],
   "source": [
    "import lightgbm as lgb\n",
    "\n",
    "lgb_reg = lgb.LGBMRegressor()"
   ]
  },
  {
   "cell_type": "markdown",
   "id": "33f3763b",
   "metadata": {},
   "source": [
    "### 3.1 학습"
   ]
  },
  {
   "cell_type": "code",
   "execution_count": 90,
   "id": "5a7e0746",
   "metadata": {},
   "outputs": [
    {
     "data": {
      "text/plain": [
       "LGBMRegressor()"
      ]
     },
     "execution_count": 90,
     "metadata": {},
     "output_type": "execute_result"
    }
   ],
   "source": [
    "lgb_reg.fit(train_data, train_target)"
   ]
  },
  {
   "cell_type": "markdown",
   "id": "908ac56e",
   "metadata": {},
   "source": [
    "### 3.2 예측"
   ]
  },
  {
   "cell_type": "code",
   "execution_count": 91,
   "id": "f7e6ddc0",
   "metadata": {},
   "outputs": [],
   "source": [
    "lgb_train_pred = lgb_reg.predict(train_data)\n",
    "lgb_test_pred = lgb_reg.predict(test_data)"
   ]
  },
  {
   "cell_type": "code",
   "execution_count": 92,
   "id": "28fe874a",
   "metadata": {},
   "outputs": [
    {
     "data": {
      "text/plain": [
       "Text(0, 0.5, 'target')"
      ]
     },
     "execution_count": 92,
     "metadata": {},
     "output_type": "execute_result"
    },
    {
     "data": {
      "image/png": "[encoded data removed]",
      "text/plain": [
       "<Figure size 1008x504 with 2 Axes>"
      ]
     },
     "metadata": {
      "needs_background": "light"
     },
     "output_type": "display_data"
    }
   ],
   "source": [
    "plt.figure(figsize=(14, 7))\n",
    "\n",
    "plt.subplot(121)\n",
    "plt.scatter(lgb_train_pred, train_target)\n",
    "plt.title(\"train data\")\n",
    "plt.xlabel(\"predict\")\n",
    "plt.ylabel(\"target\")\n",
    "\n",
    "plt.subplot(122)\n",
    "plt.scatter(lgb_test_pred, test_target)\n",
    "plt.title(\"test data\")\n",
    "plt.xlabel(\"predict\")\n",
    "plt.ylabel(\"target\")"
   ]
  },
  {
   "cell_type": "markdown",
   "id": "2c2df1ce",
   "metadata": {},
   "source": [
    "### 3.3 평가"
   ]
  },
  {
   "cell_type": "code",
   "execution_count": 93,
   "id": "d11e4393",
   "metadata": {},
   "outputs": [],
   "source": [
    "lgb_train_mse = mean_squared_error(train_target, lgb_train_pred)\n",
    "lgb_test_mse = mean_squared_error(test_target, lgb_test_pred)"
   ]
  },
  {
   "cell_type": "code",
   "execution_count": 94,
   "id": "cf9a65f0",
   "metadata": {},
   "outputs": [
    {
     "name": "stdout",
     "output_type": "stream",
     "text": [
      "Light Boost Train MSE is 7738.8126\n",
      "Light Boost Test MSE is 7699.6226\n"
     ]
    }
   ],
   "source": [
    "print(f\"Light Boost Train MSE is {lgb_train_mse**(1/2):.4f}\")\n",
    "print(f\"Light Boost Test MSE is {lgb_test_mse**(1/2):.4f}\")"
   ]
  },
  {
   "cell_type": "markdown",
   "id": "72795a85",
   "metadata": {},
   "source": [
    "## 4. CatBoost"
   ]
  },
  {
   "cell_type": "code",
   "execution_count": 95,
   "id": "b6a71080",
   "metadata": {},
   "outputs": [],
   "source": [
    "import catboost as cb\n",
    "\n",
    "\n",
    "cb_reg = cb.CatBoostRegressor()"
   ]
  },
  {
   "cell_type": "markdown",
   "id": "b7d43b0f",
   "metadata": {},
   "source": [
    "### 4.1 학습"
   ]
  },
  {
   "cell_type": "code",
   "execution_count": 96,
   "id": "9abba90a",
   "metadata": {},
   "outputs": [
    {
     "data": {
      "text/plain": [
       "<catboost.core.CatBoostRegressor at 0x15b1f97c8e0>"
      ]
     },
     "execution_count": 96,
     "metadata": {},
     "output_type": "execute_result"
    }
   ],
   "source": [
    "cb_reg.fit(train_data, train_target, verbose=False)"
   ]
  },
  {
   "cell_type": "markdown",
   "id": "99befab3",
   "metadata": {},
   "source": [
    "### 4.2 예측"
   ]
  },
  {
   "cell_type": "code",
   "execution_count": 97,
   "id": "d395565e",
   "metadata": {},
   "outputs": [],
   "source": [
    "cb_train_pred = cb_reg.predict(train_data)\n",
    "cb_test_pred = cb_reg.predict(test_data)"
   ]
  },
  {
   "cell_type": "code",
   "execution_count": 98,
   "id": "19937960",
   "metadata": {},
   "outputs": [
    {
     "data": {
      "text/plain": [
       "Text(0, 0.5, 'target')"
      ]
     },
     "execution_count": 98,
     "metadata": {},
     "output_type": "execute_result"
    },
    {
     "data": {
      "image/png": "[encoded data removed]",
      "text/plain": [
       "<Figure size 1008x504 with 2 Axes>"
      ]
     },
     "metadata": {
      "needs_background": "light"
     },
     "output_type": "display_data"
    }
   ],
   "source": [
    "plt.figure(figsize=(14, 7))\n",
    "\n",
    "plt.subplot(121)\n",
    "plt.scatter(cb_train_pred, train_target)\n",
    "plt.title(\"train data\")\n",
    "plt.xlabel(\"predict\")\n",
    "plt.ylabel(\"target\")\n",
    "\n",
    "plt.subplot(122)\n",
    "plt.scatter(cb_test_pred, test_target)\n",
    "plt.title(\"test data\")\n",
    "plt.xlabel(\"predict\")\n",
    "plt.ylabel(\"target\")"
   ]
  },
  {
   "cell_type": "markdown",
   "id": "d204dcf5",
   "metadata": {},
   "source": [
    "### 4.3 평가"
   ]
  },
  {
   "cell_type": "code",
   "execution_count": 99,
   "id": "99116d30",
   "metadata": {},
   "outputs": [],
   "source": [
    "cb_train_mse = mean_squared_error(train_target, cb_train_pred)\n",
    "cb_test_mse = mean_squared_error(test_target, cb_test_pred)"
   ]
  },
  {
   "cell_type": "code",
   "execution_count": 100,
   "id": "67ce8376",
   "metadata": {},
   "outputs": [
    {
     "name": "stdout",
     "output_type": "stream",
     "text": [
      "Cat Boost Train MSE is 4806.5644\n",
      "Cat Boost Test MSE is 8481.6910\n"
     ]
    }
   ],
   "source": [
    "print(f\"Cat Boost Train MSE is {cb_train_mse**(1/2):.4f}\")\n",
    "print(f\"Cat Boost Test MSE is {cb_test_mse**(1/2):.4f}\")"
   ]
  },
  {
   "cell_type": "markdown",
   "id": "49f6385c",
   "metadata": {},
   "source": [
    "## 5. 마무리"
   ]
  },
  {
   "cell_type": "code",
   "execution_count": 101,
   "id": "7cfba9e1",
   "metadata": {},
   "outputs": [
    {
     "name": "stdout",
     "output_type": "stream",
     "text": [
      "XGBoost Test MSE is 10227.0174\n",
      "Light Boost Test MSE is 7699.6226\n",
      "Cat Boost Test MSE is 8481.6910\n"
     ]
    }
   ],
   "source": [
    "print(f\"XGBoost Test MSE is {xgb_test_mse**(1/2):.4f}\")\n",
    "print(f\"Light Boost Test MSE is {lgb_test_mse**(1/2):.4f}\")\n",
    "print(f\"Cat Boost Test MSE is {cb_test_mse**(1/2):.4f}\")"
   ]
  }
 ],
 "metadata": {
  "kernelspec": {
   "display_name": "Python 3 (ipykernel)",
   "language": "python",
   "name": "python3"
  },
  "language_info": {
   "codemirror_mode": {
    "name": "ipython",
    "version": 3
   },
   "file_extension": ".py",
   "mimetype": "text/x-python",
   "name": "python",
   "nbconvert_exporter": "python",
   "pygments_lexer": "ipython3",
   "version": "3.9.12"
  }
 },
 "nbformat": 4,
 "nbformat_minor": 5
}
