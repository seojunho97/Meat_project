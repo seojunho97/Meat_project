{
 "cells": [
  {
   "cell_type": "code",
   "execution_count": 22,
   "id": "3f0c90cd",
   "metadata": {},
   "outputs": [
    {
     "name": "stdout",
     "output_type": "stream",
     "text": [
      "Requirement already satisfied: selenium in c:\\programdata\\anaconda3\\lib\\site-packages (4.2.0)\n",
      "Requirement already satisfied: trio~=0.17 in c:\\programdata\\anaconda3\\lib\\site-packages (from selenium) (0.21.0)\n",
      "Requirement already satisfied: trio-websocket~=0.9 in c:\\programdata\\anaconda3\\lib\\site-packages (from selenium) (0.9.2)\n",
      "Requirement already satisfied: urllib3[secure,socks]~=1.26 in c:\\programdata\\anaconda3\\lib\\site-packages (from selenium) (1.26.9)\n",
      "Requirement already satisfied: outcome in c:\\programdata\\anaconda3\\lib\\site-packages (from trio~=0.17->selenium) (1.1.0)\n",
      "Requirement already satisfied: async-generator>=1.9 in c:\\programdata\\anaconda3\\lib\\site-packages (from trio~=0.17->selenium) (1.10)\n",
      "Requirement already satisfied: idna in c:\\programdata\\anaconda3\\lib\\site-packages (from trio~=0.17->selenium) (3.3)\n",
      "Requirement already satisfied: cffi>=1.14 in c:\\programdata\\anaconda3\\lib\\site-packages (from trio~=0.17->selenium) (1.15.0)\n",
      "Requirement already satisfied: attrs>=19.2.0 in c:\\programdata\\anaconda3\\lib\\site-packages (from trio~=0.17->selenium) (21.4.0)\n",
      "Requirement already satisfied: sniffio in c:\\programdata\\anaconda3\\lib\\site-packages (from trio~=0.17->selenium) (1.2.0)\n",
      "Requirement already satisfied: sortedcontainers in c:\\programdata\\anaconda3\\lib\\site-packages (from trio~=0.17->selenium) (2.4.0)\n",
      "Requirement already satisfied: pycparser in c:\\programdata\\anaconda3\\lib\\site-packages (from cffi>=1.14->trio~=0.17->selenium) (2.21)\n",
      "Requirement already satisfied: wsproto>=0.14 in c:\\programdata\\anaconda3\\lib\\site-packages (from trio-websocket~=0.9->selenium) (1.1.0)\n",
      "Requirement already satisfied: PySocks!=1.5.7,<2.0,>=1.5.6 in c:\\programdata\\anaconda3\\lib\\site-packages (from urllib3[secure,socks]~=1.26->selenium) (1.7.1)\n",
      "Requirement already satisfied: cryptography>=1.3.4 in c:\\programdata\\anaconda3\\lib\\site-packages (from urllib3[secure,socks]~=1.26->selenium) (3.4.8)\n",
      "Requirement already satisfied: pyOpenSSL>=0.14 in c:\\programdata\\anaconda3\\lib\\site-packages (from urllib3[secure,socks]~=1.26->selenium) (21.0.0)\n",
      "Requirement already satisfied: certifi in c:\\programdata\\anaconda3\\lib\\site-packages (from urllib3[secure,socks]~=1.26->selenium) (2021.10.8)\n",
      "Requirement already satisfied: six>=1.5.2 in c:\\programdata\\anaconda3\\lib\\site-packages (from pyOpenSSL>=0.14->urllib3[secure,socks]~=1.26->selenium) (1.16.0)\n",
      "Requirement already satisfied: h11<1,>=0.9.0 in c:\\programdata\\anaconda3\\lib\\site-packages (from wsproto>=0.14->trio-websocket~=0.9->selenium) (0.13.0)\n",
      "Note: you may need to restart the kernel to use updated packages.\n"
     ]
    }
   ],
   "source": [
    "pip install selenium"
   ]
  },
  {
   "cell_type": "code",
   "execution_count": 23,
   "id": "c3104603",
   "metadata": {},
   "outputs": [],
   "source": [
    "import pandas as pd\n",
    "from bs4 import BeautifulSoup\n",
    "from urllib.request import urlopen\n",
    "from selenium import webdriver"
   ]
  },
  {
   "cell_type": "markdown",
   "id": "1075796c",
   "metadata": {},
   "source": [
    "### 연도별,월별 도축량 데이터 크롤링"
   ]
  },
  {
   "cell_type": "code",
   "execution_count": 24,
   "id": "7a3cc21a",
   "metadata": {},
   "outputs": [],
   "source": [
    "url_meat_slaughter = 'http://www.kmta.or.kr/kr/data/stats_slaughter.php'\n",
    "driver = webdriver.Chrome()\n",
    "driver.get(url_meat_slaughter)"
   ]
  },
  {
   "cell_type": "code",
   "execution_count": 25,
   "id": "83c43e4c",
   "metadata": {},
   "outputs": [
    {
     "name": "stderr",
     "output_type": "stream",
     "text": [
      "C:\\Users\\ITPS\\AppData\\Local\\Temp\\ipykernel_5176\\818882346.py:1: DeprecationWarning: find_element_by_xpath is deprecated. Please use find_element(by=By.XPATH, value=xpath) instead\n",
      "  driver.find_element_by_xpath(\"//select[@name='year']/option[text()='1998']\").click()\n",
      "C:\\Users\\ITPS\\AppData\\Local\\Temp\\ipykernel_5176\\818882346.py:2: DeprecationWarning: find_elements_by_css_selector is deprecated. Please use find_elements(by=By.CSS_SELECTOR, value=css_selector) instead\n",
      "  data = driver.find_elements_by_css_selector('body > div.container > div.contents.p_stats > table > tbody > tr')\n"
     ]
    }
   ],
   "source": [
    "driver.find_element_by_xpath(\"//select[@name='year']/option[text()='1998']\").click()\n",
    "data = driver.find_elements_by_css_selector('body > div.container > div.contents.p_stats > table > tbody > tr')"
   ]
  },
  {
   "cell_type": "code",
   "execution_count": 26,
   "id": "195b79e8",
   "metadata": {},
   "outputs": [
    {
     "name": "stdout",
     "output_type": "stream",
     "text": [
      "['01', '103,573', '21,410', '1,907', '1,291', '128,181', '480,192', '542,528', '1,022,720', '23,079']\n",
      "['02', '58,721', '14,536', '859', '1,046', '75,162', '400,188', '470,018', '870,206', '20,297']\n",
      "['03', '75,489', '16,681', '984', '1,171', '94,325', '470,316', '552,272', '1,022,588', '20,553']\n",
      "['04', '76,323', '19,101', '1,090', '1,098', '97,612', '478,325', '550,703', '1,029,028', '21,877']\n",
      "['05', '77,808', '19,094', '1,131', '1,002', '99,035', '480,465', '548,418', '1,028,883', '27,357']\n",
      "['06', '77,272', '18,867', '1,232', '732', '98,103', '476,634', '537,258', '1,013,892', '29,198']\n",
      "['07', '87,592', '21,630', '1,266', '1,067', '111,555', '484,085', '531,002', '1,015,087', '37,249']\n",
      "['08', '111,796', '25,232', '1,150', '956', '139,134', '484,340', '535,535', '1,019,875', '32,400']\n",
      "['09', '114,526', '30,045', '1,852', '1,085', '147,508', '547,716', '622,922', '1,170,638', '26,498']\n",
      "['10', '75,039', '16,956', '1,052', '542', '93,589', '529,819', '609,026', '1,138,845', '23,759']\n",
      "['11', '77,056', '14,291', '938', '560', '92,845', '535,363', '610,505', '1,145,868', '22,993']\n",
      "['12', '87,955', '15,824', '765', '697', '105,241', '553,694', '599,505', '1,153,199', '27,086']\n"
     ]
    }
   ],
   "source": [
    "for i in data[2:-1]:\n",
    "    text =  i.text\n",
    "    datas = text.split()\n",
    "    print(datas)"
   ]
  },
  {
   "cell_type": "code",
   "execution_count": 27,
   "id": "e9698978",
   "metadata": {},
   "outputs": [
    {
     "name": "stderr",
     "output_type": "stream",
     "text": [
      "C:\\Users\\ITPS\\AppData\\Local\\Temp\\ipykernel_5176\\187288807.py:6: DeprecationWarning: find_element_by_xpath is deprecated. Please use find_element(by=By.XPATH, value=xpath) instead\n",
      "  driver.find_element_by_xpath(f\"//select[@name='year']/option[text()='{str(i)}']\").click()\n",
      "C:\\Users\\ITPS\\AppData\\Local\\Temp\\ipykernel_5176\\187288807.py:7: DeprecationWarning: find_elements_by_css_selector is deprecated. Please use find_elements(by=By.CSS_SELECTOR, value=css_selector) instead\n",
      "  data = driver.find_elements_by_css_selector('body > div.container > div.contents.p_stats > table > tbody > tr')\n"
     ]
    },
    {
     "name": "stdout",
     "output_type": "stream",
     "text": [
      "['01', '02', '03', '04', '05', '06', '07', '08', '09', '10', '11', '12', '01', '02', '03', '04', '05', '06', '07', '08', '09', '10', '11', '12', '01', '02', '03', '04', '05', '06', '07', '08', '09', '10', '11', '12', '01', '02', '03', '04', '05', '06', '07', '08', '09', '10', '11', '12', '01', '02', '03', '04', '05', '06', '07', '08', '09', '10', '11', '12', '01', '02', '03', '04', '05', '06', '07', '08', '09', '10', '11', '12', '01', '02', '03', '04', '05', '06', '07', '08', '09', '10', '11', '12', '01', '02', '03', '04', '05', '06', '07', '08', '09', '10', '11', '12', '01', '02', '03', '04', '05', '06', '07', '08', '09', '10', '11', '12', '01', '02', '03', '04', '05', '06', '07', '08', '09', '10', '11', '12', '01', '02', '03', '04', '05', '06', '07', '08', '09', '10', '11', '12', '01', '02', '03', '04', '05', '06', '07', '08', '09', '10', '11', '12', '01', '02', '03', '04', '05', '06', '07', '08', '09', '10', '11', '12', '01', '02', '03', '04', '05', '06', '07', '08', '09', '10', '11', '12', '01', '02', '03', '04', '05', '06', '07', '08', '09', '10', '11', '12', '01', '02', '03', '04', '05', '06', '07', '08', '09', '10', '11', '12', '01', '02', '03', '04', '05', '06', '07', '08', '09', '10', '11', '12', '01', '02', '03', '04', '05', '06', '07', '08', '09', '10', '11', '12', '01', '02', '03', '04', '05', '06', '07', '08', '09', '10', '11', '12', '01', '02', '03', '04', '05', '06', '07', '08', '09', '10', '11', '12', '01', '02', '03', '04', '05', '06', '07', '08', '09', '10', '11', '12']\n",
      "--------------\n",
      "\n",
      "\n",
      "\n",
      "\n",
      "[121079, 62486, 74258, 68224, 90450, 84236, 68368, 93408, 101784, 74388, 75650, 83000, 114880, 35261, 46065, 50157, 56630, 54251, 58756, 63785, 104247, 43011, 51729, 50473, 61945, 56998, 39807, 47563, 52528, 48553, 45442, 53205, 73843, 47501, 50943, 54696, 85870, 31869, 43461, 46105, 44025, 40719, 44183, 52904, 56362, 42785, 42772, 53198, 51816, 21959, 34822, 45710, 47576, 49165, 47834, 48848, 78724, 42975, 50952, 56341, 73882, 51486, 43749, 43147, 44449, 41423, 39324, 52665, 69512, 43712, 50944, 58138, 83900, 36085, 47194, 44958, 48254, 46116, 44417, 47669, 83690, 43681, 50930, 53563, 62784, 71452, 45216, 48970, 52049, 45514, 48348, 52976, 84010, 55619, 56152, 60766, 97844, 45008, 51952, 59125, 51567, 48195, 53702, 70361, 84306, 65218, 63896, 78262, 103728, 52660, 63097, 67139, 57855, 61010, 59391, 63357, 110152, 46289, 60467, 69869, 77408, 65449, 55754, 53651, 50999, 51435, 52473, 68003, 86980, 57363, 65704, 67309, 85445, 33126, 55526, 59842, 67297, 70310, 65801, 103429, 78028, 66676, 76402, 90913, 113046, 63563, 69367, 68877, 70166, 67187, 73605, 79959, 127650, 72382, 81077, 82888, 132781, 69169, 69597, 83032, 82603, 69917, 84661, 99883, 108538, 89385, 82619, 99712, 130416, 61547, 79044, 89074, 75513, 71040, 85173, 123597, 73762, 84622, 73301, 94765, 110502, 87446, 80545, 86420, 71971, 78955, 78521, 84486, 106840, 69781, 67929, 82190, 118778, 49363, 66390, 66386, 64175, 60775, 57155, 91283, 71278, 67580, 66633, 81691, 103203, 50956, 65672, 71427, 64590, 62887, 61707, 77723, 116593, 54896, 70354, 73474, 107206, 66792, 57861, 69920, 68071, 59341, 64155, 74636, 88956, 68856, 64913, 76138, 118979, 40766, 59877, 71232, 63787, 59058, 70294, 100635, 68559, 74322, 67398, 91697, 96931, 55741, 66304, 69334, 67654, 74183, 68380, 75421, 104952, 63891, 68179, 76227]\n"
     ]
    }
   ],
   "source": [
    "month = []\n",
    "slaughter = []\n",
    "\n",
    "\n",
    "for i in range(2000,2021):\n",
    "    driver.find_element_by_xpath(f\"//select[@name='year']/option[text()='{str(i)}']\").click()\n",
    "    data = driver.find_elements_by_css_selector('body > div.container > div.contents.p_stats > table > tbody > tr')\n",
    "    for i in data[2:14]:\n",
    "        text =  i.text\n",
    "        datas = text.split()\n",
    "        month.append(datas[0])\n",
    "        slaughter.append(int(datas[5].replace(\",\",\"\")))\n",
    "                \n",
    "        \n",
    "# print(month_data)\n",
    "print(month)\n",
    "print(\"--------------\\n\\n\\n\\n\")\n",
    "print(slaughter)"
   ]
  },
  {
   "cell_type": "code",
   "execution_count": 28,
   "id": "7f574b1d",
   "metadata": {},
   "outputs": [],
   "source": [
    "year = []\n",
    "for i in range(2000, 2021):\n",
    "    for j in range(1,13):\n",
    "        year.append(i)"
   ]
  },
  {
   "cell_type": "code",
   "execution_count": 29,
   "id": "48e8596a",
   "metadata": {},
   "outputs": [
    {
     "data": {
      "text/html": [
       "<div>\n",
       "<style scoped>\n",
       "    .dataframe tbody tr th:only-of-type {\n",
       "        vertical-align: middle;\n",
       "    }\n",
       "\n",
       "    .dataframe tbody tr th {\n",
       "        vertical-align: top;\n",
       "    }\n",
       "\n",
       "    .dataframe thead th {\n",
       "        text-align: right;\n",
       "    }\n",
       "</style>\n",
       "<table border=\"1\" class=\"dataframe\">\n",
       "  <thead>\n",
       "    <tr style=\"text-align: right;\">\n",
       "      <th></th>\n",
       "      <th>year</th>\n",
       "      <th>month</th>\n",
       "      <th>slaughter</th>\n",
       "    </tr>\n",
       "  </thead>\n",
       "  <tbody>\n",
       "    <tr>\n",
       "      <th>0</th>\n",
       "      <td>2000</td>\n",
       "      <td>01</td>\n",
       "      <td>121079</td>\n",
       "    </tr>\n",
       "    <tr>\n",
       "      <th>1</th>\n",
       "      <td>2000</td>\n",
       "      <td>02</td>\n",
       "      <td>62486</td>\n",
       "    </tr>\n",
       "    <tr>\n",
       "      <th>2</th>\n",
       "      <td>2000</td>\n",
       "      <td>03</td>\n",
       "      <td>74258</td>\n",
       "    </tr>\n",
       "    <tr>\n",
       "      <th>3</th>\n",
       "      <td>2000</td>\n",
       "      <td>04</td>\n",
       "      <td>68224</td>\n",
       "    </tr>\n",
       "    <tr>\n",
       "      <th>4</th>\n",
       "      <td>2000</td>\n",
       "      <td>05</td>\n",
       "      <td>90450</td>\n",
       "    </tr>\n",
       "    <tr>\n",
       "      <th>...</th>\n",
       "      <td>...</td>\n",
       "      <td>...</td>\n",
       "      <td>...</td>\n",
       "    </tr>\n",
       "    <tr>\n",
       "      <th>247</th>\n",
       "      <td>2020</td>\n",
       "      <td>08</td>\n",
       "      <td>75421</td>\n",
       "    </tr>\n",
       "    <tr>\n",
       "      <th>248</th>\n",
       "      <td>2020</td>\n",
       "      <td>09</td>\n",
       "      <td>104952</td>\n",
       "    </tr>\n",
       "    <tr>\n",
       "      <th>249</th>\n",
       "      <td>2020</td>\n",
       "      <td>10</td>\n",
       "      <td>63891</td>\n",
       "    </tr>\n",
       "    <tr>\n",
       "      <th>250</th>\n",
       "      <td>2020</td>\n",
       "      <td>11</td>\n",
       "      <td>68179</td>\n",
       "    </tr>\n",
       "    <tr>\n",
       "      <th>251</th>\n",
       "      <td>2020</td>\n",
       "      <td>12</td>\n",
       "      <td>76227</td>\n",
       "    </tr>\n",
       "  </tbody>\n",
       "</table>\n",
       "<p>252 rows × 3 columns</p>\n",
       "</div>"
      ],
      "text/plain": [
       "     year month  slaughter\n",
       "0    2000    01     121079\n",
       "1    2000    02      62486\n",
       "2    2000    03      74258\n",
       "3    2000    04      68224\n",
       "4    2000    05      90450\n",
       "..    ...   ...        ...\n",
       "247  2020    08      75421\n",
       "248  2020    09     104952\n",
       "249  2020    10      63891\n",
       "250  2020    11      68179\n",
       "251  2020    12      76227\n",
       "\n",
       "[252 rows x 3 columns]"
      ]
     },
     "execution_count": 29,
     "metadata": {},
     "output_type": "execute_result"
    }
   ],
   "source": [
    "slaughter_cow = pd.DataFrame(zip(year,month, slaughter), columns=['year','month', 'slaughter'])\n",
    "slaughter_cow"
   ]
  },
  {
   "cell_type": "code",
   "execution_count": 30,
   "id": "840856f7",
   "metadata": {},
   "outputs": [],
   "source": [
    "slaughter_cow.to_excel('slaughter.xlsx',index=False)"
   ]
  },
  {
   "cell_type": "markdown",
   "id": "0f5714da",
   "metadata": {},
   "source": [
    "### 연도별, 월별 가격 데이터 크롤링"
   ]
  },
  {
   "cell_type": "code",
   "execution_count": 31,
   "id": "bfcf3c83",
   "metadata": {},
   "outputs": [],
   "source": [
    "url = 'http://www.kmta.or.kr/kr/data/stats_price_month_beef.php'\n",
    "driver = webdriver.Chrome()\n",
    "driver.get(url)"
   ]
  },
  {
   "cell_type": "code",
   "execution_count": 32,
   "id": "ec589a06",
   "metadata": {},
   "outputs": [
    {
     "name": "stderr",
     "output_type": "stream",
     "text": [
      "C:\\Users\\ITPS\\AppData\\Local\\Temp\\ipykernel_5176\\830264192.py:1: DeprecationWarning: find_element_by_xpath is deprecated. Please use find_element(by=By.XPATH, value=xpath) instead\n",
      "  driver.find_element_by_xpath(\"//select[@name='year']/option[text()='1993']\").click()\n",
      "C:\\Users\\ITPS\\AppData\\Local\\Temp\\ipykernel_5176\\830264192.py:2: DeprecationWarning: find_elements_by_css_selector is deprecated. Please use find_elements(by=By.CSS_SELECTOR, value=css_selector) instead\n",
      "  data = driver.find_elements_by_css_selector('body > div.container > div.contents.p_stats > table > tbody > tr')\n"
     ]
    },
    {
     "name": "stdout",
     "output_type": "stream",
     "text": [
      "14\n"
     ]
    }
   ],
   "source": [
    "driver.find_element_by_xpath(\"//select[@name='year']/option[text()='1993']\").click()\n",
    "data = driver.find_elements_by_css_selector('body > div.container > div.contents.p_stats > table > tbody > tr')\n",
    "print(len(data))"
   ]
  },
  {
   "cell_type": "code",
   "execution_count": 33,
   "id": "a9f54b1e",
   "metadata": {},
   "outputs": [
    {
     "name": "stdout",
     "output_type": "stream",
     "text": [
      "['12', '64,440', '5,676', '6,111', '0', '76,227', '812,280', '873,522', '1,685,802', '87,044']\n",
      "['12', '64,440', '5,676', '6,111', '0', '76,227', '812,280', '873,522', '1,685,802', '87,044']\n",
      "['12', '64,440', '5,676', '6,111', '0', '76,227', '812,280', '873,522', '1,685,802', '87,044']\n",
      "['12', '64,440', '5,676', '6,111', '0', '76,227', '812,280', '873,522', '1,685,802', '87,044']\n",
      "['12', '64,440', '5,676', '6,111', '0', '76,227', '812,280', '873,522', '1,685,802', '87,044']\n",
      "['12', '64,440', '5,676', '6,111', '0', '76,227', '812,280', '873,522', '1,685,802', '87,044']\n",
      "['12', '64,440', '5,676', '6,111', '0', '76,227', '812,280', '873,522', '1,685,802', '87,044']\n",
      "['12', '64,440', '5,676', '6,111', '0', '76,227', '812,280', '873,522', '1,685,802', '87,044']\n",
      "['12', '64,440', '5,676', '6,111', '0', '76,227', '812,280', '873,522', '1,685,802', '87,044']\n",
      "['12', '64,440', '5,676', '6,111', '0', '76,227', '812,280', '873,522', '1,685,802', '87,044']\n",
      "['12', '64,440', '5,676', '6,111', '0', '76,227', '812,280', '873,522', '1,685,802', '87,044']\n",
      "['12', '64,440', '5,676', '6,111', '0', '76,227', '812,280', '873,522', '1,685,802', '87,044']\n"
     ]
    }
   ],
   "source": [
    "for i in data[1:-1]:\n",
    "    text =  i.text\n",
    "    datas = text.split()\n",
    "    print(month_data)"
   ]
  },
  {
   "cell_type": "code",
   "execution_count": 34,
   "id": "d491bc01",
   "metadata": {},
   "outputs": [
    {
     "name": "stderr",
     "output_type": "stream",
     "text": [
      "C:\\Users\\ITPS\\AppData\\Local\\Temp\\ipykernel_5176\\3635966234.py:6: DeprecationWarning: find_element_by_xpath is deprecated. Please use find_element(by=By.XPATH, value=xpath) instead\n",
      "  driver.find_element_by_xpath(f\"//select[@name='year']/option[text()='{str(i)}']\").click()\n",
      "C:\\Users\\ITPS\\AppData\\Local\\Temp\\ipykernel_5176\\3635966234.py:7: DeprecationWarning: find_elements_by_css_selector is deprecated. Please use find_elements(by=By.CSS_SELECTOR, value=css_selector) instead\n",
      "  data = driver.find_elements_by_css_selector('body > div.container > div.contents.p_stats > table > tbody > tr')\n"
     ]
    },
    {
     "name": "stdout",
     "output_type": "stream",
     "text": [
      "['01', '02', '03', '04', '05', '06', '07', '08', '09', '10', '11', '12', '01', '02', '03', '04', '05', '06', '07', '08', '09', '10', '11', '12', '01', '02', '03', '04', '05', '06', '07', '08', '09', '10', '11', '12', '01', '02', '03', '04', '05', '06', '07', '08', '09', '10', '11', '12', '01', '02', '03', '04', '05', '06', '07', '08', '09', '10', '11', '12', '01', '02', '03', '04', '05', '06', '07', '08', '09', '10', '11', '12', '01', '02', '03', '04', '05', '06', '07', '08', '09', '10', '11', '12', '01', '02', '03', '04', '05', '06', '07', '08', '09', '10', '11', '12', '01', '02', '03', '04', '05', '06', '07', '08', '09', '10', '11', '12', '01', '02', '03', '04', '05', '06', '07', '08', '09', '10', '11', '12', '01', '02', '03', '04', '05', '06', '07', '08', '09', '10', '11', '12', '01', '02', '03', '04', '05', '06', '07', '08', '09', '10', '11', '12', '01', '02', '03', '04', '05', '06', '07', '08', '09', '10', '11', '12', '01', '02', '03', '04', '05', '06', '07', '08', '09', '10', '11', '12', '01', '02', '03', '04', '05', '06', '07', '08', '09', '10', '11', '12', '01', '02', '03', '04', '05', '06', '07', '08', '09', '10', '11', '12', '01', '02', '03', '04', '05', '06', '07', '08', '09', '10', '11', '12', '01', '02', '03', '04', '05', '06', '07', '08', '09', '10', '11', '12', '01', '02', '03', '04', '05', '06', '07', '08', '09', '10', '11', '12', '01', '02', '03', '04', '05', '06', '07', '08', '09', '10', '11', '12', '01', '02', '03', '04', '05', '06', '07', '08', '09', '10', '11', '12']\n",
      "--------------\n",
      "\n",
      "\n",
      "\n",
      "\n",
      "[17558, 18150, 18032, 16916, 16780, 16780, 16780, 16780, 16780, 16834, 18562, 18980, 18868, 18840, 18156, 17838, 17816, 17840, 17840, 17842, 18260, 19890, 22016, 25986, 29380, 30120, 30206, 29170, 28800, 28808, 28800, 28836, 29034, 29210, 30316, 31190, 31634, 31666, 31396, 31200, 31200, 31200, 31200, 31200, 31200, 31200, 31210, 31200, 31130, 30800, 30800, 30800, 30416, 29492, 29200, 29200, 29390, 30000, 30000, 33400, 37060, 38008, 37990, 37534, 37960, 37388, 35470, 36376, 37782, 38008, 37128, 36940, 37000, 0, 0, 37520, 38100, 38100, 37142, 38100, 38528, 38336, 38284, 38100, 38100, 38722, 39300, 38800, 41072, 40326, 35936, 37416, 46140, 47812, 47000, 44320, 45404, 46122, 46516, 47058, 41726, 38710, 39450, 37600, 38700, 33956, 33500, 33880, 27380, 26990, 27300, 27760, 26960, 28060, 27250, 28290, 29300, 30450, 29290, 29600, 30360, 34220, 33360, 32810, 34420, 33900, 33750, 33750, 32880, 32380, 32500, 32330, 32300, 32650, 32390, 32630, 31400, 27410, 26830, 24500, 24500, 24500, 24500, 24500, 24000, 21180, 21000, 21000, 21000, 21000, 21000, 21000, 21000, 21000, 21000, 21000, 21000, 21000, 21000, 22310, 21660, 21920, 22250, 21020, 21060, 21010, 21930, 22150, 22710, 23120, 22570, 22570, 22570, 22570, 22570, 22570, 22570, 22570, 22570, 22570, 22570, 22570, 22480, 22840, 23670, 23990, 24970, 27380, 28000, 28000, 28000, 28000, 28000, 28000, 29310, 29500, 29500, 31170, 33000, 33000, 28000, 32200, 31600, 31600, 45440, 44070, 45910, 45840, 46150, 45750, 46530, 46380, 46510, 47700, 47340, 47230, 47880, 46480, 44040, 43780, 42450, 41950, 43180, 43050, 43790, 43410, 42820, 42420, 43140, 43370, 43400, 42630, 42950, 43030, 43580, 42980, 42100, 43500, 43910, 44270, 44520, 44850, 47390, 46740, 47360, 48400, 47470, 47970, 48400, 47780, 48710, 48140]\n"
     ]
    }
   ],
   "source": [
    "month = []\n",
    "price = []\n",
    "\n",
    "\n",
    "for i in range(2000,2021):\n",
    "    driver.find_element_by_xpath(f\"//select[@name='year']/option[text()='{str(i)}']\").click()\n",
    "    data = driver.find_elements_by_css_selector('body > div.container > div.contents.p_stats > table > tbody > tr')\n",
    "    for i in data[1:13]:\n",
    "        text =  i.text\n",
    "        datas = text.split()\n",
    "        month.append(datas[0])\n",
    "        price.append(int(datas[-1].replace(\",\", \"\"))*2)\n",
    "                \n",
    "        \n",
    "# print(month_data)\n",
    "print(month)\n",
    "print(\"--------------\\n\\n\\n\\n\")\n",
    "print(price)"
   ]
  },
  {
   "cell_type": "code",
   "execution_count": 35,
   "id": "459a35ab",
   "metadata": {},
   "outputs": [
    {
     "name": "stdout",
     "output_type": "stream",
     "text": [
      "     year month  price\n",
      "0    2000    01  17558\n",
      "1    2000    02  18150\n",
      "2    2000    03  18032\n",
      "3    2000    04  16916\n",
      "4    2000    05  16780\n",
      "..    ...   ...    ...\n",
      "247  2020    08  47970\n",
      "248  2020    09  48400\n",
      "249  2020    10  47780\n",
      "250  2020    11  48710\n",
      "251  2020    12  48140\n",
      "\n",
      "[252 rows x 3 columns]\n",
      "0      17558\n",
      "1      18150\n",
      "2      18032\n",
      "3      16916\n",
      "4      16780\n",
      "       ...  \n",
      "247    47970\n",
      "248    48400\n",
      "249    47780\n",
      "250    48710\n",
      "251    48140\n",
      "Name: price, Length: 252, dtype: int64\n"
     ]
    }
   ],
   "source": [
    "df_price = pd.DataFrame(zip(year,month,price), columns =[\"year\",\"month\",\"price\"])\n",
    "\n",
    "\n",
    "print(df_price)\n",
    "print(df_price[\"price\"])\n",
    "# df_price[\"소매가격(원/1kg)\"]."
   ]
  },
  {
   "cell_type": "code",
   "execution_count": 36,
   "id": "4e925016",
   "metadata": {},
   "outputs": [],
   "source": [
    "df_price.to_excel('price.xlsx', index = False)"
   ]
  },
  {
   "cell_type": "markdown",
   "id": "c064155d",
   "metadata": {},
   "source": [
    "### 연도별, 월별 수입량 데이터 크롤링"
   ]
  },
  {
   "cell_type": "code",
   "execution_count": 37,
   "id": "cf5cf5ef",
   "metadata": {},
   "outputs": [],
   "source": [
    "url = 'http://www.kmta.or.kr/kr/data/stats_import_beef_month.php'\n",
    "driver = webdriver.Chrome()\n",
    "driver.get(url)"
   ]
  },
  {
   "cell_type": "code",
   "execution_count": 38,
   "id": "711ad643",
   "metadata": {},
   "outputs": [
    {
     "name": "stdout",
     "output_type": "stream",
     "text": [
      "15\n"
     ]
    },
    {
     "name": "stderr",
     "output_type": "stream",
     "text": [
      "C:\\Users\\ITPS\\AppData\\Local\\Temp\\ipykernel_5176\\3314749501.py:1: DeprecationWarning: find_element_by_xpath is deprecated. Please use find_element(by=By.XPATH, value=xpath) instead\n",
      "  driver.find_element_by_xpath(\"//select[@name='year']/option[text()='1998']\").click()\n",
      "C:\\Users\\ITPS\\AppData\\Local\\Temp\\ipykernel_5176\\3314749501.py:2: DeprecationWarning: find_elements_by_css_selector is deprecated. Please use find_elements(by=By.CSS_SELECTOR, value=css_selector) instead\n",
      "  data = driver.find_elements_by_css_selector('body > div.container > div.contents.p_stats > table > tbody > tr')\n"
     ]
    }
   ],
   "source": [
    "driver.find_element_by_xpath(\"//select[@name='year']/option[text()='1998']\").click()\n",
    "data = driver.find_elements_by_css_selector('body > div.container > div.contents.p_stats > table > tbody > tr')\n",
    "print(len(data))"
   ]
  },
  {
   "cell_type": "code",
   "execution_count": 39,
   "id": "4847e07d",
   "metadata": {},
   "outputs": [
    {
     "name": "stdout",
     "output_type": "stream",
     "text": [
      "['01', '0', '0', '9,457', '0', '0', '28,385']\n",
      "['02', '0', '0', '2,539', '0', '0', '10,355']\n",
      "['03', '0', '0', '4,271', '0', '0', '16,991']\n",
      "['04', '0', '0', '5,444', '0', '0', '20,773']\n",
      "['05', '0', '0', '3,896', '0', '0', '11,683']\n",
      "['06', '0', '0', '3,366', '0', '0', '9,230']\n",
      "['07', '0', '0', '4,682', '0', '0', '11,117']\n",
      "['08', '0', '0', '5,996', '0', '0', '12,731']\n",
      "['09', '0', '0', '6,888', '0', '0', '16,794']\n",
      "['10', '0', '0', '10,714', '0', '0', '24,591']\n",
      "['11', '0', '0', '13,449', '0', '0', '29,566']\n",
      "['12', '0', '0', '16,376', '0', '0', '38,378']\n"
     ]
    }
   ],
   "source": [
    "for i in data[2:-1]:\n",
    "    text =  i.text\n",
    "    datas = text.split()\n",
    "    print(datas)"
   ]
  },
  {
   "cell_type": "code",
   "execution_count": 40,
   "id": "78233b7d",
   "metadata": {},
   "outputs": [
    {
     "name": "stderr",
     "output_type": "stream",
     "text": [
      "C:\\Users\\ITPS\\AppData\\Local\\Temp\\ipykernel_5176\\3627805562.py:5: DeprecationWarning: find_element_by_xpath is deprecated. Please use find_element(by=By.XPATH, value=xpath) instead\n",
      "  driver.find_element_by_xpath(f\"//select[@name='year']/option[text()='{str(i)}']\").click()\n",
      "C:\\Users\\ITPS\\AppData\\Local\\Temp\\ipykernel_5176\\3627805562.py:6: DeprecationWarning: find_elements_by_css_selector is deprecated. Please use find_elements(by=By.CSS_SELECTOR, value=css_selector) instead\n",
      "  data = driver.find_elements_by_css_selector('body > div.container > div.contents.p_stats > table > tbody > tr')\n"
     ]
    },
    {
     "name": "stdout",
     "output_type": "stream",
     "text": [
      "['01', '02', '03', '04', '05', '06', '07', '08', '09', '10', '11', '12', '01', '02', '03', '04', '05', '06', '07', '08', '09', '10', '11', '12', '01', '02', '03', '04', '05', '06', '07', '08', '09', '10', '11', '12', '01', '02', '03', '04', '05', '06', '07', '08', '09', '10', '11', '12', '01', '02', '03', '04', '05', '06', '07', '08', '09', '10', '11', '12', '01', '02', '03', '04', '05', '06', '07', '08', '09', '10', '11', '12', '01', '02', '03', '04', '05', '06', '07', '08', '09', '10', '11', '12', '01', '02', '03', '04', '05', '06', '07', '08', '09', '10', '11', '12', '01', '02', '03', '04', '05', '06', '07', '08', '09', '10', '11', '12', '01', '02', '03', '04', '05', '06', '07', '08', '09', '10', '11', '12', '01', '02', '03', '04', '05', '06', '07', '08', '09', '10', '11', '12', '01', '02', '03', '04', '05', '06', '07', '08', '09', '10', '11', '12', '01', '02', '03', '04', '05', '06', '07', '08', '09', '10', '11', '12', '01', '02', '03', '04', '05', '06', '07', '08', '09', '10', '11', '12', '01', '02', '03', '04', '05', '06', '07', '08', '09', '10', '11', '12', '01', '02', '03', '04', '05', '06', '07', '08', '09', '10', '11', '12', '01', '02', '03', '04', '05', '06', '07', '08', '09', '10', '11', '12', '01', '02', '03', '04', '05', '06', '07', '08', '09', '10', '11', '12', '01', '02', '03', '04', '05', '06', '07', '08', '09', '10', '11', '12', '01', '02', '03', '04', '05', '06', '07', '08', '09', '10', '11', '12', '01', '02', '03', '04', '05', '06', '07', '08', '09', '10', '11', '12']\n",
      "[15869000, 16536000, 21996000, 18384000, 19097000, 18825000, 20061000, 27701000, 23520000, 20513000, 18518000, 16821000, 16966000, 11448000, 12330000, 8451000, 7510000, 7926000, 12091000, 12537000, 13222000, 19410000, 21960000, 22422000, 28597000, 19915000, 25063000, 23818000, 24505000, 21399000, 24277000, 27857000, 24614000, 25978000, 19835000, 26388000, 28565000, 20379000, 26729000, 24723000, 22907000, 24144000, 30842000, 22097000, 31162000, 22087000, 21110000, 18861000, 8157000, 7353000, 12457000, 13305000, 17439000, 17176000, 12283000, 8116000, 7937000, 7535000, 8483000, 12628000, 15717000, 10079000, 14753000, 12892000, 9959000, 9135000, 9123000, 13336000, 12051000, 12595000, 11041000, 11910000, 9160000, 11260000, 15102000, 11083000, 14466000, 16664000, 16511000, 18736000, 16450000, 15545000, 16393000, 18035000, 22991000, 17564000, 20933000, 14944000, 11665000, 11185000, 17015000, 18170000, 17036000, 17111000, 14784000, 19387000, 19587000, 13252000, 15626000, 19617000, 16548000, 11217000, 18470000, 13211000, 21814000, 28134000, 23394000, 23277000, 14088000, 15987000, 20563000, 15528000, 11905000, 15981000, 17913000, 14984000, 17264000, 13890000, 16803000, 22951000, 17256000, 14657000, 20013000, 18922000, 18929000, 25124000, 27171000, 26790000, 17589000, 16873000, 19638000, 22124000, 20175000, 18843000, 36943000, 30643000, 22263000, 24933000, 21968000, 25693000, 23406000, 19706000, 21469000, 23344000, 21053000, 19611000, 21630000, 17370000, 20275000, 21744000, 22781000, 22653000, 18027000, 23074000, 21754000, 22752000, 28623000, 18241000, 20491000, 20110000, 18796000, 17555000, 20772000, 20007000, 19826000, 25176000, 21460000, 25559000, 25480000, 20913000, 24762000, 23276000, 21730000, 23776000, 25208000, 21533000, 21639000, 23528000, 20251000, 28416000, 22919000, 15964000, 23502000, 23952000, 24783000, 28102000, 30937000, 26553000, 23042000, 22892000, 25319000, 29300000, 25182000, 22081000, 30328000, 26051000, 29658000, 30112000, 29321000, 33524000, 32676000, 30306000, 33100000, 39192000, 33223000, 24445000, 28017000, 24237000, 23794000, 29491000, 28461000, 33174000, 30937000, 28200000, 29673000, 30619000, 31132000, 26979000, 32146000, 31234000, 34375000, 35237000, 38194000, 42590000, 34151000, 43448000, 33706000, 32493000, 36133000, 27649000, 31438000, 40818000, 39322000, 34390000, 40655000, 40268000, 32017000, 39547000, 31326000, 33063000, 34527000, 28448000, 33229000, 39824000, 34394000, 33919000, 35192000, 35943000, 39031000, 33050000, 32026000, 39886000]\n"
     ]
    }
   ],
   "source": [
    "month = []\n",
    "importation = []\n",
    "\n",
    "for i in range(2000,2021):\n",
    "    driver.find_element_by_xpath(f\"//select[@name='year']/option[text()='{str(i)}']\").click()\n",
    "    data = driver.find_elements_by_css_selector('body > div.container > div.contents.p_stats > table > tbody > tr')\n",
    "    for i in data[2:-1]:\n",
    "        text =  i.text\n",
    "        datas = text.split()\n",
    "        month.append(datas[0])\n",
    "        importation.append(int(datas[3].replace(\",\", \"\"))*1000)\n",
    "\n",
    "print(month)\n",
    "print(importation)"
   ]
  },
  {
   "cell_type": "code",
   "execution_count": 41,
   "id": "2b031830",
   "metadata": {},
   "outputs": [
    {
     "data": {
      "text/html": [
       "<div>\n",
       "<style scoped>\n",
       "    .dataframe tbody tr th:only-of-type {\n",
       "        vertical-align: middle;\n",
       "    }\n",
       "\n",
       "    .dataframe tbody tr th {\n",
       "        vertical-align: top;\n",
       "    }\n",
       "\n",
       "    .dataframe thead th {\n",
       "        text-align: right;\n",
       "    }\n",
       "</style>\n",
       "<table border=\"1\" class=\"dataframe\">\n",
       "  <thead>\n",
       "    <tr style=\"text-align: right;\">\n",
       "      <th></th>\n",
       "      <th>year</th>\n",
       "      <th>month</th>\n",
       "      <th>importation</th>\n",
       "    </tr>\n",
       "  </thead>\n",
       "  <tbody>\n",
       "    <tr>\n",
       "      <th>0</th>\n",
       "      <td>2000</td>\n",
       "      <td>01</td>\n",
       "      <td>15869000</td>\n",
       "    </tr>\n",
       "    <tr>\n",
       "      <th>1</th>\n",
       "      <td>2000</td>\n",
       "      <td>02</td>\n",
       "      <td>16536000</td>\n",
       "    </tr>\n",
       "    <tr>\n",
       "      <th>2</th>\n",
       "      <td>2000</td>\n",
       "      <td>03</td>\n",
       "      <td>21996000</td>\n",
       "    </tr>\n",
       "    <tr>\n",
       "      <th>3</th>\n",
       "      <td>2000</td>\n",
       "      <td>04</td>\n",
       "      <td>18384000</td>\n",
       "    </tr>\n",
       "    <tr>\n",
       "      <th>4</th>\n",
       "      <td>2000</td>\n",
       "      <td>05</td>\n",
       "      <td>19097000</td>\n",
       "    </tr>\n",
       "    <tr>\n",
       "      <th>...</th>\n",
       "      <td>...</td>\n",
       "      <td>...</td>\n",
       "      <td>...</td>\n",
       "    </tr>\n",
       "    <tr>\n",
       "      <th>247</th>\n",
       "      <td>2020</td>\n",
       "      <td>08</td>\n",
       "      <td>35943000</td>\n",
       "    </tr>\n",
       "    <tr>\n",
       "      <th>248</th>\n",
       "      <td>2020</td>\n",
       "      <td>09</td>\n",
       "      <td>39031000</td>\n",
       "    </tr>\n",
       "    <tr>\n",
       "      <th>249</th>\n",
       "      <td>2020</td>\n",
       "      <td>10</td>\n",
       "      <td>33050000</td>\n",
       "    </tr>\n",
       "    <tr>\n",
       "      <th>250</th>\n",
       "      <td>2020</td>\n",
       "      <td>11</td>\n",
       "      <td>32026000</td>\n",
       "    </tr>\n",
       "    <tr>\n",
       "      <th>251</th>\n",
       "      <td>2020</td>\n",
       "      <td>12</td>\n",
       "      <td>39886000</td>\n",
       "    </tr>\n",
       "  </tbody>\n",
       "</table>\n",
       "<p>252 rows × 3 columns</p>\n",
       "</div>"
      ],
      "text/plain": [
       "     year month  importation\n",
       "0    2000    01     15869000\n",
       "1    2000    02     16536000\n",
       "2    2000    03     21996000\n",
       "3    2000    04     18384000\n",
       "4    2000    05     19097000\n",
       "..    ...   ...          ...\n",
       "247  2020    08     35943000\n",
       "248  2020    09     39031000\n",
       "249  2020    10     33050000\n",
       "250  2020    11     32026000\n",
       "251  2020    12     39886000\n",
       "\n",
       "[252 rows x 3 columns]"
      ]
     },
     "execution_count": 41,
     "metadata": {},
     "output_type": "execute_result"
    }
   ],
   "source": [
    "df_import = pd.DataFrame(zip(year,month,importation),columns =[\"year\",\"month\",\"importation\"])\n",
    "df_import"
   ]
  },
  {
   "cell_type": "code",
   "execution_count": 42,
   "id": "81d409a0",
   "metadata": {},
   "outputs": [],
   "source": [
    "df_import.to_excel('importation.xlsx', index = False)"
   ]
  },
  {
   "cell_type": "markdown",
   "id": "41897823",
   "metadata": {},
   "source": [
    "# 데이터 병합 및 전처리"
   ]
  },
  {
   "cell_type": "code",
   "execution_count": 43,
   "id": "2f268766",
   "metadata": {},
   "outputs": [
    {
     "data": {
      "text/html": [
       "<div>\n",
       "<style scoped>\n",
       "    .dataframe tbody tr th:only-of-type {\n",
       "        vertical-align: middle;\n",
       "    }\n",
       "\n",
       "    .dataframe tbody tr th {\n",
       "        vertical-align: top;\n",
       "    }\n",
       "\n",
       "    .dataframe thead th {\n",
       "        text-align: right;\n",
       "    }\n",
       "</style>\n",
       "<table border=\"1\" class=\"dataframe\">\n",
       "  <thead>\n",
       "    <tr style=\"text-align: right;\">\n",
       "      <th></th>\n",
       "      <th>year</th>\n",
       "      <th>month</th>\n",
       "      <th>importation</th>\n",
       "      <th>price</th>\n",
       "    </tr>\n",
       "  </thead>\n",
       "  <tbody>\n",
       "    <tr>\n",
       "      <th>0</th>\n",
       "      <td>2000</td>\n",
       "      <td>01</td>\n",
       "      <td>15869000</td>\n",
       "      <td>17558</td>\n",
       "    </tr>\n",
       "    <tr>\n",
       "      <th>1</th>\n",
       "      <td>2000</td>\n",
       "      <td>02</td>\n",
       "      <td>16536000</td>\n",
       "      <td>18150</td>\n",
       "    </tr>\n",
       "    <tr>\n",
       "      <th>2</th>\n",
       "      <td>2000</td>\n",
       "      <td>03</td>\n",
       "      <td>21996000</td>\n",
       "      <td>18032</td>\n",
       "    </tr>\n",
       "    <tr>\n",
       "      <th>3</th>\n",
       "      <td>2000</td>\n",
       "      <td>04</td>\n",
       "      <td>18384000</td>\n",
       "      <td>16916</td>\n",
       "    </tr>\n",
       "    <tr>\n",
       "      <th>4</th>\n",
       "      <td>2000</td>\n",
       "      <td>05</td>\n",
       "      <td>19097000</td>\n",
       "      <td>16780</td>\n",
       "    </tr>\n",
       "    <tr>\n",
       "      <th>...</th>\n",
       "      <td>...</td>\n",
       "      <td>...</td>\n",
       "      <td>...</td>\n",
       "      <td>...</td>\n",
       "    </tr>\n",
       "    <tr>\n",
       "      <th>247</th>\n",
       "      <td>2020</td>\n",
       "      <td>08</td>\n",
       "      <td>35943000</td>\n",
       "      <td>47970</td>\n",
       "    </tr>\n",
       "    <tr>\n",
       "      <th>248</th>\n",
       "      <td>2020</td>\n",
       "      <td>09</td>\n",
       "      <td>39031000</td>\n",
       "      <td>48400</td>\n",
       "    </tr>\n",
       "    <tr>\n",
       "      <th>249</th>\n",
       "      <td>2020</td>\n",
       "      <td>10</td>\n",
       "      <td>33050000</td>\n",
       "      <td>47780</td>\n",
       "    </tr>\n",
       "    <tr>\n",
       "      <th>250</th>\n",
       "      <td>2020</td>\n",
       "      <td>11</td>\n",
       "      <td>32026000</td>\n",
       "      <td>48710</td>\n",
       "    </tr>\n",
       "    <tr>\n",
       "      <th>251</th>\n",
       "      <td>2020</td>\n",
       "      <td>12</td>\n",
       "      <td>39886000</td>\n",
       "      <td>48140</td>\n",
       "    </tr>\n",
       "  </tbody>\n",
       "</table>\n",
       "<p>252 rows × 4 columns</p>\n",
       "</div>"
      ],
      "text/plain": [
       "     year month  importation  price\n",
       "0    2000    01     15869000  17558\n",
       "1    2000    02     16536000  18150\n",
       "2    2000    03     21996000  18032\n",
       "3    2000    04     18384000  16916\n",
       "4    2000    05     19097000  16780\n",
       "..    ...   ...          ...    ...\n",
       "247  2020    08     35943000  47970\n",
       "248  2020    09     39031000  48400\n",
       "249  2020    10     33050000  47780\n",
       "250  2020    11     32026000  48710\n",
       "251  2020    12     39886000  48140\n",
       "\n",
       "[252 rows x 4 columns]"
      ]
     },
     "execution_count": 43,
     "metadata": {},
     "output_type": "execute_result"
    }
   ],
   "source": [
    "result = pd.merge(df_import,df_price)\n",
    "result"
   ]
  },
  {
   "cell_type": "code",
   "execution_count": 44,
   "id": "9d815a7a",
   "metadata": {},
   "outputs": [
    {
     "data": {
      "text/html": [
       "<div>\n",
       "<style scoped>\n",
       "    .dataframe tbody tr th:only-of-type {\n",
       "        vertical-align: middle;\n",
       "    }\n",
       "\n",
       "    .dataframe tbody tr th {\n",
       "        vertical-align: top;\n",
       "    }\n",
       "\n",
       "    .dataframe thead th {\n",
       "        text-align: right;\n",
       "    }\n",
       "</style>\n",
       "<table border=\"1\" class=\"dataframe\">\n",
       "  <thead>\n",
       "    <tr style=\"text-align: right;\">\n",
       "      <th></th>\n",
       "      <th>year</th>\n",
       "      <th>month</th>\n",
       "      <th>importation</th>\n",
       "      <th>price</th>\n",
       "      <th>slaughter</th>\n",
       "    </tr>\n",
       "  </thead>\n",
       "  <tbody>\n",
       "    <tr>\n",
       "      <th>0</th>\n",
       "      <td>2000</td>\n",
       "      <td>01</td>\n",
       "      <td>15869000</td>\n",
       "      <td>17558</td>\n",
       "      <td>121079</td>\n",
       "    </tr>\n",
       "    <tr>\n",
       "      <th>1</th>\n",
       "      <td>2000</td>\n",
       "      <td>02</td>\n",
       "      <td>16536000</td>\n",
       "      <td>18150</td>\n",
       "      <td>62486</td>\n",
       "    </tr>\n",
       "    <tr>\n",
       "      <th>2</th>\n",
       "      <td>2000</td>\n",
       "      <td>03</td>\n",
       "      <td>21996000</td>\n",
       "      <td>18032</td>\n",
       "      <td>74258</td>\n",
       "    </tr>\n",
       "    <tr>\n",
       "      <th>3</th>\n",
       "      <td>2000</td>\n",
       "      <td>04</td>\n",
       "      <td>18384000</td>\n",
       "      <td>16916</td>\n",
       "      <td>68224</td>\n",
       "    </tr>\n",
       "    <tr>\n",
       "      <th>4</th>\n",
       "      <td>2000</td>\n",
       "      <td>05</td>\n",
       "      <td>19097000</td>\n",
       "      <td>16780</td>\n",
       "      <td>90450</td>\n",
       "    </tr>\n",
       "    <tr>\n",
       "      <th>...</th>\n",
       "      <td>...</td>\n",
       "      <td>...</td>\n",
       "      <td>...</td>\n",
       "      <td>...</td>\n",
       "      <td>...</td>\n",
       "    </tr>\n",
       "    <tr>\n",
       "      <th>247</th>\n",
       "      <td>2020</td>\n",
       "      <td>08</td>\n",
       "      <td>35943000</td>\n",
       "      <td>47970</td>\n",
       "      <td>75421</td>\n",
       "    </tr>\n",
       "    <tr>\n",
       "      <th>248</th>\n",
       "      <td>2020</td>\n",
       "      <td>09</td>\n",
       "      <td>39031000</td>\n",
       "      <td>48400</td>\n",
       "      <td>104952</td>\n",
       "    </tr>\n",
       "    <tr>\n",
       "      <th>249</th>\n",
       "      <td>2020</td>\n",
       "      <td>10</td>\n",
       "      <td>33050000</td>\n",
       "      <td>47780</td>\n",
       "      <td>63891</td>\n",
       "    </tr>\n",
       "    <tr>\n",
       "      <th>250</th>\n",
       "      <td>2020</td>\n",
       "      <td>11</td>\n",
       "      <td>32026000</td>\n",
       "      <td>48710</td>\n",
       "      <td>68179</td>\n",
       "    </tr>\n",
       "    <tr>\n",
       "      <th>251</th>\n",
       "      <td>2020</td>\n",
       "      <td>12</td>\n",
       "      <td>39886000</td>\n",
       "      <td>48140</td>\n",
       "      <td>76227</td>\n",
       "    </tr>\n",
       "  </tbody>\n",
       "</table>\n",
       "<p>252 rows × 5 columns</p>\n",
       "</div>"
      ],
      "text/plain": [
       "     year month  importation  price  slaughter\n",
       "0    2000    01     15869000  17558     121079\n",
       "1    2000    02     16536000  18150      62486\n",
       "2    2000    03     21996000  18032      74258\n",
       "3    2000    04     18384000  16916      68224\n",
       "4    2000    05     19097000  16780      90450\n",
       "..    ...   ...          ...    ...        ...\n",
       "247  2020    08     35943000  47970      75421\n",
       "248  2020    09     39031000  48400     104952\n",
       "249  2020    10     33050000  47780      63891\n",
       "250  2020    11     32026000  48710      68179\n",
       "251  2020    12     39886000  48140      76227\n",
       "\n",
       "[252 rows x 5 columns]"
      ]
     },
     "execution_count": 44,
     "metadata": {},
     "output_type": "execute_result"
    }
   ],
   "source": [
    "result_1 = pd.merge(result,slaughter_cow)\n",
    "result_1"
   ]
  },
  {
   "cell_type": "code",
   "execution_count": 45,
   "id": "286027aa",
   "metadata": {},
   "outputs": [],
   "source": [
    "result_1['month'] = result_1['month'].astype(str)"
   ]
  },
  {
   "cell_type": "code",
   "execution_count": 46,
   "id": "cca5f00c",
   "metadata": {},
   "outputs": [],
   "source": [
    "result_1['month'] = result_1['month'].str.zfill(2)"
   ]
  },
  {
   "cell_type": "code",
   "execution_count": 47,
   "id": "7156a311",
   "metadata": {},
   "outputs": [
    {
     "data": {
      "text/plain": [
       "0      200001\n",
       "1      200002\n",
       "2      200003\n",
       "3      200004\n",
       "4      200005\n",
       "        ...  \n",
       "247    202008\n",
       "248    202009\n",
       "249    202010\n",
       "250    202011\n",
       "251    202012\n",
       "Name: year_month, Length: 252, dtype: object"
      ]
     },
     "execution_count": 47,
     "metadata": {},
     "output_type": "execute_result"
    }
   ],
   "source": [
    "result_1['year_month'] = result_1['year'].astype(str)+result_1['month'].astype(str)\n",
    "result_1['year_month']"
   ]
  },
  {
   "cell_type": "code",
   "execution_count": 48,
   "id": "01f246bd",
   "metadata": {},
   "outputs": [],
   "source": [
    "result_1['year_month'] = result_1['year_month'].astype(int) "
   ]
  },
  {
   "cell_type": "code",
   "execution_count": 49,
   "id": "28d72b7d",
   "metadata": {},
   "outputs": [
    {
     "data": {
      "text/html": [
       "<div>\n",
       "<style scoped>\n",
       "    .dataframe tbody tr th:only-of-type {\n",
       "        vertical-align: middle;\n",
       "    }\n",
       "\n",
       "    .dataframe tbody tr th {\n",
       "        vertical-align: top;\n",
       "    }\n",
       "\n",
       "    .dataframe thead th {\n",
       "        text-align: right;\n",
       "    }\n",
       "</style>\n",
       "<table border=\"1\" class=\"dataframe\">\n",
       "  <thead>\n",
       "    <tr style=\"text-align: right;\">\n",
       "      <th></th>\n",
       "      <th>year_month</th>\n",
       "      <th>importation</th>\n",
       "      <th>price</th>\n",
       "      <th>slaughter</th>\n",
       "    </tr>\n",
       "  </thead>\n",
       "  <tbody>\n",
       "    <tr>\n",
       "      <th>0</th>\n",
       "      <td>200001</td>\n",
       "      <td>15869000</td>\n",
       "      <td>17558</td>\n",
       "      <td>121079</td>\n",
       "    </tr>\n",
       "    <tr>\n",
       "      <th>1</th>\n",
       "      <td>200002</td>\n",
       "      <td>16536000</td>\n",
       "      <td>18150</td>\n",
       "      <td>62486</td>\n",
       "    </tr>\n",
       "    <tr>\n",
       "      <th>2</th>\n",
       "      <td>200003</td>\n",
       "      <td>21996000</td>\n",
       "      <td>18032</td>\n",
       "      <td>74258</td>\n",
       "    </tr>\n",
       "    <tr>\n",
       "      <th>3</th>\n",
       "      <td>200004</td>\n",
       "      <td>18384000</td>\n",
       "      <td>16916</td>\n",
       "      <td>68224</td>\n",
       "    </tr>\n",
       "    <tr>\n",
       "      <th>4</th>\n",
       "      <td>200005</td>\n",
       "      <td>19097000</td>\n",
       "      <td>16780</td>\n",
       "      <td>90450</td>\n",
       "    </tr>\n",
       "    <tr>\n",
       "      <th>...</th>\n",
       "      <td>...</td>\n",
       "      <td>...</td>\n",
       "      <td>...</td>\n",
       "      <td>...</td>\n",
       "    </tr>\n",
       "    <tr>\n",
       "      <th>247</th>\n",
       "      <td>202008</td>\n",
       "      <td>35943000</td>\n",
       "      <td>47970</td>\n",
       "      <td>75421</td>\n",
       "    </tr>\n",
       "    <tr>\n",
       "      <th>248</th>\n",
       "      <td>202009</td>\n",
       "      <td>39031000</td>\n",
       "      <td>48400</td>\n",
       "      <td>104952</td>\n",
       "    </tr>\n",
       "    <tr>\n",
       "      <th>249</th>\n",
       "      <td>202010</td>\n",
       "      <td>33050000</td>\n",
       "      <td>47780</td>\n",
       "      <td>63891</td>\n",
       "    </tr>\n",
       "    <tr>\n",
       "      <th>250</th>\n",
       "      <td>202011</td>\n",
       "      <td>32026000</td>\n",
       "      <td>48710</td>\n",
       "      <td>68179</td>\n",
       "    </tr>\n",
       "    <tr>\n",
       "      <th>251</th>\n",
       "      <td>202012</td>\n",
       "      <td>39886000</td>\n",
       "      <td>48140</td>\n",
       "      <td>76227</td>\n",
       "    </tr>\n",
       "  </tbody>\n",
       "</table>\n",
       "<p>252 rows × 4 columns</p>\n",
       "</div>"
      ],
      "text/plain": [
       "     year_month  importation  price  slaughter\n",
       "0        200001     15869000  17558     121079\n",
       "1        200002     16536000  18150      62486\n",
       "2        200003     21996000  18032      74258\n",
       "3        200004     18384000  16916      68224\n",
       "4        200005     19097000  16780      90450\n",
       "..          ...          ...    ...        ...\n",
       "247      202008     35943000  47970      75421\n",
       "248      202009     39031000  48400     104952\n",
       "249      202010     33050000  47780      63891\n",
       "250      202011     32026000  48710      68179\n",
       "251      202012     39886000  48140      76227\n",
       "\n",
       "[252 rows x 4 columns]"
      ]
     },
     "execution_count": 49,
     "metadata": {},
     "output_type": "execute_result"
    }
   ],
   "source": [
    "result_1 = result_1[['year_month','importation','price','slaughter']]\n",
    "result_1"
   ]
  },
  {
   "cell_type": "code",
   "execution_count": 50,
   "id": "3cae47b4",
   "metadata": {},
   "outputs": [],
   "source": [
    "result_1.to_excel('result.xlsx',index=False)"
   ]
  }
 ],
 "metadata": {
  "kernelspec": {
   "display_name": "Python 3 (ipykernel)",
   "language": "python",
   "name": "python3"
  },
  "language_info": {
   "codemirror_mode": {
    "name": "ipython",
    "version": 3
   },
   "file_extension": ".py",
   "mimetype": "text/x-python",
   "name": "python",
   "nbconvert_exporter": "python",
   "pygments_lexer": "ipython3",
   "version": "3.9.12"
  }
 },
 "nbformat": 4,
 "nbformat_minor": 5
}
